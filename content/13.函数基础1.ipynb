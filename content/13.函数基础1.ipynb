{
 "cells": [
  {
   "cell_type": "markdown",
   "id": "4efd790e",
   "metadata": {},
   "source": [
    "## 1.函数的定义："
   ]
  },
  {
   "cell_type": "code",
   "execution_count": 1,
   "id": "9f754666",
   "metadata": {},
   "outputs": [],
   "source": [
    "def simple_func(x,y,z):\n",
    "    return x,y,z"
   ]
  },
  {
   "cell_type": "code",
   "execution_count": null,
   "id": "56a0ecb3",
   "metadata": {},
   "outputs": [],
   "source": []
  },
  {
   "cell_type": "markdown",
   "id": "97df2e96",
   "metadata": {},
   "source": [
    "## 2.函数的调用："
   ]
  },
  {
   "cell_type": "markdown",
   "id": "4046a005",
   "metadata": {},
   "source": [
    "### 2.1 位置实参："
   ]
  },
  {
   "cell_type": "code",
   "execution_count": 2,
   "id": "e4f27a7d",
   "metadata": {
    "scrolled": true
   },
   "outputs": [
    {
     "data": {
      "text/plain": [
       "(1, 2, 3)"
      ]
     },
     "execution_count": 2,
     "metadata": {},
     "output_type": "execute_result"
    }
   ],
   "source": [
    "simple_func(1,2,3)"
   ]
  },
  {
   "cell_type": "markdown",
   "id": "9430afdf",
   "metadata": {},
   "source": [
    "### 2.2 关键字实参："
   ]
  },
  {
   "cell_type": "code",
   "execution_count": 3,
   "id": "591d3999",
   "metadata": {},
   "outputs": [
    {
     "data": {
      "text/plain": [
       "(1, 2, 3)"
      ]
     },
     "execution_count": 3,
     "metadata": {},
     "output_type": "execute_result"
    }
   ],
   "source": [
    "simple_func(x=1,z=3,y=2)"
   ]
  },
  {
   "cell_type": "markdown",
   "id": "88e24cee",
   "metadata": {},
   "source": [
    "## 3.函数的参数传递："
   ]
  },
  {
   "cell_type": "markdown",
   "id": "967fd7ba",
   "metadata": {},
   "source": [
    "### 3.1 可选参数："
   ]
  },
  {
   "cell_type": "code",
   "execution_count": 4,
   "id": "a088fbb9",
   "metadata": {},
   "outputs": [],
   "source": [
    "def multiple_copy(x , times=3):\n",
    "    return (str(x) + '-') * times"
   ]
  },
  {
   "cell_type": "code",
   "execution_count": 5,
   "id": "7f7a55a0",
   "metadata": {},
   "outputs": [
    {
     "data": {
      "text/plain": [
       "'123-123-123-'"
      ]
     },
     "execution_count": 5,
     "metadata": {},
     "output_type": "execute_result"
    }
   ],
   "source": [
    "multiple_copy(123)"
   ]
  },
  {
   "cell_type": "code",
   "execution_count": 6,
   "id": "16207be7",
   "metadata": {},
   "outputs": [
    {
     "data": {
      "text/plain": [
       "'字符串-字符串-'"
      ]
     },
     "execution_count": 6,
     "metadata": {},
     "output_type": "execute_result"
    }
   ],
   "source": [
    "multiple_copy('字符串' , times=2)"
   ]
  },
  {
   "cell_type": "markdown",
   "id": "8f81e81a",
   "metadata": {},
   "source": [
    "### 3.1 可变数量参数："
   ]
  },
  {
   "cell_type": "code",
   "execution_count": 7,
   "id": "ef77942a",
   "metadata": {},
   "outputs": [],
   "source": [
    "# 使用一个星号（*args）代表非键值对的可变数量的参数"
   ]
  },
  {
   "cell_type": "code",
   "execution_count": 8,
   "id": "cad8d847",
   "metadata": {},
   "outputs": [],
   "source": [
    "def cumulative_sum(x , *args):\n",
    "    print(type(args))\n",
    "    print(args)\n",
    "    for i in args:\n",
    "        x = x + i\n",
    "    return x"
   ]
  },
  {
   "cell_type": "code",
   "execution_count": 9,
   "id": "9b9b493c",
   "metadata": {},
   "outputs": [
    {
     "name": "stdout",
     "output_type": "stream",
     "text": [
      "<class 'tuple'>\n",
      "()\n"
     ]
    },
    {
     "data": {
      "text/plain": [
       "10"
      ]
     },
     "execution_count": 9,
     "metadata": {},
     "output_type": "execute_result"
    }
   ],
   "source": [
    "cumulative_sum(10)"
   ]
  },
  {
   "cell_type": "code",
   "execution_count": 10,
   "id": "67547dd6",
   "metadata": {},
   "outputs": [
    {
     "name": "stdout",
     "output_type": "stream",
     "text": [
      "<class 'tuple'>\n",
      "(2, 3)\n"
     ]
    },
    {
     "data": {
      "text/plain": [
       "15"
      ]
     },
     "execution_count": 10,
     "metadata": {},
     "output_type": "execute_result"
    }
   ],
   "source": [
    "cumulative_sum(10 , 2 , 3)"
   ]
  },
  {
   "cell_type": "code",
   "execution_count": 11,
   "id": "3da03d17",
   "metadata": {},
   "outputs": [
    {
     "name": "stdout",
     "output_type": "stream",
     "text": [
      "<class 'tuple'>\n",
      "(2, 3, 4)\n"
     ]
    },
    {
     "data": {
      "text/plain": [
       "19"
      ]
     },
     "execution_count": 11,
     "metadata": {},
     "output_type": "execute_result"
    }
   ],
   "source": [
    "cumulative_sum(10 , 2 , 3 , 4)"
   ]
  },
  {
   "cell_type": "code",
   "execution_count": 12,
   "id": "f8d75ed0",
   "metadata": {},
   "outputs": [],
   "source": [
    "# 使用两个星号（**kwargs）代表可变数量的键值对参数"
   ]
  },
  {
   "cell_type": "code",
   "execution_count": 13,
   "id": "a9e86642",
   "metadata": {},
   "outputs": [],
   "source": [
    "def message(**kwargs):\n",
    "    print(type(kwargs))\n",
    "    print(kwargs)\n",
    "    for k , v in kwargs.items():\n",
    "        print(f'键：{k}，值：{v}')"
   ]
  },
  {
   "cell_type": "code",
   "execution_count": 14,
   "id": "64af278c",
   "metadata": {},
   "outputs": [
    {
     "name": "stdout",
     "output_type": "stream",
     "text": [
      "<class 'dict'>\n",
      "{'name': 'Tom', 'age': 10}\n",
      "键：name，值：Tom\n",
      "键：age，值：10\n"
     ]
    }
   ],
   "source": [
    "message(name='Tom',age=10)"
   ]
  },
  {
   "cell_type": "markdown",
   "id": "2f0eacfa",
   "metadata": {},
   "source": [
    "## 4.函数的文档字符串："
   ]
  },
  {
   "cell_type": "code",
   "execution_count": 15,
   "id": "763a41d4",
   "metadata": {},
   "outputs": [],
   "source": [
    "def determine_num(num):\n",
    "    '''判断输入数字的奇偶。\n",
    "    \n",
    "    num参数必须为正整数。'''\n",
    "    if num % 2 ==0:\n",
    "        print(f'{num}为偶数。')\n",
    "    else:\n",
    "        print(f'{num}为奇数。')"
   ]
  },
  {
   "cell_type": "code",
   "execution_count": 16,
   "id": "85fbd968",
   "metadata": {},
   "outputs": [
    {
     "name": "stdout",
     "output_type": "stream",
     "text": [
      "5为奇数。\n"
     ]
    }
   ],
   "source": [
    "determine_num(5)"
   ]
  },
  {
   "cell_type": "code",
   "execution_count": 17,
   "id": "bee65cc5",
   "metadata": {},
   "outputs": [
    {
     "name": "stdout",
     "output_type": "stream",
     "text": [
      "Help on function determine_num in module __main__:\n",
      "\n",
      "determine_num(num)\n",
      "    判断输入数字的奇偶。\n",
      "    \n",
      "    num参数必须为正整数。\n",
      "\n"
     ]
    }
   ],
   "source": [
    "help(determine_num)"
   ]
  },
  {
   "cell_type": "code",
   "execution_count": 18,
   "id": "38e27ebf",
   "metadata": {},
   "outputs": [
    {
     "data": {
      "text/plain": [
       "'判断输入数字的奇偶。\\n    \\n    num参数必须为正整数。'"
      ]
     },
     "execution_count": 18,
     "metadata": {},
     "output_type": "execute_result"
    }
   ],
   "source": [
    "determine_num.__doc__"
   ]
  },
  {
   "cell_type": "markdown",
   "id": "dd2d6968",
   "metadata": {},
   "source": [
    "## 5.函数对变量的作用"
   ]
  },
  {
   "cell_type": "code",
   "execution_count": 19,
   "id": "5d96fd6a",
   "metadata": {},
   "outputs": [],
   "source": [
    "# 简单数据类型变量无论是否与全局变量重名，仅在函数内部创建和使用，函数退出后变量被释放，如有全局同名变量，其值不变。"
   ]
  },
  {
   "cell_type": "code",
   "execution_count": 20,
   "id": "b5d6b55c",
   "metadata": {},
   "outputs": [],
   "source": [
    "n = 10 # n为全局变量\n",
    "def func(x , y):\n",
    "    z = x + y # z为局部变量\n",
    "    n = z # 函数内部的变量n是在函数内存中新生成的局部变量\n",
    "    return z"
   ]
  },
  {
   "cell_type": "code",
   "execution_count": 21,
   "id": "25967438",
   "metadata": {},
   "outputs": [
    {
     "data": {
      "text/plain": [
       "(3, 10)"
      ]
     },
     "execution_count": 21,
     "metadata": {},
     "output_type": "execute_result"
    }
   ],
   "source": [
    "func(1,2) , n"
   ]
  },
  {
   "cell_type": "code",
   "execution_count": 22,
   "id": "a501bef4",
   "metadata": {},
   "outputs": [],
   "source": [
    "# 简单数据类型变量在使用global保留字声明后，将作为全局变量使用，函数退出后该变量保留且值被函数改变。"
   ]
  },
  {
   "cell_type": "code",
   "execution_count": 23,
   "id": "bb707588",
   "metadata": {},
   "outputs": [],
   "source": [
    "n = 10 # n为全局变量\n",
    "def func(x , y):\n",
    "    global n # 显式声明变量n为全局变量\n",
    "    z = x + y # z为局部变量\n",
    "    n = z # 将局部变量z的值赋值给全局变量n\n",
    "    return z"
   ]
  },
  {
   "cell_type": "code",
   "execution_count": 24,
   "id": "32aa5d14",
   "metadata": {},
   "outputs": [
    {
     "data": {
      "text/plain": [
       "(3, 3)"
      ]
     },
     "execution_count": 24,
     "metadata": {},
     "output_type": "execute_result"
    }
   ],
   "source": [
    "func(1,2) , n"
   ]
  },
  {
   "cell_type": "code",
   "execution_count": 25,
   "id": "813e37f6",
   "metadata": {},
   "outputs": [],
   "source": [
    "# 对于组合数据类型的全局变量，如果在函数内部没有被真实创建的同名变量，则函数内部可以直接使用并修改全局变量的值。"
   ]
  },
  {
   "cell_type": "code",
   "execution_count": 26,
   "id": "439a3895",
   "metadata": {},
   "outputs": [],
   "source": [
    "ls = [] # ls为全局列表变量\n",
    "def func(x , y):\n",
    "    z = x + y # z为局部变量\n",
    "    ls.append(z) # 将局部变量z的值添加到全局列表变量ls中\n",
    "    return z"
   ]
  },
  {
   "cell_type": "code",
   "execution_count": 27,
   "id": "fc4fa92d",
   "metadata": {},
   "outputs": [
    {
     "data": {
      "text/plain": [
       "(3, [3])"
      ]
     },
     "execution_count": 27,
     "metadata": {},
     "output_type": "execute_result"
    }
   ],
   "source": [
    "func(1,2) , ls"
   ]
  },
  {
   "cell_type": "code",
   "execution_count": 28,
   "id": "e144689c",
   "metadata": {},
   "outputs": [],
   "source": [
    "# 如果函数内部真实创建了组合数据类型变量，无论是否有同名全局变量，函数仅对局部变量进行操作，函数退出后局部变量被释放，全局变量值不改变。"
   ]
  },
  {
   "cell_type": "code",
   "execution_count": 29,
   "id": "10df8894",
   "metadata": {},
   "outputs": [],
   "source": [
    "ls = [] # ls为全局列表变量\n",
    "def func(x , y):\n",
    "    ls = [] # 创建名为ls的局部列表变量\n",
    "    z = x + y # z为局部变量\n",
    "    ls.append(z) # # 将局部变量z的值添加到局部列表变量ls中\n",
    "    return z"
   ]
  },
  {
   "cell_type": "code",
   "execution_count": 30,
   "id": "e2b5396a",
   "metadata": {},
   "outputs": [
    {
     "data": {
      "text/plain": [
       "(3, [])"
      ]
     },
     "execution_count": 30,
     "metadata": {},
     "output_type": "execute_result"
    }
   ],
   "source": [
    "func(1,2) , ls"
   ]
  },
  {
   "cell_type": "code",
   "execution_count": null,
   "id": "e1997f06",
   "metadata": {},
   "outputs": [],
   "source": []
  },
  {
   "cell_type": "code",
   "execution_count": null,
   "id": "256425e9",
   "metadata": {},
   "outputs": [],
   "source": []
  }
 ],
 "metadata": {
  "kernelspec": {
   "display_name": "Python 3 (ipykernel)",
   "language": "python",
   "name": "python3"
  },
  "language_info": {
   "codemirror_mode": {
    "name": "ipython",
    "version": 3
   },
   "file_extension": ".py",
   "mimetype": "text/x-python",
   "name": "python",
   "nbconvert_exporter": "python",
   "pygments_lexer": "ipython3",
   "version": "3.9.12"
  }
 },
 "nbformat": 4,
 "nbformat_minor": 5
}
