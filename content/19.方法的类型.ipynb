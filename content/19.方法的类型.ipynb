{
 "cells": [
  {
   "cell_type": "markdown",
   "id": "56eeb17d",
   "metadata": {},
   "source": [
    "## 1.实例方法："
   ]
  },
  {
   "cell_type": "code",
   "execution_count": 1,
   "id": "be4b5099",
   "metadata": {},
   "outputs": [],
   "source": [
    "# 定义一个类\n",
    "class Student:\n",
    "    def __init__(self , name , age):\n",
    "        self.name = name\n",
    "        self.age = age\n",
    "        \n",
    "    def student_info(self):\n",
    "        return f\"新增学生姓名：{self.name}，年龄：{self.age}。\""
   ]
  },
  {
   "cell_type": "code",
   "execution_count": 2,
   "id": "7237f53a",
   "metadata": {},
   "outputs": [],
   "source": [
    "# 实例化一个对象\n",
    "a_student = Student('Tom' , '12')"
   ]
  },
  {
   "cell_type": "code",
   "execution_count": 3,
   "id": "2fefdea4",
   "metadata": {},
   "outputs": [
    {
     "data": {
      "text/plain": [
       "'新增学生姓名：Tom，年龄：12。'"
      ]
     },
     "execution_count": 3,
     "metadata": {},
     "output_type": "execute_result"
    }
   ],
   "source": [
    "# 调用实例方法\n",
    "a_student.student_info()"
   ]
  },
  {
   "cell_type": "markdown",
   "id": "7b8c2ded",
   "metadata": {},
   "source": [
    "## 2.类方法："
   ]
  },
  {
   "cell_type": "code",
   "execution_count": 4,
   "id": "79a29d1c",
   "metadata": {},
   "outputs": [],
   "source": [
    "# 定义一个类\n",
    "class Student:\n",
    "    students_level = 0\n",
    "    \n",
    "    def __init__(self , name , age):\n",
    "        self.name = name\n",
    "        self.age = age\n",
    "        \n",
    "    def student_info(self):\n",
    "        return f\"新增学生姓名：{self.name}，年龄：{self.age}。\"\n",
    "    \n",
    "    @classmethod\n",
    "    def set_level(cls , level):\n",
    "        cls.students_level = level\n",
    "        return level"
   ]
  },
  {
   "cell_type": "code",
   "execution_count": 5,
   "id": "819c8d47",
   "metadata": {},
   "outputs": [],
   "source": [
    "# 实例化对象\n",
    "student_1 = Student('Tom' , '12')\n",
    "student_2 = Student('Lucy' , '11')"
   ]
  },
  {
   "cell_type": "code",
   "execution_count": 6,
   "id": "2b1cba50",
   "metadata": {},
   "outputs": [
    {
     "data": {
      "text/plain": [
       "('新增学生姓名：Tom，年龄：12。', '新增学生姓名：Lucy，年龄：11。')"
      ]
     },
     "execution_count": 6,
     "metadata": {},
     "output_type": "execute_result"
    }
   ],
   "source": [
    "# 调用实例方法\n",
    "student_1.student_info() , student_2.student_info()"
   ]
  },
  {
   "cell_type": "code",
   "execution_count": 7,
   "id": "045970e7",
   "metadata": {},
   "outputs": [
    {
     "data": {
      "text/plain": [
       "(0, 0)"
      ]
     },
     "execution_count": 7,
     "metadata": {},
     "output_type": "execute_result"
    }
   ],
   "source": [
    "# 调用类属性\n",
    "student_1.students_level , student_2.students_level"
   ]
  },
  {
   "cell_type": "code",
   "execution_count": 8,
   "id": "d01944eb",
   "metadata": {},
   "outputs": [
    {
     "data": {
      "text/plain": [
       "2"
      ]
     },
     "execution_count": 8,
     "metadata": {},
     "output_type": "execute_result"
    }
   ],
   "source": [
    "# 调用类方法\n",
    "Student.set_level(2)"
   ]
  },
  {
   "cell_type": "code",
   "execution_count": 9,
   "id": "5e933291",
   "metadata": {},
   "outputs": [
    {
     "data": {
      "text/plain": [
       "(2, 2)"
      ]
     },
     "execution_count": 9,
     "metadata": {},
     "output_type": "execute_result"
    }
   ],
   "source": [
    "# 调用类属性\n",
    "student_1.students_level , student_2.students_level"
   ]
  },
  {
   "cell_type": "code",
   "execution_count": 10,
   "id": "31030a32",
   "metadata": {},
   "outputs": [
    {
     "data": {
      "text/plain": [
       "3"
      ]
     },
     "execution_count": 10,
     "metadata": {},
     "output_type": "execute_result"
    }
   ],
   "source": [
    "# 调用类方法\n",
    "student_1.set_level(3)"
   ]
  },
  {
   "cell_type": "code",
   "execution_count": 11,
   "id": "e64fce79",
   "metadata": {},
   "outputs": [
    {
     "data": {
      "text/plain": [
       "(3, 3)"
      ]
     },
     "execution_count": 11,
     "metadata": {},
     "output_type": "execute_result"
    }
   ],
   "source": [
    "# 调用类属性\n",
    "student_1.students_level , student_2.students_level"
   ]
  },
  {
   "cell_type": "markdown",
   "id": "5fbc031c",
   "metadata": {},
   "source": [
    "## 3.静态方法："
   ]
  },
  {
   "cell_type": "code",
   "execution_count": 12,
   "id": "66a616c7",
   "metadata": {},
   "outputs": [],
   "source": [
    "# 定义一个类\n",
    "class Student:\n",
    "    students_level = 0\n",
    "    \n",
    "    def __init__(self , name , age):\n",
    "        self.name = name\n",
    "        self.age = age\n",
    "        \n",
    "    def student_info(self):\n",
    "        return f\"新增学生姓名：{self.name}，年龄：{self.age}。\"\n",
    "    \n",
    "    @classmethod\n",
    "    def set_level(cls , level):\n",
    "        cls.students_level = level\n",
    "        return level\n",
    "    \n",
    "    @staticmethod\n",
    "    def school_info(name=\"光明小学\"):\n",
    "        return f\"学校名称：{name}。\""
   ]
  },
  {
   "cell_type": "code",
   "execution_count": 13,
   "id": "806de201",
   "metadata": {},
   "outputs": [],
   "source": [
    "# 实例化对象\n",
    "student_1 = Student('Tom' , '12')\n",
    "student_2 = Student('Lucy' , '11')"
   ]
  },
  {
   "cell_type": "code",
   "execution_count": 14,
   "id": "6eda0cf1",
   "metadata": {},
   "outputs": [
    {
     "data": {
      "text/plain": [
       "('新增学生姓名：Tom，年龄：12。', '新增学生姓名：Lucy，年龄：11。')"
      ]
     },
     "execution_count": 14,
     "metadata": {},
     "output_type": "execute_result"
    }
   ],
   "source": [
    "# 调用实例方法\n",
    "student_1.student_info() , student_2.student_info()"
   ]
  },
  {
   "cell_type": "code",
   "execution_count": 15,
   "id": "cea346f9",
   "metadata": {},
   "outputs": [
    {
     "data": {
      "text/plain": [
       "'学校名称：光明小学。'"
      ]
     },
     "execution_count": 15,
     "metadata": {},
     "output_type": "execute_result"
    }
   ],
   "source": [
    "# 调用方法\n",
    "student_1.school_info()"
   ]
  },
  {
   "cell_type": "code",
   "execution_count": 16,
   "id": "d70927e0",
   "metadata": {},
   "outputs": [
    {
     "data": {
      "text/plain": [
       "'学校名称：东方小学。'"
      ]
     },
     "execution_count": 16,
     "metadata": {},
     "output_type": "execute_result"
    }
   ],
   "source": [
    "# 调用方法\n",
    "student_2.school_info(\"东方小学\")"
   ]
  },
  {
   "cell_type": "code",
   "execution_count": null,
   "id": "46b911e1",
   "metadata": {},
   "outputs": [],
   "source": []
  },
  {
   "cell_type": "code",
   "execution_count": null,
   "id": "f08ea0db",
   "metadata": {},
   "outputs": [],
   "source": []
  }
 ],
 "metadata": {
  "kernelspec": {
   "display_name": "Python 3 (ipykernel)",
   "language": "python",
   "name": "python3"
  },
  "language_info": {
   "codemirror_mode": {
    "name": "ipython",
    "version": 3
   },
   "file_extension": ".py",
   "mimetype": "text/x-python",
   "name": "python",
   "nbconvert_exporter": "python",
   "pygments_lexer": "ipython3",
   "version": "3.9.12"
  }
 },
 "nbformat": 4,
 "nbformat_minor": 5
}
