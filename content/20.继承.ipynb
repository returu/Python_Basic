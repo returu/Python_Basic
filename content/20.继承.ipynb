{
 "cells": [
  {
   "cell_type": "markdown",
   "id": "b06b6e82",
   "metadata": {},
   "source": [
    "## 1.单继承："
   ]
  },
  {
   "cell_type": "code",
   "execution_count": 1,
   "id": "fbc52e64",
   "metadata": {},
   "outputs": [],
   "source": [
    "# 定义一个类\n",
    "class Vehicle:\n",
    "    Chinese_translation = \"交通工具\"\n",
    "    \n",
    "    def __init__(self , category):\n",
    "        self.category = category\n",
    "        \n",
    "    def get_info(self):\n",
    "        return f\"交通工具类别为：{self.category}。\""
   ]
  },
  {
   "cell_type": "code",
   "execution_count": 2,
   "id": "bed47f6a",
   "metadata": {},
   "outputs": [],
   "source": [
    "# 从父类继承\n",
    "class Car(Vehicle):\n",
    "    pass"
   ]
  },
  {
   "cell_type": "code",
   "execution_count": 3,
   "id": "cd3e4de3",
   "metadata": {},
   "outputs": [],
   "source": [
    "a_car = Car(\"小汽车\")"
   ]
  },
  {
   "cell_type": "code",
   "execution_count": 4,
   "id": "8bbce033",
   "metadata": {},
   "outputs": [
    {
     "data": {
      "text/plain": [
       "'交通工具类别为：小汽车。'"
      ]
     },
     "execution_count": 4,
     "metadata": {},
     "output_type": "execute_result"
    }
   ],
   "source": [
    "a_car.get_info()"
   ]
  },
  {
   "cell_type": "code",
   "execution_count": 5,
   "id": "eee6da4a",
   "metadata": {},
   "outputs": [
    {
     "data": {
      "text/plain": [
       "'交通工具'"
      ]
     },
     "execution_count": 5,
     "metadata": {},
     "output_type": "execute_result"
    }
   ],
   "source": [
    "a_car.Chinese_translation"
   ]
  },
  {
   "cell_type": "markdown",
   "id": "3d34d835",
   "metadata": {},
   "source": [
    "## 2.添加方法："
   ]
  },
  {
   "cell_type": "code",
   "execution_count": 6,
   "id": "ca66ab1f",
   "metadata": {},
   "outputs": [],
   "source": [
    "# 定义一个类\n",
    "class Vehicle:\n",
    "    \n",
    "    def __init__(self , category):\n",
    "        self.category = category\n",
    "        \n",
    "    def get_info(self):\n",
    "        return f\"交通工具类别为：{self.category}。\""
   ]
  },
  {
   "cell_type": "code",
   "execution_count": 7,
   "id": "630dad5a",
   "metadata": {},
   "outputs": [],
   "source": [
    "# 从父类继承并添加新方法\n",
    "class Car(Vehicle):\n",
    "    def description(self):\n",
    "        print(\"这是子类中添加的方法。\")"
   ]
  },
  {
   "cell_type": "code",
   "execution_count": 8,
   "id": "cb1df1d1",
   "metadata": {},
   "outputs": [],
   "source": [
    "a_car = Car(\"小汽车\")"
   ]
  },
  {
   "cell_type": "code",
   "execution_count": 9,
   "id": "9c4c2377",
   "metadata": {},
   "outputs": [
    {
     "data": {
      "text/plain": [
       "'交通工具类别为：小汽车。'"
      ]
     },
     "execution_count": 9,
     "metadata": {},
     "output_type": "execute_result"
    }
   ],
   "source": [
    "a_car.get_info()"
   ]
  },
  {
   "cell_type": "code",
   "execution_count": 10,
   "id": "dc0fe874",
   "metadata": {},
   "outputs": [
    {
     "name": "stdout",
     "output_type": "stream",
     "text": [
      "这是子类中添加的方法。\n"
     ]
    }
   ],
   "source": [
    "a_car.description()"
   ]
  },
  {
   "cell_type": "markdown",
   "id": "9ca8620d",
   "metadata": {},
   "source": [
    "## 3.覆盖方法："
   ]
  },
  {
   "cell_type": "markdown",
   "id": "4d2959ac",
   "metadata": {},
   "source": [
    "### 3.1 覆盖实例方法："
   ]
  },
  {
   "cell_type": "code",
   "execution_count": 11,
   "id": "8c573e33",
   "metadata": {},
   "outputs": [],
   "source": [
    "# 定义一个类\n",
    "class Vehicle:\n",
    "    \n",
    "    def __init__(self , category):\n",
    "        self.category = category\n",
    "        \n",
    "    def get_info(self):\n",
    "        return f\"交通工具类别为：{self.category}。\""
   ]
  },
  {
   "cell_type": "code",
   "execution_count": 12,
   "id": "9233753b",
   "metadata": {},
   "outputs": [],
   "source": [
    "# 从父类继承\n",
    "class Car(Vehicle):\n",
    "    def description(self):\n",
    "        print(\"这是子类中添加的方法。\")\n",
    "        \n",
    "    def get_info(self , brand):\n",
    "        return f\"这是一辆品牌为{brand}的{self.category}。\""
   ]
  },
  {
   "cell_type": "code",
   "execution_count": 13,
   "id": "eb61310a",
   "metadata": {},
   "outputs": [],
   "source": [
    "a_car = Car(\"小汽车\")"
   ]
  },
  {
   "cell_type": "code",
   "execution_count": 14,
   "id": "4cd96d90",
   "metadata": {},
   "outputs": [
    {
     "data": {
      "text/plain": [
       "'这是一辆品牌为Audi的小汽车。'"
      ]
     },
     "execution_count": 14,
     "metadata": {},
     "output_type": "execute_result"
    }
   ],
   "source": [
    "a_car.get_info(\"Audi\")"
   ]
  },
  {
   "cell_type": "markdown",
   "id": "d1b8d416",
   "metadata": {},
   "source": [
    "### 3.2 调用被覆盖的父类方法："
   ]
  },
  {
   "cell_type": "code",
   "execution_count": 15,
   "id": "5253dbd9",
   "metadata": {},
   "outputs": [],
   "source": [
    "# 定义一个类\n",
    "class Vehicle:\n",
    "    \n",
    "    def __init__(self , category):\n",
    "        self.category = category\n",
    "        \n",
    "    def get_info(self):\n",
    "        return f\"交通工具类别为：{self.category}。\""
   ]
  },
  {
   "cell_type": "code",
   "execution_count": 16,
   "id": "597f1a3d",
   "metadata": {},
   "outputs": [],
   "source": [
    "# 从父类继承\n",
    "class Car(Vehicle):\n",
    "    def description(self):\n",
    "        print(\"这是子类\")\n",
    "        \n",
    "    def get_info(self , brand):\n",
    "        print(\"调用父类中被子类覆盖的方法——\" , Vehicle.get_info(self))\n",
    "        return f\"这是一辆品牌为{brand}的{self.category}。\""
   ]
  },
  {
   "cell_type": "code",
   "execution_count": 17,
   "id": "91bdefc6",
   "metadata": {},
   "outputs": [],
   "source": [
    "a_car = Car(\"小汽车\")"
   ]
  },
  {
   "cell_type": "code",
   "execution_count": 18,
   "id": "7836092f",
   "metadata": {},
   "outputs": [
    {
     "name": "stdout",
     "output_type": "stream",
     "text": [
      "调用父类中被子类覆盖的方法—— 交通工具类别为：小汽车。\n"
     ]
    },
    {
     "data": {
      "text/plain": [
       "'这是一辆品牌为Audi的小汽车。'"
      ]
     },
     "execution_count": 18,
     "metadata": {},
     "output_type": "execute_result"
    }
   ],
   "source": [
    "a_car.get_info(\"Audi\")"
   ]
  },
  {
   "cell_type": "markdown",
   "id": "327a2abc",
   "metadata": {},
   "source": [
    "### 3.3 覆盖初始化方法："
   ]
  },
  {
   "cell_type": "code",
   "execution_count": 19,
   "id": "7d2f23d0",
   "metadata": {},
   "outputs": [],
   "source": [
    "# 定义一个类\n",
    "class Vehicle:\n",
    "    \n",
    "    def __init__(self , category):\n",
    "        self.category = category\n",
    "        \n",
    "    def get_info(self):\n",
    "        return f\"交通工具类别为：{self.category}。\""
   ]
  },
  {
   "cell_type": "code",
   "execution_count": 20,
   "id": "3f6a7ffd",
   "metadata": {},
   "outputs": [],
   "source": [
    "# 从父类继承\n",
    "class Car(Vehicle):\n",
    "    def __init__(self , category):\n",
    "        self.category = chr(8730) + category + chr(8730)\n",
    "        \n",
    "    def get_info(self , brand):\n",
    "        return f\"这是一辆品牌为{brand}的{self.category}。\""
   ]
  },
  {
   "cell_type": "code",
   "execution_count": 21,
   "id": "80771789",
   "metadata": {},
   "outputs": [],
   "source": [
    "a_car = Car(\"小汽车\" )"
   ]
  },
  {
   "cell_type": "code",
   "execution_count": 22,
   "id": "a9d70617",
   "metadata": {
    "scrolled": true
   },
   "outputs": [
    {
     "data": {
      "text/plain": [
       "'这是一辆品牌为Audi的√小汽车√。'"
      ]
     },
     "execution_count": 22,
     "metadata": {},
     "output_type": "execute_result"
    }
   ],
   "source": [
    "a_car.get_info(\"Audi\")"
   ]
  },
  {
   "cell_type": "markdown",
   "id": "9e7b8a00",
   "metadata": {},
   "source": [
    "## 4.多重继承："
   ]
  },
  {
   "cell_type": "code",
   "execution_count": 23,
   "id": "853cad53",
   "metadata": {},
   "outputs": [],
   "source": [
    "class Vehicle:\n",
    "    def get_info(self):\n",
    "        return \"Vehicle类。\""
   ]
  },
  {
   "cell_type": "code",
   "execution_count": 24,
   "id": "19604d6e",
   "metadata": {},
   "outputs": [],
   "source": [
    "class Car(Vehicle):\n",
    "    pass"
   ]
  },
  {
   "cell_type": "code",
   "execution_count": 25,
   "id": "4cf2bb73",
   "metadata": {},
   "outputs": [],
   "source": [
    "class AI():\n",
    "    def get_info(self):\n",
    "        return \"AI类。\""
   ]
  },
  {
   "cell_type": "code",
   "execution_count": 26,
   "id": "26be239c",
   "metadata": {},
   "outputs": [],
   "source": [
    "class AutonomousCar(Car , AI):\n",
    "    pass"
   ]
  },
  {
   "cell_type": "code",
   "execution_count": 27,
   "id": "229642ec",
   "metadata": {},
   "outputs": [
    {
     "data": {
      "text/plain": [
       "[__main__.AutonomousCar, __main__.Car, __main__.Vehicle, __main__.AI, object]"
      ]
     },
     "execution_count": 27,
     "metadata": {},
     "output_type": "execute_result"
    }
   ],
   "source": [
    "AutonomousCar.mro()"
   ]
  },
  {
   "cell_type": "code",
   "execution_count": 28,
   "id": "46aadb6f",
   "metadata": {},
   "outputs": [],
   "source": [
    "autonomous_car = AutonomousCar()"
   ]
  },
  {
   "cell_type": "code",
   "execution_count": 29,
   "id": "26ed6f50",
   "metadata": {},
   "outputs": [
    {
     "data": {
      "text/plain": [
       "'Vehicle类。'"
      ]
     },
     "execution_count": 29,
     "metadata": {},
     "output_type": "execute_result"
    }
   ],
   "source": [
    "autonomous_car.get_info()"
   ]
  },
  {
   "cell_type": "markdown",
   "id": "fff17df3",
   "metadata": {},
   "source": [
    "### 4.1 调换父类传递顺序："
   ]
  },
  {
   "cell_type": "code",
   "execution_count": 30,
   "id": "b9d4ffe5",
   "metadata": {},
   "outputs": [],
   "source": [
    "class AutonomousCar2(AI , Car):\n",
    "    pass"
   ]
  },
  {
   "cell_type": "code",
   "execution_count": 31,
   "id": "dbd0eb0d",
   "metadata": {},
   "outputs": [
    {
     "data": {
      "text/plain": [
       "[__main__.AutonomousCar2, __main__.AI, __main__.Car, __main__.Vehicle, object]"
      ]
     },
     "execution_count": 31,
     "metadata": {},
     "output_type": "execute_result"
    }
   ],
   "source": [
    "AutonomousCar2.mro()"
   ]
  },
  {
   "cell_type": "code",
   "execution_count": 32,
   "id": "82d56978",
   "metadata": {},
   "outputs": [],
   "source": [
    "autonomous_car_2 = AutonomousCar2()"
   ]
  },
  {
   "cell_type": "code",
   "execution_count": 33,
   "id": "65cdfe72",
   "metadata": {},
   "outputs": [
    {
     "data": {
      "text/plain": [
       "'AI类。'"
      ]
     },
     "execution_count": 33,
     "metadata": {},
     "output_type": "execute_result"
    }
   ],
   "source": [
    "autonomous_car_2.get_info()"
   ]
  },
  {
   "cell_type": "markdown",
   "id": "da520c74",
   "metadata": {},
   "source": [
    "## 5.super()函数："
   ]
  },
  {
   "cell_type": "markdown",
   "id": "c3b731f7",
   "metadata": {},
   "source": [
    "### 5.1 应用方式："
   ]
  },
  {
   "cell_type": "markdown",
   "id": "0310f307",
   "metadata": {},
   "source": [
    "#### 实例方法"
   ]
  },
  {
   "cell_type": "code",
   "execution_count": 34,
   "id": "9c8901fd",
   "metadata": {},
   "outputs": [],
   "source": [
    "# 定义一个类\n",
    "class Vehicle:\n",
    "    \n",
    "    def __init__(self , category):\n",
    "        self.category = category\n",
    "        \n",
    "    def get_info(self):\n",
    "        return f\"交通工具类别为：{self.category}。\""
   ]
  },
  {
   "cell_type": "code",
   "execution_count": 35,
   "id": "31796901",
   "metadata": {},
   "outputs": [],
   "source": [
    "# 从父类继承\n",
    "class Car(Vehicle):\n",
    "    def description(self):\n",
    "        print(\"这是子类\")\n",
    "        \n",
    "    def get_info(self , brand):\n",
    "        print(\"调用父类中被子类覆盖的方法——\" , super().get_info()) # 修改部分\n",
    "        return f\"这是一辆品牌为{brand}的{self.category}。\""
   ]
  },
  {
   "cell_type": "code",
   "execution_count": 36,
   "id": "a48238ee",
   "metadata": {},
   "outputs": [],
   "source": [
    "a_car = Car(\"小汽车\")"
   ]
  },
  {
   "cell_type": "code",
   "execution_count": 37,
   "id": "cec76090",
   "metadata": {},
   "outputs": [
    {
     "name": "stdout",
     "output_type": "stream",
     "text": [
      "调用父类中被子类覆盖的方法—— 交通工具类别为：小汽车。\n"
     ]
    },
    {
     "data": {
      "text/plain": [
       "'这是一辆品牌为Audi的小汽车。'"
      ]
     },
     "execution_count": 37,
     "metadata": {},
     "output_type": "execute_result"
    }
   ],
   "source": [
    "a_car.get_info(\"Audi\")"
   ]
  },
  {
   "cell_type": "markdown",
   "id": "bfad5413",
   "metadata": {},
   "source": [
    "#### 初始化方法"
   ]
  },
  {
   "cell_type": "code",
   "execution_count": 38,
   "id": "e71e2415",
   "metadata": {},
   "outputs": [],
   "source": [
    "# 定义一个类\n",
    "class Vehicle:\n",
    "    \n",
    "    def __init__(self , category):\n",
    "        self.category = chr(8730) + category + chr(8730)\n",
    "        \n",
    "    def get_info(self):\n",
    "        return f\"交通工具类别为：{self.category}。\""
   ]
  },
  {
   "cell_type": "code",
   "execution_count": 39,
   "id": "be30ff0f",
   "metadata": {},
   "outputs": [],
   "source": [
    "# 从父类继承\n",
    "class Car(Vehicle):\n",
    "    def __init__(self , category , brand):\n",
    "        super().__init__(category) # 使用super()函数调用父类中的初始化方法\n",
    "        self.brand = brand\n",
    "        \n",
    "    def get_info(self):\n",
    "        return f\"这是一辆品牌为{self.brand}的{self.category}。\""
   ]
  },
  {
   "cell_type": "code",
   "execution_count": 40,
   "id": "9d11307d",
   "metadata": {},
   "outputs": [],
   "source": [
    "a_car = Car(\"小汽车\" , \"Audi\")"
   ]
  },
  {
   "cell_type": "code",
   "execution_count": 41,
   "id": "ac53bfbd",
   "metadata": {},
   "outputs": [
    {
     "data": {
      "text/plain": [
       "'这是一辆品牌为Audi的√小汽车√。'"
      ]
     },
     "execution_count": 41,
     "metadata": {},
     "output_type": "execute_result"
    }
   ],
   "source": [
    "a_car.get_info()"
   ]
  },
  {
   "cell_type": "code",
   "execution_count": null,
   "id": "b7c3a6be",
   "metadata": {},
   "outputs": [],
   "source": []
  },
  {
   "cell_type": "markdown",
   "id": "5739a1d1",
   "metadata": {},
   "source": [
    "### 5.2 注意事项："
   ]
  },
  {
   "cell_type": "markdown",
   "id": "68f128b0",
   "metadata": {},
   "source": [
    "#### 使用FatherClassName.method()方法"
   ]
  },
  {
   "cell_type": "code",
   "execution_count": 42,
   "id": "491319f5",
   "metadata": {},
   "outputs": [],
   "source": [
    "# 定义类\n",
    "class Student:\n",
    "    \n",
    "    def __init__(self , name):\n",
    "        self.name = name\n",
    "        \n",
    "    def get_info(self):\n",
    "        print(self.name)"
   ]
  },
  {
   "cell_type": "code",
   "execution_count": 43,
   "id": "3c9556b7",
   "metadata": {},
   "outputs": [],
   "source": [
    "# 定义类——>父类为Student\n",
    "class MaleStudent(Student):\n",
    "        \n",
    "    def get_info(self):\n",
    "        Student.get_info(self)\n",
    "        print(\"MaleStudent类。\")"
   ]
  },
  {
   "cell_type": "code",
   "execution_count": 44,
   "id": "c03dfe14",
   "metadata": {},
   "outputs": [],
   "source": [
    "# 定义类——>父类为Student\n",
    "class FemaleStudent(Student):\n",
    "        \n",
    "    def get_info(self):\n",
    "        Student.get_info(self)\n",
    "        print(\"FemaleStudent类。\")"
   ]
  },
  {
   "cell_type": "code",
   "execution_count": 45,
   "id": "c8ec80c4",
   "metadata": {},
   "outputs": [],
   "source": [
    "# 定义类——>父类为MaleStudent+FemaleStudent\n",
    "class ThisStudent(MaleStudent , FemaleStudent):\n",
    "        \n",
    "    def get_info(self):\n",
    "        MaleStudent.get_info(self)\n",
    "        FemaleStudent.get_info(self)\n",
    "        print(\"ThisStudent类。\")"
   ]
  },
  {
   "cell_type": "code",
   "execution_count": 46,
   "id": "22ce8e5e",
   "metadata": {},
   "outputs": [],
   "source": [
    "one_student = ThisStudent(\"Tom\")"
   ]
  },
  {
   "cell_type": "code",
   "execution_count": 47,
   "id": "33e714f8",
   "metadata": {},
   "outputs": [
    {
     "name": "stdout",
     "output_type": "stream",
     "text": [
      "Tom\n",
      "MaleStudent类。\n",
      "Tom\n",
      "FemaleStudent类。\n",
      "ThisStudent类。\n"
     ]
    }
   ],
   "source": [
    "one_student.get_info()"
   ]
  },
  {
   "cell_type": "markdown",
   "id": "2abf5290",
   "metadata": {},
   "source": [
    "#### 使用super()函数方法"
   ]
  },
  {
   "cell_type": "code",
   "execution_count": 48,
   "id": "3592d728",
   "metadata": {},
   "outputs": [],
   "source": [
    "# 定义类\n",
    "class Student:\n",
    "    \n",
    "    def __init__(self , name):\n",
    "        self.name = name\n",
    "        \n",
    "    def get_info(self):\n",
    "        print(self.name)"
   ]
  },
  {
   "cell_type": "code",
   "execution_count": 49,
   "id": "7053dcc8",
   "metadata": {},
   "outputs": [],
   "source": [
    "# 定义类——>父类为Student\n",
    "class MaleStudent(Student):\n",
    "        \n",
    "    def get_info(self):\n",
    "        super().get_info()\n",
    "        print(\"MaleStudent类。\")"
   ]
  },
  {
   "cell_type": "code",
   "execution_count": 50,
   "id": "d971e2e4",
   "metadata": {},
   "outputs": [],
   "source": [
    "# 定义类——>父类为Student\n",
    "class FemaleStudent(Student):\n",
    "        \n",
    "    def get_info(self):\n",
    "        super().get_info()\n",
    "        print(\"FemaleStudent类。\")"
   ]
  },
  {
   "cell_type": "code",
   "execution_count": 51,
   "id": "f83ce9ab",
   "metadata": {},
   "outputs": [],
   "source": [
    "# 定义类——>父类为MaleStudent+FemaleStudent\n",
    "class ThisStudent(MaleStudent , FemaleStudent):\n",
    "        \n",
    "    def get_info(self):\n",
    "        super().get_info()\n",
    "        print(\"ThisStudent类。\")"
   ]
  },
  {
   "cell_type": "code",
   "execution_count": 52,
   "id": "f1477d9c",
   "metadata": {},
   "outputs": [],
   "source": [
    "one_student = ThisStudent(\"Tom\")"
   ]
  },
  {
   "cell_type": "code",
   "execution_count": 53,
   "id": "3eb285a8",
   "metadata": {},
   "outputs": [
    {
     "name": "stdout",
     "output_type": "stream",
     "text": [
      "Tom\n",
      "FemaleStudent类。\n",
      "MaleStudent类。\n",
      "ThisStudent类。\n"
     ]
    }
   ],
   "source": [
    "one_student.get_info()"
   ]
  },
  {
   "cell_type": "code",
   "execution_count": null,
   "id": "83507d48",
   "metadata": {},
   "outputs": [],
   "source": []
  },
  {
   "cell_type": "code",
   "execution_count": null,
   "id": "7b9c2078",
   "metadata": {},
   "outputs": [],
   "source": []
  }
 ],
 "metadata": {
  "kernelspec": {
   "display_name": "Python 3 (ipykernel)",
   "language": "python",
   "name": "python3"
  },
  "language_info": {
   "codemirror_mode": {
    "name": "ipython",
    "version": 3
   },
   "file_extension": ".py",
   "mimetype": "text/x-python",
   "name": "python",
   "nbconvert_exporter": "python",
   "pygments_lexer": "ipython3",
   "version": "3.9.12"
  }
 },
 "nbformat": 4,
 "nbformat_minor": 5
}
