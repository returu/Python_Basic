{
 "cells": [
  {
   "cell_type": "markdown",
   "id": "a37e2a86",
   "metadata": {},
   "source": [
    "## 1.遍历循环：for语句"
   ]
  },
  {
   "cell_type": "code",
   "execution_count": 1,
   "id": "371ef171",
   "metadata": {},
   "outputs": [
    {
     "name": "stdout",
     "output_type": "stream",
     "text": [
      "P\n",
      "y\n",
      "t\n",
      "h\n",
      "o\n",
      "n\n"
     ]
    }
   ],
   "source": [
    "#遍历结构为字符串\n",
    "for i in 'Python':\n",
    "    print(i)"
   ]
  },
  {
   "cell_type": "code",
   "execution_count": 2,
   "id": "a08d9ee2",
   "metadata": {},
   "outputs": [
    {
     "name": "stdout",
     "output_type": "stream",
     "text": [
      "A\n",
      "B\n",
      "C\n"
     ]
    }
   ],
   "source": [
    "#遍历结构为组合数据类型：列表\n",
    "for i in ['A','B','C']:\n",
    "    print(i)"
   ]
  },
  {
   "cell_type": "code",
   "execution_count": 3,
   "id": "b5bedf2d",
   "metadata": {},
   "outputs": [
    {
     "name": "stdout",
     "output_type": "stream",
     "text": [
      "循环次数: 0\n",
      "循环次数: 1\n",
      "循环次数: 2\n",
      "循环次数: 3\n"
     ]
    }
   ],
   "source": [
    "#遍历结构为range()函数\n",
    "for i in range(4):\n",
    "    print('循环次数:',i)"
   ]
  },
  {
   "cell_type": "markdown",
   "id": "ec8c762e",
   "metadata": {},
   "source": [
    "## 2.无限循环：while语句"
   ]
  },
  {
   "cell_type": "code",
   "execution_count": 4,
   "id": "b87c078d",
   "metadata": {},
   "outputs": [
    {
     "name": "stdout",
     "output_type": "stream",
     "text": [
      "循环次数为： 1\n",
      "循环次数为： 2\n",
      "循环次数为： 3\n",
      "循环次数为： 4\n",
      "循环次数为： 5\n",
      "循环次数为： 6\n",
      "循环结束！\n"
     ]
    }
   ],
   "source": [
    "# 通过while循环实现一个计数循环，需要在循环之前初始化一个计数器idx，在每次循环时对计数器进行累加\n",
    "\n",
    "idx = 0\n",
    "\n",
    "while idx < len('python'): # 条件为；idx < 字符串python的长度值\n",
    "    print('循环次数为：' , idx+1) # 条件为True时执行的语句\n",
    "    idx += 1 # 每循环一次，idx值就加1\n",
    "\n",
    "print('循环结束！') # 条件为False时执行的后续语句"
   ]
  },
  {
   "cell_type": "markdown",
   "id": "9810652b",
   "metadata": {},
   "source": [
    "## 3.循环保留字：break、continue"
   ]
  },
  {
   "cell_type": "code",
   "execution_count": 5,
   "id": "ad71c702",
   "metadata": {},
   "outputs": [
    {
     "name": "stdout",
     "output_type": "stream",
     "text": [
      "p\n",
      "y\n"
     ]
    }
   ],
   "source": [
    "# break保留字\n",
    "for s in 'python':\n",
    "    if s == 't':\n",
    "        break\n",
    "    print(s)"
   ]
  },
  {
   "cell_type": "code",
   "execution_count": 6,
   "id": "614fca14",
   "metadata": {
    "scrolled": true
   },
   "outputs": [
    {
     "name": "stdout",
     "output_type": "stream",
     "text": [
      "p\n",
      "p\n",
      "p\n",
      "y\n",
      "y\n",
      "y\n",
      "t\n",
      "h\n",
      "h\n",
      "h\n",
      "o\n",
      "o\n",
      "o\n",
      "n\n",
      "n\n",
      "n\n"
     ]
    }
   ],
   "source": [
    "# 当程序有多个循环嵌套时，break只是跳出最内层的循环，但是仍然会执行外层的循环\n",
    "for s in 'python':\n",
    "    for i in range(3):\n",
    "        print(s)\n",
    "        if s == 't':\n",
    "            break"
   ]
  },
  {
   "cell_type": "code",
   "execution_count": 7,
   "id": "52ffec6e",
   "metadata": {},
   "outputs": [
    {
     "name": "stdout",
     "output_type": "stream",
     "text": [
      "p\n",
      "y\n",
      "h\n",
      "o\n",
      "n\n"
     ]
    }
   ],
   "source": [
    "# continue保留字\n",
    "for s in 'python':\n",
    "    if s == 't':\n",
    "        continue\n",
    "    print(s)"
   ]
  },
  {
   "cell_type": "markdown",
   "id": "89850430",
   "metadata": {},
   "source": [
    "## 4.使用zip()迭代多个序列"
   ]
  },
  {
   "cell_type": "code",
   "execution_count": 8,
   "id": "6c52a0b3",
   "metadata": {},
   "outputs": [],
   "source": [
    "students = ['Tom' , 'Jon' , 'Jerry']\n",
    "scores = [55 , 66 , 77]"
   ]
  },
  {
   "cell_type": "code",
   "execution_count": 9,
   "id": "df44e6f5",
   "metadata": {},
   "outputs": [
    {
     "name": "stdout",
     "output_type": "stream",
     "text": [
      "学生Tom本次考试分数为55。\n",
      "学生Jon本次考试分数为66。\n",
      "学生Jerry本次考试分数为77。\n"
     ]
    }
   ],
   "source": [
    "for student , score in zip(students , scores):\n",
    "    print(f'学生{student}本次考试分数为{score}。')"
   ]
  },
  {
   "cell_type": "code",
   "execution_count": null,
   "id": "db6305f3",
   "metadata": {},
   "outputs": [],
   "source": []
  },
  {
   "cell_type": "code",
   "execution_count": 10,
   "id": "1159ca31",
   "metadata": {},
   "outputs": [],
   "source": [
    "# 生成元祖列表\n",
    "students = 'Tom' , 'Jon' , 'Jerry'\n",
    "scores = 55 , 66 , 77"
   ]
  },
  {
   "cell_type": "code",
   "execution_count": 11,
   "id": "e60b4f38",
   "metadata": {},
   "outputs": [
    {
     "data": {
      "text/plain": [
       "[('Tom', 55), ('Jon', 66), ('Jerry', 77)]"
      ]
     },
     "execution_count": 11,
     "metadata": {},
     "output_type": "execute_result"
    }
   ],
   "source": [
    "list(zip(students , scores))"
   ]
  },
  {
   "cell_type": "code",
   "execution_count": 12,
   "id": "8c01e549",
   "metadata": {},
   "outputs": [],
   "source": [
    "# 生成字典\n",
    "students = 'Tom' , 'Jon' , 'Jerry'\n",
    "scores = 55 , 66 , 77"
   ]
  },
  {
   "cell_type": "code",
   "execution_count": 13,
   "id": "7524b81c",
   "metadata": {
    "scrolled": true
   },
   "outputs": [
    {
     "data": {
      "text/plain": [
       "{'Tom': 55, 'Jon': 66, 'Jerry': 77}"
      ]
     },
     "execution_count": 13,
     "metadata": {},
     "output_type": "execute_result"
    }
   ],
   "source": [
    "dict(zip(students , scores))"
   ]
  },
  {
   "cell_type": "markdown",
   "id": "58a6fdc7",
   "metadata": {},
   "source": [
    "## 5.迭代器"
   ]
  },
  {
   "cell_type": "code",
   "execution_count": 14,
   "id": "b5d7b6cd",
   "metadata": {},
   "outputs": [],
   "source": [
    "ls = ['A','B','C']\n",
    "it = iter(ls)"
   ]
  },
  {
   "cell_type": "code",
   "execution_count": 15,
   "id": "4ea1b04d",
   "metadata": {},
   "outputs": [
    {
     "data": {
      "text/plain": [
       "<list_iterator at 0x20eb239b880>"
      ]
     },
     "execution_count": 15,
     "metadata": {},
     "output_type": "execute_result"
    }
   ],
   "source": [
    "it"
   ]
  },
  {
   "cell_type": "code",
   "execution_count": 16,
   "id": "51abb693",
   "metadata": {},
   "outputs": [
    {
     "data": {
      "text/plain": [
       "'A'"
      ]
     },
     "execution_count": 16,
     "metadata": {},
     "output_type": "execute_result"
    }
   ],
   "source": [
    "it.__next__()"
   ]
  },
  {
   "cell_type": "code",
   "execution_count": 17,
   "id": "84b7c93d",
   "metadata": {},
   "outputs": [
    {
     "data": {
      "text/plain": [
       "'B'"
      ]
     },
     "execution_count": 17,
     "metadata": {},
     "output_type": "execute_result"
    }
   ],
   "source": [
    "it.__next__()"
   ]
  },
  {
   "cell_type": "code",
   "execution_count": 18,
   "id": "c04af490",
   "metadata": {},
   "outputs": [
    {
     "data": {
      "text/plain": [
       "'C'"
      ]
     },
     "execution_count": 18,
     "metadata": {},
     "output_type": "execute_result"
    }
   ],
   "source": [
    "it.__next__()"
   ]
  },
  {
   "cell_type": "code",
   "execution_count": 19,
   "id": "14237026",
   "metadata": {},
   "outputs": [
    {
     "ename": "StopIteration",
     "evalue": "",
     "output_type": "error",
     "traceback": [
      "\u001b[1;31m---------------------------------------------------------------------------\u001b[0m",
      "\u001b[1;31mStopIteration\u001b[0m                             Traceback (most recent call last)",
      "Input \u001b[1;32mIn [19]\u001b[0m, in \u001b[0;36m<cell line: 1>\u001b[1;34m()\u001b[0m\n\u001b[1;32m----> 1\u001b[0m \u001b[43mit\u001b[49m\u001b[38;5;241;43m.\u001b[39;49m\u001b[38;5;21;43m__next__\u001b[39;49m\u001b[43m(\u001b[49m\u001b[43m)\u001b[49m\n",
      "\u001b[1;31mStopIteration\u001b[0m: "
     ]
    }
   ],
   "source": [
    "it.__next__()"
   ]
  },
  {
   "cell_type": "code",
   "execution_count": null,
   "id": "ff4fbc9d",
   "metadata": {},
   "outputs": [],
   "source": []
  },
  {
   "cell_type": "code",
   "execution_count": null,
   "id": "d0a80aec",
   "metadata": {},
   "outputs": [],
   "source": []
  }
 ],
 "metadata": {
  "kernelspec": {
   "display_name": "Python 3 (ipykernel)",
   "language": "python",
   "name": "python3"
  },
  "language_info": {
   "codemirror_mode": {
    "name": "ipython",
    "version": 3
   },
   "file_extension": ".py",
   "mimetype": "text/x-python",
   "name": "python",
   "nbconvert_exporter": "python",
   "pygments_lexer": "ipython3",
   "version": "3.9.12"
  }
 },
 "nbformat": 4,
 "nbformat_minor": 5
}
