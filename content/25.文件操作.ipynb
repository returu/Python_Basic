{
 "cells": [
  {
   "cell_type": "markdown",
   "id": "dfd3706d",
   "metadata": {},
   "source": [
    "## 2.文件基本操作实例："
   ]
  },
  {
   "cell_type": "markdown",
   "id": "c139aabd",
   "metadata": {},
   "source": [
    "### 2.1 写入文件"
   ]
  },
  {
   "cell_type": "code",
   "execution_count": 1,
   "id": "df11a8d1",
   "metadata": {
    "scrolled": true
   },
   "outputs": [
    {
     "name": "stdout",
     "output_type": "stream",
     "text": [
      "请输入需要写入的文件名称：test.txt\n"
     ]
    }
   ],
   "source": [
    "filename = input(\"请输入需要写入的文件名称：\")\n",
    "\n",
    "# 打开文件\n",
    "f = open(filename , \"w+\")\n",
    "ls = [\"济南市\\n\" , \"青岛市\\n\" ,\"菏泽市\\n\" ,\"烟台市\\n\"]\n",
    "\n",
    "# 将列表ls写入文件 \n",
    "f.writelines(ls)\n",
    "# 将文件操作指针调整到文件开始位置\n",
    "f.seek(0)\n",
    "# 将单个字符串写入文件\n",
    "f.write(\"山东省\")\n",
    "# 关闭文件\n",
    "f.close()"
   ]
  },
  {
   "cell_type": "markdown",
   "id": "b5e4504c",
   "metadata": {},
   "source": [
    "### 2.2 读取文件"
   ]
  },
  {
   "cell_type": "code",
   "execution_count": 2,
   "id": "1b9780e9",
   "metadata": {},
   "outputs": [],
   "source": [
    "file = open(\"test.txt\" , \"r\")\n",
    "# 读取整个文件\n",
    "f1 = file.read()\n",
    "# 将文件操作指针调整到文件开始位置\n",
    "file.seek(0)\n",
    "# 从文件读入一行内容\n",
    "f2 = file.readline()\n",
    "# 将文件操作指针调整到文件开始位置\n",
    "file.seek(0)\n",
    "# 从文件中读入所有行\n",
    "f3 = file.readlines()"
   ]
  },
  {
   "cell_type": "code",
   "execution_count": 3,
   "id": "a09a16ae",
   "metadata": {},
   "outputs": [
    {
     "data": {
      "text/plain": [
       "'山东省\\n青岛市\\n菏泽市\\n烟台市\\n'"
      ]
     },
     "execution_count": 3,
     "metadata": {},
     "output_type": "execute_result"
    }
   ],
   "source": [
    "f1"
   ]
  },
  {
   "cell_type": "code",
   "execution_count": 4,
   "id": "6dea5b25",
   "metadata": {},
   "outputs": [
    {
     "data": {
      "text/plain": [
       "'山东省\\n'"
      ]
     },
     "execution_count": 4,
     "metadata": {},
     "output_type": "execute_result"
    }
   ],
   "source": [
    "f2"
   ]
  },
  {
   "cell_type": "code",
   "execution_count": 5,
   "id": "6bc81eb8",
   "metadata": {},
   "outputs": [
    {
     "data": {
      "text/plain": [
       "['山东省\\n', '青岛市\\n', '菏泽市\\n', '烟台市\\n']"
      ]
     },
     "execution_count": 5,
     "metadata": {},
     "output_type": "execute_result"
    }
   ],
   "source": [
    "f3"
   ]
  },
  {
   "cell_type": "markdown",
   "id": "06337bf1",
   "metadata": {},
   "source": [
    "### 2.3 二进制文件读写"
   ]
  },
  {
   "cell_type": "code",
   "execution_count": 6,
   "id": "9ff9034a",
   "metadata": {},
   "outputs": [],
   "source": [
    "# 如果文件是以二进制形式打开​，则只能以二进制形式写入，否则会报错。\n",
    "fb = open('fb.txt' , 'wb+')\n",
    "fb.write(b'Python')\n",
    "fb.close()"
   ]
  },
  {
   "cell_type": "markdown",
   "id": "931d6e2e",
   "metadata": {},
   "source": [
    "## 3.使用with语句："
   ]
  },
  {
   "cell_type": "code",
   "execution_count": 7,
   "id": "840a4fb1",
   "metadata": {},
   "outputs": [
    {
     "name": "stdout",
     "output_type": "stream",
     "text": [
      "请输入需要写入的文件名称：test2.txt\n"
     ]
    }
   ],
   "source": [
    "filename = input(\"请输入需要写入的文件名称：\")\n",
    "ls = [\"济南市\\n\" , \"青岛市\\n\" ,\"菏泽市\\n\" ,\"烟台市\\n\"]\n",
    "\n",
    "with open(filename , \"w+\") as f:\n",
    "    # 将列表ls写入文件 \n",
    "    f.writelines(ls)\n",
    "    # 将文件操作指针调整到文件开始位置\n",
    "    f.seek(0)\n",
    "    # 将单个字符串写入文件\n",
    "    f.write(\"山东省\")"
   ]
  },
  {
   "cell_type": "code",
   "execution_count": null,
   "id": "bf2c307d",
   "metadata": {},
   "outputs": [],
   "source": []
  },
  {
   "cell_type": "code",
   "execution_count": null,
   "id": "49362941",
   "metadata": {},
   "outputs": [],
   "source": []
  }
 ],
 "metadata": {
  "kernelspec": {
   "display_name": "Python 3 (ipykernel)",
   "language": "python",
   "name": "python3"
  },
  "language_info": {
   "codemirror_mode": {
    "name": "ipython",
    "version": 3
   },
   "file_extension": ".py",
   "mimetype": "text/x-python",
   "name": "python",
   "nbconvert_exporter": "python",
   "pygments_lexer": "ipython3",
   "version": "3.9.12"
  }
 },
 "nbformat": 4,
 "nbformat_minor": 5
}
