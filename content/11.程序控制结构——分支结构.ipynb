{
 "cells": [
  {
   "cell_type": "markdown",
   "id": "8713322d",
   "metadata": {},
   "source": [
    "## 2.1 单分支结构：if语句"
   ]
  },
  {
   "cell_type": "code",
   "execution_count": 1,
   "id": "875c0bde",
   "metadata": {},
   "outputs": [
    {
     "name": "stdout",
     "output_type": "stream",
     "text": [
      "请输入分数(满分100)：55\n",
      "不及格\n"
     ]
    }
   ],
   "source": [
    "score = eval(input('请输入分数(满分100)：'))\n",
    "if score < 60:\n",
    "    print('不及格')\n",
    "if 60 <= score < 70:\n",
    "    print('良')\n",
    "if 70 <= score < 90:\n",
    "    print('好')\n",
    "if 90 <= score:\n",
    "    print('优')"
   ]
  },
  {
   "cell_type": "markdown",
   "id": "7e55c668",
   "metadata": {},
   "source": [
    "## 2.2 二分支结构：if-else语句"
   ]
  },
  {
   "cell_type": "code",
   "execution_count": 2,
   "id": "11221109",
   "metadata": {},
   "outputs": [
    {
     "name": "stdout",
     "output_type": "stream",
     "text": [
      "请输入分数(满分100)：88\n",
      "继续保持！\n"
     ]
    }
   ],
   "source": [
    "score = eval(input('请输入分数(满分100)：'))\n",
    "if score < 85:\n",
    "    print('还需努力！')\n",
    "else:\n",
    "    print('继续保持！')"
   ]
  },
  {
   "cell_type": "markdown",
   "id": "ff58e17a",
   "metadata": {},
   "source": [
    "## 2.3 多分支结构：if-elif-else语句"
   ]
  },
  {
   "cell_type": "code",
   "execution_count": 3,
   "id": "304fddd5",
   "metadata": {},
   "outputs": [
    {
     "name": "stdout",
     "output_type": "stream",
     "text": [
      "请输入分数(满分100)：88\n",
      "优秀\n"
     ]
    }
   ],
   "source": [
    "score = eval(input('请输入分数(满分100)：'))\n",
    "if score < 60:\n",
    "    print('不及格')\n",
    "elif 60 <= score < 85:\n",
    "    print('良好')\n",
    "else:\n",
    "    print('优秀')"
   ]
  },
  {
   "cell_type": "markdown",
   "id": "d978caee",
   "metadata": {},
   "source": [
    "## 2.4 多条件判断："
   ]
  },
  {
   "cell_type": "code",
   "execution_count": 4,
   "id": "df8ebe13",
   "metadata": {},
   "outputs": [
    {
     "name": "stdout",
     "output_type": "stream",
     "text": [
      "请输入分数(满分100)：90\n",
      "请输入分数(满分100)：80\n",
      "还需努力！\n"
     ]
    }
   ],
   "source": [
    "math_score = eval(input('请输入分数(满分100)：'))\n",
    "english_score = eval(input('请输入分数(满分100)：'))\n",
    "\n",
    "if math_score < 85 or english_score < 85:\n",
    "    print('还需努力！')\n",
    "else:\n",
    "    print('继续保持！')"
   ]
  },
  {
   "cell_type": "code",
   "execution_count": 5,
   "id": "07235b8f",
   "metadata": {},
   "outputs": [
    {
     "name": "stdout",
     "output_type": "stream",
     "text": [
      "请输入分数(满分100)：90\n",
      "请输入分数(满分100)：80\n",
      "继续保持！\n"
     ]
    }
   ],
   "source": [
    "math_score = eval(input('请输入分数(满分100)：'))\n",
    "english_score = eval(input('请输入分数(满分100)：'))\n",
    "\n",
    "if math_score < 85 and english_score < 85:\n",
    "    print('还需努力！')\n",
    "else:\n",
    "    print('继续保持！')"
   ]
  },
  {
   "cell_type": "markdown",
   "id": "65854684",
   "metadata": {},
   "source": [
    "## 2.5 海象运算符"
   ]
  },
  {
   "cell_type": "code",
   "execution_count": 6,
   "id": "e3384443",
   "metadata": {},
   "outputs": [
    {
     "name": "stdout",
     "output_type": "stream",
     "text": [
      "hello, walrus operator!\n"
     ]
    }
   ],
   "source": [
    "a = 5\n",
    "if a > 0:\n",
    "    print('hello, walrus operator!')"
   ]
  },
  {
   "cell_type": "code",
   "execution_count": 7,
   "id": "74eccd98",
   "metadata": {},
   "outputs": [
    {
     "name": "stdout",
     "output_type": "stream",
     "text": [
      "hello, walrus operator!\n"
     ]
    }
   ],
   "source": [
    "if a := 5 > 0:\n",
    "    print('hello, walrus operator!')"
   ]
  },
  {
   "cell_type": "code",
   "execution_count": null,
   "id": "d6c51276",
   "metadata": {},
   "outputs": [],
   "source": []
  },
  {
   "cell_type": "code",
   "execution_count": null,
   "id": "6261d77d",
   "metadata": {},
   "outputs": [],
   "source": []
  },
  {
   "cell_type": "code",
   "execution_count": null,
   "id": "5478d5b9",
   "metadata": {},
   "outputs": [],
   "source": []
  }
 ],
 "metadata": {
  "kernelspec": {
   "display_name": "Python 3 (ipykernel)",
   "language": "python",
   "name": "python3"
  },
  "language_info": {
   "codemirror_mode": {
    "name": "ipython",
    "version": 3
   },
   "file_extension": ".py",
   "mimetype": "text/x-python",
   "name": "python",
   "nbconvert_exporter": "python",
   "pygments_lexer": "ipython3",
   "version": "3.9.12"
  }
 },
 "nbformat": 4,
 "nbformat_minor": 5
}
