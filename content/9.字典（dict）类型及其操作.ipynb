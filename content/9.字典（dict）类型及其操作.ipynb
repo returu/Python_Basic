{
 "cells": [
  {
   "cell_type": "markdown",
   "id": "b603fffb",
   "metadata": {},
   "source": [
    "## 1.字典的概念："
   ]
  },
  {
   "cell_type": "markdown",
   "id": "90c794e4",
   "metadata": {},
   "source": [
    "### 1.1 使用大括号{}创建字典"
   ]
  },
  {
   "cell_type": "code",
   "execution_count": 1,
   "id": "c7442588",
   "metadata": {},
   "outputs": [],
   "source": [
    "province_dict = {\"a\":\"b\" , \"c\":\"d\" , \"e\":\"f\"}"
   ]
  },
  {
   "cell_type": "code",
   "execution_count": 2,
   "id": "0fc25720",
   "metadata": {},
   "outputs": [
    {
     "data": {
      "text/plain": [
       "{'a': 'b', 'c': 'd', 'e': 'f'}"
      ]
     },
     "execution_count": 2,
     "metadata": {},
     "output_type": "execute_result"
    }
   ],
   "source": [
    "province_dict"
   ]
  },
  {
   "cell_type": "markdown",
   "id": "adcac86c",
   "metadata": {},
   "source": [
    "### 1.2 使用dict()函数将双值序列转换为字典"
   ]
  },
  {
   "cell_type": "code",
   "execution_count": 3,
   "id": "84171b79",
   "metadata": {},
   "outputs": [],
   "source": [
    "# 双项列表的列表\n",
    "lol = [[\"a\",\"b\"] , [\"c\",\"d\"] , [\"e\",\"f\"]]"
   ]
  },
  {
   "cell_type": "code",
   "execution_count": 4,
   "id": "19b95ca1",
   "metadata": {},
   "outputs": [
    {
     "data": {
      "text/plain": [
       "{'a': 'b', 'c': 'd', 'e': 'f'}"
      ]
     },
     "execution_count": 4,
     "metadata": {},
     "output_type": "execute_result"
    }
   ],
   "source": [
    "dict(lol)"
   ]
  },
  {
   "cell_type": "code",
   "execution_count": 5,
   "id": "2c1dd4af",
   "metadata": {},
   "outputs": [],
   "source": [
    "# 双项元祖列表\n",
    "lot = [(\"a\",\"b\") , (\"c\",\"d\") , (\"e\",\"f\")]"
   ]
  },
  {
   "cell_type": "code",
   "execution_count": 6,
   "id": "868e4dab",
   "metadata": {},
   "outputs": [
    {
     "data": {
      "text/plain": [
       "{'a': 'b', 'c': 'd', 'e': 'f'}"
      ]
     },
     "execution_count": 6,
     "metadata": {},
     "output_type": "execute_result"
    }
   ],
   "source": [
    "dict(lot)"
   ]
  },
  {
   "cell_type": "code",
   "execution_count": 7,
   "id": "a1618857",
   "metadata": {},
   "outputs": [],
   "source": [
    "# 双项列表元祖\n",
    "tol = ([\"a\",\"b\"] , [\"c\",\"d\"] , [\"e\",\"f\"])"
   ]
  },
  {
   "cell_type": "code",
   "execution_count": 8,
   "id": "52ff9644",
   "metadata": {},
   "outputs": [
    {
     "data": {
      "text/plain": [
       "{'a': 'b', 'c': 'd', 'e': 'f'}"
      ]
     },
     "execution_count": 8,
     "metadata": {},
     "output_type": "execute_result"
    }
   ],
   "source": [
    "dict(tol)"
   ]
  },
  {
   "cell_type": "code",
   "execution_count": 9,
   "id": "174cd24d",
   "metadata": {},
   "outputs": [],
   "source": [
    "# 双字母字符串列表\n",
    "los = ['ab' , 'cd' , 'ef']"
   ]
  },
  {
   "cell_type": "code",
   "execution_count": 10,
   "id": "089ce183",
   "metadata": {},
   "outputs": [
    {
     "data": {
      "text/plain": [
       "{'a': 'b', 'c': 'd', 'e': 'f'}"
      ]
     },
     "execution_count": 10,
     "metadata": {},
     "output_type": "execute_result"
    }
   ],
   "source": [
    "dict(los)"
   ]
  },
  {
   "cell_type": "code",
   "execution_count": 11,
   "id": "1de77cfd",
   "metadata": {},
   "outputs": [],
   "source": [
    "# 双字母字符串元祖\n",
    "tos = ('ab' , 'cd' , 'ef')"
   ]
  },
  {
   "cell_type": "code",
   "execution_count": 12,
   "id": "0e2785fe",
   "metadata": {},
   "outputs": [
    {
     "data": {
      "text/plain": [
       "{'a': 'b', 'c': 'd', 'e': 'f'}"
      ]
     },
     "execution_count": 12,
     "metadata": {},
     "output_type": "execute_result"
    }
   ],
   "source": [
    "dict(tos)"
   ]
  },
  {
   "cell_type": "markdown",
   "id": "30c49491",
   "metadata": {},
   "source": [
    "### 1.3 使用[key]获取、添加、修改字典项"
   ]
  },
  {
   "cell_type": "code",
   "execution_count": 13,
   "id": "69a58d7d",
   "metadata": {},
   "outputs": [],
   "source": [
    "province_dict = {'山东': '济南', '福建': '福州', '陕西': '西安'}"
   ]
  },
  {
   "cell_type": "code",
   "execution_count": 14,
   "id": "32e7ad4f",
   "metadata": {},
   "outputs": [
    {
     "data": {
      "text/plain": [
       "'济南'"
      ]
     },
     "execution_count": 14,
     "metadata": {},
     "output_type": "execute_result"
    }
   ],
   "source": [
    "# 字典类型中键值对的访问模式\n",
    "province_dict['山东']"
   ]
  },
  {
   "cell_type": "code",
   "execution_count": 15,
   "id": "7d76925a",
   "metadata": {},
   "outputs": [],
   "source": [
    "# 字典类型中对某个键值的修改\n",
    "province_dict['山东'] = '泉城'"
   ]
  },
  {
   "cell_type": "code",
   "execution_count": 16,
   "id": "3c387d5b",
   "metadata": {},
   "outputs": [
    {
     "data": {
      "text/plain": [
       "{'山东': '泉城', '福建': '福州', '陕西': '西安'}"
      ]
     },
     "execution_count": 16,
     "metadata": {},
     "output_type": "execute_result"
    }
   ],
   "source": [
    "province_dict"
   ]
  },
  {
   "cell_type": "code",
   "execution_count": 17,
   "id": "c90b10a9",
   "metadata": {},
   "outputs": [],
   "source": [
    "# 为字典添加新元素\n",
    "province_dict['河北'] = '石家庄'"
   ]
  },
  {
   "cell_type": "code",
   "execution_count": 18,
   "id": "97f0f9eb",
   "metadata": {},
   "outputs": [
    {
     "data": {
      "text/plain": [
       "{'山东': '泉城', '福建': '福州', '陕西': '西安', '河北': '石家庄'}"
      ]
     },
     "execution_count": 18,
     "metadata": {},
     "output_type": "execute_result"
    }
   ],
   "source": [
    "province_dict"
   ]
  },
  {
   "cell_type": "code",
   "execution_count": null,
   "id": "ab6289c7",
   "metadata": {},
   "outputs": [],
   "source": []
  },
  {
   "cell_type": "code",
   "execution_count": 19,
   "id": "8845fda6",
   "metadata": {},
   "outputs": [],
   "source": [
    "# 创建一个空字典，通过赋值方法增加元素\n",
    "country_dict = {}"
   ]
  },
  {
   "cell_type": "code",
   "execution_count": 20,
   "id": "61132f90",
   "metadata": {},
   "outputs": [
    {
     "data": {
      "text/plain": [
       "{}"
      ]
     },
     "execution_count": 20,
     "metadata": {},
     "output_type": "execute_result"
    }
   ],
   "source": [
    "country_dict"
   ]
  },
  {
   "cell_type": "code",
   "execution_count": 21,
   "id": "2154db6c",
   "metadata": {},
   "outputs": [],
   "source": [
    "country_dict['中国'] = '北京'"
   ]
  },
  {
   "cell_type": "code",
   "execution_count": 22,
   "id": "a4b1bbf9",
   "metadata": {},
   "outputs": [],
   "source": [
    "country_dict['英国'] = '伦敦'"
   ]
  },
  {
   "cell_type": "code",
   "execution_count": 23,
   "id": "8e18c4cf",
   "metadata": {},
   "outputs": [
    {
     "data": {
      "text/plain": [
       "{'中国': '北京', '英国': '伦敦'}"
      ]
     },
     "execution_count": 23,
     "metadata": {},
     "output_type": "execute_result"
    }
   ],
   "source": [
    "country_dict"
   ]
  },
  {
   "cell_type": "markdown",
   "id": "a0a10434",
   "metadata": {},
   "source": [
    "### 1.4 字典也支持成员关系符（in）、长度计算函数（len()）"
   ]
  },
  {
   "cell_type": "code",
   "execution_count": 24,
   "id": "e81d35f5",
   "metadata": {},
   "outputs": [],
   "source": [
    "province_dict = {'山东': '济南', '福建': '福州', '陕西': '西安'}"
   ]
  },
  {
   "cell_type": "code",
   "execution_count": 25,
   "id": "03bae71b",
   "metadata": {},
   "outputs": [
    {
     "data": {
      "text/plain": [
       "True"
      ]
     },
     "execution_count": 25,
     "metadata": {},
     "output_type": "execute_result"
    }
   ],
   "source": [
    "# <key> in <d>\n",
    "'山东' in province_dict"
   ]
  },
  {
   "cell_type": "code",
   "execution_count": 26,
   "id": "a17ae5f7",
   "metadata": {},
   "outputs": [
    {
     "data": {
      "text/plain": [
       "True"
      ]
     },
     "execution_count": 26,
     "metadata": {},
     "output_type": "execute_result"
    }
   ],
   "source": [
    "# <key> not in <d>\n",
    "'山西' not in province_dict"
   ]
  },
  {
   "cell_type": "code",
   "execution_count": 27,
   "id": "b7af3da5",
   "metadata": {},
   "outputs": [
    {
     "data": {
      "text/plain": [
       "3"
      ]
     },
     "execution_count": 27,
     "metadata": {},
     "output_type": "execute_result"
    }
   ],
   "source": [
    "len(province_dict)"
   ]
  },
  {
   "cell_type": "markdown",
   "id": "7fd5df96",
   "metadata": {},
   "source": [
    "### 1.5 字典比较"
   ]
  },
  {
   "cell_type": "code",
   "execution_count": 28,
   "id": "cca8638c",
   "metadata": {},
   "outputs": [],
   "source": [
    "dict_1 = {'山东': '济南', '福建': '福州', '陕西': '西安'}\n",
    "dict_2 = {'山东': '泉城', '福建': '福州', '陕西': '西安'}"
   ]
  },
  {
   "cell_type": "code",
   "execution_count": 29,
   "id": "9989a994",
   "metadata": {},
   "outputs": [
    {
     "data": {
      "text/plain": [
       "False"
      ]
     },
     "execution_count": 29,
     "metadata": {},
     "output_type": "execute_result"
    }
   ],
   "source": [
    "dict_1 == dict_2"
   ]
  },
  {
   "cell_type": "code",
   "execution_count": 30,
   "id": "87e04ffa",
   "metadata": {},
   "outputs": [
    {
     "data": {
      "text/plain": [
       "True"
      ]
     },
     "execution_count": 30,
     "metadata": {},
     "output_type": "execute_result"
    }
   ],
   "source": [
    "dict_1 != dict_2"
   ]
  },
  {
   "cell_type": "markdown",
   "id": "d94b1a8b",
   "metadata": {},
   "source": [
    "## 2.字典的操作："
   ]
  },
  {
   "cell_type": "markdown",
   "id": "845b1417",
   "metadata": {},
   "source": [
    "### 2.1 获取字典键值内容"
   ]
  },
  {
   "cell_type": "code",
   "execution_count": 31,
   "id": "04f3c107",
   "metadata": {},
   "outputs": [],
   "source": [
    "province_dict = {'山东': '济南', '福建': '福州', '陕西': '西安', '河北': '石家庄'}"
   ]
  },
  {
   "cell_type": "code",
   "execution_count": 32,
   "id": "7a5b0bb4",
   "metadata": {},
   "outputs": [
    {
     "data": {
      "text/plain": [
       "dict_keys(['山东', '福建', '陕西', '河北'])"
      ]
     },
     "execution_count": 32,
     "metadata": {},
     "output_type": "execute_result"
    }
   ],
   "source": [
    "# <d>.keys()\n",
    "province_dict.keys()"
   ]
  },
  {
   "cell_type": "code",
   "execution_count": 33,
   "id": "dc17a0f3",
   "metadata": {},
   "outputs": [
    {
     "data": {
      "text/plain": [
       "dict_values(['济南', '福州', '西安', '石家庄'])"
      ]
     },
     "execution_count": 33,
     "metadata": {},
     "output_type": "execute_result"
    }
   ],
   "source": [
    "# <d>.values()\n",
    "province_dict.values()"
   ]
  },
  {
   "cell_type": "code",
   "execution_count": 34,
   "id": "c8707892",
   "metadata": {},
   "outputs": [
    {
     "data": {
      "text/plain": [
       "dict_items([('山东', '济南'), ('福建', '福州'), ('陕西', '西安'), ('河北', '石家庄')])"
      ]
     },
     "execution_count": 34,
     "metadata": {},
     "output_type": "execute_result"
    }
   ],
   "source": [
    "# <d>.items()\n",
    "province_dict.items()"
   ]
  },
  {
   "cell_type": "code",
   "execution_count": 35,
   "id": "d4653848",
   "metadata": {},
   "outputs": [
    {
     "data": {
      "text/plain": [
       "'济南'"
      ]
     },
     "execution_count": 35,
     "metadata": {},
     "output_type": "execute_result"
    }
   ],
   "source": [
    "# <d>.get(<key>,<default>)\n",
    "province_dict.get('山东')"
   ]
  },
  {
   "cell_type": "code",
   "execution_count": 36,
   "id": "a7f84fe2",
   "metadata": {},
   "outputs": [],
   "source": [
    "province_dict.get('山西')"
   ]
  },
  {
   "cell_type": "code",
   "execution_count": 37,
   "id": "39b1e63e",
   "metadata": {},
   "outputs": [
    {
     "data": {
      "text/plain": [
       "'不存在'"
      ]
     },
     "execution_count": 37,
     "metadata": {},
     "output_type": "execute_result"
    }
   ],
   "source": [
    "province_dict.get('山西' , '不存在')"
   ]
  },
  {
   "cell_type": "code",
   "execution_count": 38,
   "id": "dc1900d5",
   "metadata": {},
   "outputs": [
    {
     "data": {
      "text/plain": [
       "['山东', '福建', '陕西', '河北']"
      ]
     },
     "execution_count": 38,
     "metadata": {},
     "output_type": "execute_result"
    }
   ],
   "source": [
    "# 使用list()函数，将结果转换为列表\n",
    "list(province_dict.keys())"
   ]
  },
  {
   "cell_type": "code",
   "execution_count": 39,
   "id": "d167345b",
   "metadata": {},
   "outputs": [
    {
     "data": {
      "text/plain": [
       "['济南', '福州', '西安', '石家庄']"
      ]
     },
     "execution_count": 39,
     "metadata": {},
     "output_type": "execute_result"
    }
   ],
   "source": [
    "list(province_dict.values())"
   ]
  },
  {
   "cell_type": "code",
   "execution_count": 40,
   "id": "c45b1192",
   "metadata": {
    "scrolled": true
   },
   "outputs": [
    {
     "data": {
      "text/plain": [
       "[('山东', '济南'), ('福建', '福州'), ('陕西', '西安'), ('河北', '石家庄')]"
      ]
     },
     "execution_count": 40,
     "metadata": {},
     "output_type": "execute_result"
    }
   ],
   "source": [
    "list(province_dict.items())"
   ]
  },
  {
   "cell_type": "markdown",
   "id": "f1e45901",
   "metadata": {},
   "source": [
    "### 2.2 合并字典"
   ]
  },
  {
   "cell_type": "code",
   "execution_count": 41,
   "id": "308cb753",
   "metadata": {},
   "outputs": [],
   "source": [
    "dict_1 = {'山东': '济南', '福建': '福州', '陕西': '西安'}\n",
    "dict_2 = {'山东': '泉城',  '河北': '石家庄',  '河南': '郑州'}"
   ]
  },
  {
   "cell_type": "code",
   "execution_count": 42,
   "id": "cce4faec",
   "metadata": {},
   "outputs": [
    {
     "data": {
      "text/plain": [
       "{'山东': '泉城', '福建': '福州', '陕西': '西安', '河北': '石家庄', '河南': '郑州'}"
      ]
     },
     "execution_count": 42,
     "metadata": {},
     "output_type": "execute_result"
    }
   ],
   "source": [
    "{**dict_1 , **dict_2}"
   ]
  },
  {
   "cell_type": "code",
   "execution_count": 43,
   "id": "228f431e",
   "metadata": {},
   "outputs": [
    {
     "data": {
      "text/plain": [
       "{'山东': '泉城', '福建': '福州', '陕西': '西安', '河北': '石家庄', '河南': '郑州'}"
      ]
     },
     "execution_count": 43,
     "metadata": {},
     "output_type": "execute_result"
    }
   ],
   "source": [
    "dict_1 | dict_2"
   ]
  },
  {
   "cell_type": "code",
   "execution_count": 44,
   "id": "47ad4aa9",
   "metadata": {},
   "outputs": [
    {
     "data": {
      "text/plain": [
       "{'山东': '济南', '福建': '福州', '陕西': '西安'}"
      ]
     },
     "execution_count": 44,
     "metadata": {},
     "output_type": "execute_result"
    }
   ],
   "source": [
    "dict_1"
   ]
  },
  {
   "cell_type": "code",
   "execution_count": 45,
   "id": "1a5aa1d9",
   "metadata": {},
   "outputs": [],
   "source": [
    "dict_1 |= dict_2"
   ]
  },
  {
   "cell_type": "code",
   "execution_count": 46,
   "id": "1f703215",
   "metadata": {},
   "outputs": [
    {
     "data": {
      "text/plain": [
       "{'山东': '泉城', '福建': '福州', '陕西': '西安', '河北': '石家庄', '河南': '郑州'}"
      ]
     },
     "execution_count": 46,
     "metadata": {},
     "output_type": "execute_result"
    }
   ],
   "source": [
    "dict_1"
   ]
  },
  {
   "cell_type": "code",
   "execution_count": 47,
   "id": "722e381b",
   "metadata": {},
   "outputs": [],
   "source": [
    "dict_3 = {'山西': '太原'}"
   ]
  },
  {
   "cell_type": "code",
   "execution_count": 48,
   "id": "09e8ce76",
   "metadata": {},
   "outputs": [],
   "source": [
    "dict_1.update(dict_3)"
   ]
  },
  {
   "cell_type": "code",
   "execution_count": 49,
   "id": "138a68e6",
   "metadata": {},
   "outputs": [
    {
     "data": {
      "text/plain": [
       "{'山东': '泉城', '福建': '福州', '陕西': '西安', '河北': '石家庄', '河南': '郑州', '山西': '太原'}"
      ]
     },
     "execution_count": 49,
     "metadata": {},
     "output_type": "execute_result"
    }
   ],
   "source": [
    "dict_1"
   ]
  },
  {
   "cell_type": "markdown",
   "id": "3e5446ec",
   "metadata": {},
   "source": [
    "### 2.3 合并字典项"
   ]
  },
  {
   "cell_type": "code",
   "execution_count": 50,
   "id": "207519c0",
   "metadata": {},
   "outputs": [],
   "source": [
    "dict = {'山东': '济南', '福建': '福州', '陕西': '西安', '河北': '石家庄', '河南': '郑州', '山西': '太原'}"
   ]
  },
  {
   "cell_type": "code",
   "execution_count": 51,
   "id": "dbc56e48",
   "metadata": {},
   "outputs": [
    {
     "data": {
      "text/plain": [
       "'济南'"
      ]
     },
     "execution_count": 51,
     "metadata": {},
     "output_type": "execute_result"
    }
   ],
   "source": [
    "dict.pop('山东')"
   ]
  },
  {
   "cell_type": "code",
   "execution_count": 52,
   "id": "36b4fded",
   "metadata": {},
   "outputs": [
    {
     "data": {
      "text/plain": [
       "{'福建': '福州', '陕西': '西安', '河北': '石家庄', '河南': '郑州', '山西': '太原'}"
      ]
     },
     "execution_count": 52,
     "metadata": {},
     "output_type": "execute_result"
    }
   ],
   "source": [
    "dict"
   ]
  },
  {
   "cell_type": "code",
   "execution_count": 53,
   "id": "e4acd02f",
   "metadata": {},
   "outputs": [
    {
     "data": {
      "text/plain": [
       "'不存在'"
      ]
     },
     "execution_count": 53,
     "metadata": {},
     "output_type": "execute_result"
    }
   ],
   "source": [
    "dict.pop('吉林', '不存在')"
   ]
  },
  {
   "cell_type": "code",
   "execution_count": 54,
   "id": "dcd20046",
   "metadata": {},
   "outputs": [
    {
     "data": {
      "text/plain": [
       "{'福建': '福州', '陕西': '西安', '河北': '石家庄', '河南': '郑州', '山西': '太原'}"
      ]
     },
     "execution_count": 54,
     "metadata": {},
     "output_type": "execute_result"
    }
   ],
   "source": [
    "dict"
   ]
  },
  {
   "cell_type": "code",
   "execution_count": 55,
   "id": "cfb4b7a5",
   "metadata": {},
   "outputs": [
    {
     "data": {
      "text/plain": [
       "('山西', '太原')"
      ]
     },
     "execution_count": 55,
     "metadata": {},
     "output_type": "execute_result"
    }
   ],
   "source": [
    "dict.popitem()"
   ]
  },
  {
   "cell_type": "code",
   "execution_count": 56,
   "id": "3af4d72e",
   "metadata": {},
   "outputs": [
    {
     "data": {
      "text/plain": [
       "{'福建': '福州', '陕西': '西安', '河北': '石家庄', '河南': '郑州'}"
      ]
     },
     "execution_count": 56,
     "metadata": {},
     "output_type": "execute_result"
    }
   ],
   "source": [
    "dict"
   ]
  },
  {
   "cell_type": "code",
   "execution_count": 57,
   "id": "736521a2",
   "metadata": {},
   "outputs": [],
   "source": [
    "del dict['陕西']"
   ]
  },
  {
   "cell_type": "code",
   "execution_count": 58,
   "id": "b1ef2cac",
   "metadata": {},
   "outputs": [
    {
     "data": {
      "text/plain": [
       "{'福建': '福州', '河北': '石家庄', '河南': '郑州'}"
      ]
     },
     "execution_count": 58,
     "metadata": {},
     "output_type": "execute_result"
    }
   ],
   "source": [
    "dict"
   ]
  },
  {
   "cell_type": "code",
   "execution_count": 59,
   "id": "36d40f81",
   "metadata": {},
   "outputs": [],
   "source": [
    "dict.clear()"
   ]
  },
  {
   "cell_type": "code",
   "execution_count": 60,
   "id": "9fd5e902",
   "metadata": {},
   "outputs": [
    {
     "data": {
      "text/plain": [
       "{}"
      ]
     },
     "execution_count": 60,
     "metadata": {},
     "output_type": "execute_result"
    }
   ],
   "source": [
    "dict"
   ]
  },
  {
   "cell_type": "markdown",
   "id": "cd8e4157",
   "metadata": {},
   "source": [
    "### 2.4 复制字典"
   ]
  },
  {
   "cell_type": "code",
   "execution_count": 61,
   "id": "7afb5ea5",
   "metadata": {},
   "outputs": [],
   "source": [
    "# 使用等号复制\n",
    "dict = {'山东': '济南', '福建': '福州', '陕西': '西安'}"
   ]
  },
  {
   "cell_type": "code",
   "execution_count": 62,
   "id": "1506c81c",
   "metadata": {},
   "outputs": [],
   "source": [
    "save_dict = dict"
   ]
  },
  {
   "cell_type": "code",
   "execution_count": 63,
   "id": "f5bf66c2",
   "metadata": {},
   "outputs": [],
   "source": [
    "dict['山东'] = \"泉城\""
   ]
  },
  {
   "cell_type": "code",
   "execution_count": 64,
   "id": "66a64da5",
   "metadata": {},
   "outputs": [
    {
     "data": {
      "text/plain": [
       "{'山东': '泉城', '福建': '福州', '陕西': '西安'}"
      ]
     },
     "execution_count": 64,
     "metadata": {},
     "output_type": "execute_result"
    }
   ],
   "source": [
    "dict"
   ]
  },
  {
   "cell_type": "code",
   "execution_count": 65,
   "id": "0ed63b70",
   "metadata": {},
   "outputs": [
    {
     "data": {
      "text/plain": [
       "{'山东': '泉城', '福建': '福州', '陕西': '西安'}"
      ]
     },
     "execution_count": 65,
     "metadata": {},
     "output_type": "execute_result"
    }
   ],
   "source": [
    "save_dict"
   ]
  },
  {
   "cell_type": "code",
   "execution_count": null,
   "id": "42313ff5",
   "metadata": {},
   "outputs": [],
   "source": []
  },
  {
   "cell_type": "code",
   "execution_count": 66,
   "id": "c513f257",
   "metadata": {},
   "outputs": [],
   "source": [
    "# 使用copy()函数将一个字典复制到另一个字典\n",
    "dict = {'山东': '济南', '福建': '福州', '陕西': '西安'}"
   ]
  },
  {
   "cell_type": "code",
   "execution_count": 67,
   "id": "75b41ba1",
   "metadata": {},
   "outputs": [],
   "source": [
    "save_dict = dict.copy()"
   ]
  },
  {
   "cell_type": "code",
   "execution_count": 68,
   "id": "450c50de",
   "metadata": {},
   "outputs": [],
   "source": [
    "dict['山东'] = \"泉城\""
   ]
  },
  {
   "cell_type": "code",
   "execution_count": 69,
   "id": "31b7a42b",
   "metadata": {},
   "outputs": [
    {
     "data": {
      "text/plain": [
       "{'山东': '泉城', '福建': '福州', '陕西': '西安'}"
      ]
     },
     "execution_count": 69,
     "metadata": {},
     "output_type": "execute_result"
    }
   ],
   "source": [
    "dict"
   ]
  },
  {
   "cell_type": "code",
   "execution_count": 70,
   "id": "f0188951",
   "metadata": {},
   "outputs": [
    {
     "data": {
      "text/plain": [
       "{'山东': '济南', '福建': '福州', '陕西': '西安'}"
      ]
     },
     "execution_count": 70,
     "metadata": {},
     "output_type": "execute_result"
    }
   ],
   "source": [
    "save_dict"
   ]
  },
  {
   "cell_type": "code",
   "execution_count": null,
   "id": "5eadc34a",
   "metadata": {},
   "outputs": [],
   "source": []
  },
  {
   "cell_type": "code",
   "execution_count": 71,
   "id": "4f55e67e",
   "metadata": {},
   "outputs": [],
   "source": [
    "# 使用deepcopy()函数\n",
    "import copy\n",
    "\n",
    "dict = {'山东': ['济南' , '泉城'], '福建': ['福州' , '榕城'], '陕西': ['西安' , '长安']}"
   ]
  },
  {
   "cell_type": "code",
   "execution_count": 72,
   "id": "520c7377",
   "metadata": {},
   "outputs": [],
   "source": [
    "dict_1 = dict.copy()"
   ]
  },
  {
   "cell_type": "code",
   "execution_count": 73,
   "id": "e899b2f0",
   "metadata": {},
   "outputs": [],
   "source": [
    "dict_2 = copy.deepcopy(dict)"
   ]
  },
  {
   "cell_type": "code",
   "execution_count": 74,
   "id": "82a57c2c",
   "metadata": {},
   "outputs": [],
   "source": [
    "dict['山东'][1] = '泺邑'"
   ]
  },
  {
   "cell_type": "code",
   "execution_count": 75,
   "id": "7a4bfa36",
   "metadata": {},
   "outputs": [
    {
     "data": {
      "text/plain": [
       "{'山东': ['济南', '泺邑'], '福建': ['福州', '榕城'], '陕西': ['西安', '长安']}"
      ]
     },
     "execution_count": 75,
     "metadata": {},
     "output_type": "execute_result"
    }
   ],
   "source": [
    "dict"
   ]
  },
  {
   "cell_type": "code",
   "execution_count": 76,
   "id": "b2f93c6a",
   "metadata": {},
   "outputs": [
    {
     "data": {
      "text/plain": [
       "{'山东': ['济南', '泺邑'], '福建': ['福州', '榕城'], '陕西': ['西安', '长安']}"
      ]
     },
     "execution_count": 76,
     "metadata": {},
     "output_type": "execute_result"
    }
   ],
   "source": [
    "dict_1"
   ]
  },
  {
   "cell_type": "code",
   "execution_count": 77,
   "id": "20121acc",
   "metadata": {},
   "outputs": [
    {
     "data": {
      "text/plain": [
       "{'山东': ['济南', '泉城'], '福建': ['福州', '榕城'], '陕西': ['西安', '长安']}"
      ]
     },
     "execution_count": 77,
     "metadata": {},
     "output_type": "execute_result"
    }
   ],
   "source": [
    "dict_2"
   ]
  },
  {
   "cell_type": "code",
   "execution_count": null,
   "id": "ae09c345",
   "metadata": {},
   "outputs": [],
   "source": []
  },
  {
   "cell_type": "code",
   "execution_count": null,
   "id": "a9f3307f",
   "metadata": {},
   "outputs": [],
   "source": []
  },
  {
   "cell_type": "code",
   "execution_count": null,
   "id": "3b1c7814",
   "metadata": {},
   "outputs": [],
   "source": []
  }
 ],
 "metadata": {
  "kernelspec": {
   "display_name": "Python 3 (ipykernel)",
   "language": "python",
   "name": "python3"
  },
  "language_info": {
   "codemirror_mode": {
    "name": "ipython",
    "version": 3
   },
   "file_extension": ".py",
   "mimetype": "text/x-python",
   "name": "python",
   "nbconvert_exporter": "python",
   "pygments_lexer": "ipython3",
   "version": "3.9.12"
  }
 },
 "nbformat": 4,
 "nbformat_minor": 5
}
