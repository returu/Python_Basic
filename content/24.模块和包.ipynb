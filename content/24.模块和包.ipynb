{
 "cells": [
  {
   "cell_type": "markdown",
   "id": "86a9fa53",
   "metadata": {},
   "source": [
    "## 2.模块的导入方式："
   ]
  },
  {
   "cell_type": "markdown",
   "id": "2655c560",
   "metadata": {},
   "source": [
    "### 2.1 直接导入："
   ]
  },
  {
   "cell_type": "code",
   "execution_count": 1,
   "id": "f16a711b",
   "metadata": {},
   "outputs": [
    {
     "data": {
      "text/plain": [
       "'本次大乐透结果——红球：[1, 18, 29, 30, 32]，蓝球：[2, 11]。'"
      ]
     },
     "execution_count": 1,
     "metadata": {},
     "output_type": "execute_result"
    }
   ],
   "source": [
    "# 直接导入模块\n",
    "import create_lottery\n",
    "# 调用模块中大乐透生成函数\n",
    "create_lottery.super_lotto()"
   ]
  },
  {
   "cell_type": "code",
   "execution_count": 2,
   "id": "3655f9ca",
   "metadata": {},
   "outputs": [
    {
     "data": {
      "text/plain": [
       "'本次双色球结果——红球：[4, 9, 10, 16, 25, 30]，蓝球：[14]。'"
      ]
     },
     "execution_count": 2,
     "metadata": {},
     "output_type": "execute_result"
    }
   ],
   "source": [
    "# 调用模块中双色球生成函数\n",
    "create_lottery.double_chromosphere()"
   ]
  },
  {
   "cell_type": "markdown",
   "id": "fa7319f1",
   "metadata": {},
   "source": [
    "### 2.2 使用别名导入模块："
   ]
  },
  {
   "cell_type": "code",
   "execution_count": 3,
   "id": "de607386",
   "metadata": {},
   "outputs": [
    {
     "data": {
      "text/plain": [
       "'本次大乐透结果——红球：[3, 5, 18, 23, 30]，蓝球：[1, 10]。'"
      ]
     },
     "execution_count": 3,
     "metadata": {},
     "output_type": "execute_result"
    }
   ],
   "source": [
    "# 使用别名导入模块\n",
    "import create_lottery as cl\n",
    "# 调用模块中大乐透生成函数\n",
    "cl.super_lotto()"
   ]
  },
  {
   "cell_type": "code",
   "execution_count": 4,
   "id": "8692b6c9",
   "metadata": {},
   "outputs": [
    {
     "data": {
      "text/plain": [
       "'本次双色球结果——红球：[13, 16, 21, 22, 28, 29]，蓝球：[4]。'"
      ]
     },
     "execution_count": 4,
     "metadata": {},
     "output_type": "execute_result"
    }
   ],
   "source": [
    "# 调用模块中双色球生成函数\n",
    "cl.double_chromosphere()"
   ]
  },
  {
   "cell_type": "markdown",
   "id": "331e3b2c",
   "metadata": {},
   "source": [
    "### 2.3 导入模块部分功能："
   ]
  },
  {
   "cell_type": "code",
   "execution_count": 5,
   "id": "bf10a8ea",
   "metadata": {},
   "outputs": [
    {
     "data": {
      "text/plain": [
       "'本次大乐透结果——红球：[1, 3, 7, 10, 18]，蓝球：[5, 6]。'"
      ]
     },
     "execution_count": 5,
     "metadata": {},
     "output_type": "execute_result"
    }
   ],
   "source": [
    "# 只导入模块中的super_lotto()函数\n",
    "from create_lottery import super_lotto\n",
    "# 调用模函数\n",
    "super_lotto()"
   ]
  },
  {
   "cell_type": "markdown",
   "id": "7d8dcb6a",
   "metadata": {},
   "source": [
    "### 2.4 导入模块全部功能："
   ]
  },
  {
   "cell_type": "code",
   "execution_count": 6,
   "id": "9c40107d",
   "metadata": {},
   "outputs": [
    {
     "data": {
      "text/plain": [
       "'本次大乐透结果——红球：[2, 22, 26, 28, 30]，蓝球：[9, 11]。'"
      ]
     },
     "execution_count": 6,
     "metadata": {},
     "output_type": "execute_result"
    }
   ],
   "source": [
    "# 导入模块全部功能\n",
    "from create_lottery import *\n",
    "# 调用模块中大乐透生成函数\n",
    "super_lotto()"
   ]
  },
  {
   "cell_type": "code",
   "execution_count": 7,
   "id": "7ddb44d8",
   "metadata": {},
   "outputs": [
    {
     "data": {
      "text/plain": [
       "'本次双色球结果——红球：[2, 9, 20, 25, 28, 30]，蓝球：[12]。'"
      ]
     },
     "execution_count": 7,
     "metadata": {},
     "output_type": "execute_result"
    }
   ],
   "source": [
    "# 调用模块中双色球生成函数\n",
    "double_chromosphere()"
   ]
  },
  {
   "cell_type": "markdown",
   "id": "988afeeb",
   "metadata": {},
   "source": [
    "### 2.5 导入包中的模块："
   ]
  },
  {
   "cell_type": "code",
   "execution_count": 8,
   "id": "1ebdaed6",
   "metadata": {},
   "outputs": [],
   "source": [
    "# 导入模块并重命名\n",
    "from create_caipiao import create_super_lotto as csl"
   ]
  },
  {
   "cell_type": "code",
   "execution_count": 9,
   "id": "eecc0e26",
   "metadata": {},
   "outputs": [
    {
     "data": {
      "text/plain": [
       "'本次大乐透结果——红球：[4, 10, 13, 18, 29]，蓝球：[2, 7]。'"
      ]
     },
     "execution_count": 9,
     "metadata": {},
     "output_type": "execute_result"
    }
   ],
   "source": [
    "# 调用函数\n",
    "csl.super_lotto()"
   ]
  },
  {
   "cell_type": "markdown",
   "id": "ea9ef7c1",
   "metadata": {},
   "source": [
    "## 3.模块的搜索路径："
   ]
  },
  {
   "cell_type": "code",
   "execution_count": 10,
   "id": "ccf583db",
   "metadata": {},
   "outputs": [
    {
     "ename": "ModuleNotFoundError",
     "evalue": "No module named 'create_super_lotto'",
     "output_type": "error",
     "traceback": [
      "\u001b[1;31m---------------------------------------------------------------------------\u001b[0m",
      "\u001b[1;31mModuleNotFoundError\u001b[0m                       Traceback (most recent call last)",
      "Input \u001b[1;32mIn [10]\u001b[0m, in \u001b[0;36m<cell line: 1>\u001b[1;34m()\u001b[0m\n\u001b[1;32m----> 1\u001b[0m \u001b[38;5;28;01mimport\u001b[39;00m \u001b[38;5;21;01mcreate_super_lotto\u001b[39;00m \u001b[38;5;28;01mas\u001b[39;00m \u001b[38;5;21;01mcsl\u001b[39;00m\n",
      "\u001b[1;31mModuleNotFoundError\u001b[0m: No module named 'create_super_lotto'"
     ]
    }
   ],
   "source": [
    "import create_super_lotto as csl"
   ]
  },
  {
   "cell_type": "code",
   "execution_count": null,
   "id": "7cba92cd",
   "metadata": {},
   "outputs": [],
   "source": []
  },
  {
   "cell_type": "code",
   "execution_count": 11,
   "id": "3a0434dc",
   "metadata": {},
   "outputs": [
    {
     "data": {
      "text/plain": [
       "['E:\\\\Python_Study\\\\Python基础',\n",
       " 'D:\\\\Anaconda\\\\python39.zip',\n",
       " 'D:\\\\Anaconda\\\\DLLs',\n",
       " 'D:\\\\Anaconda\\\\lib',\n",
       " 'D:\\\\Anaconda',\n",
       " '',\n",
       " 'D:\\\\Anaconda\\\\lib\\\\site-packages',\n",
       " 'D:\\\\Anaconda\\\\lib\\\\site-packages\\\\win32',\n",
       " 'D:\\\\Anaconda\\\\lib\\\\site-packages\\\\win32\\\\lib',\n",
       " 'D:\\\\Anaconda\\\\lib\\\\site-packages\\\\Pythonwin']"
      ]
     },
     "execution_count": 11,
     "metadata": {},
     "output_type": "execute_result"
    }
   ],
   "source": [
    "# 查看模块的搜索路径\n",
    "import sys\n",
    "\n",
    "sys.path"
   ]
  },
  {
   "cell_type": "code",
   "execution_count": 12,
   "id": "152c3646",
   "metadata": {},
   "outputs": [],
   "source": [
    "# 添加一条路径\n",
    "sys.path.append('E:\\Python_Study')"
   ]
  },
  {
   "cell_type": "code",
   "execution_count": 13,
   "id": "49d33d89",
   "metadata": {},
   "outputs": [
    {
     "data": {
      "text/plain": [
       "['E:\\\\Python_Study\\\\Python基础',\n",
       " 'D:\\\\Anaconda\\\\python39.zip',\n",
       " 'D:\\\\Anaconda\\\\DLLs',\n",
       " 'D:\\\\Anaconda\\\\lib',\n",
       " 'D:\\\\Anaconda',\n",
       " '',\n",
       " 'D:\\\\Anaconda\\\\lib\\\\site-packages',\n",
       " 'D:\\\\Anaconda\\\\lib\\\\site-packages\\\\win32',\n",
       " 'D:\\\\Anaconda\\\\lib\\\\site-packages\\\\win32\\\\lib',\n",
       " 'D:\\\\Anaconda\\\\lib\\\\site-packages\\\\Pythonwin',\n",
       " 'E:\\\\Python_Study']"
      ]
     },
     "execution_count": 13,
     "metadata": {},
     "output_type": "execute_result"
    }
   ],
   "source": [
    "sys.path"
   ]
  },
  {
   "cell_type": "code",
   "execution_count": 14,
   "id": "66b23b12",
   "metadata": {},
   "outputs": [],
   "source": [
    "# 添加一条路径到第一位\n",
    "sys.path.insert(0 , 'E:\\Python_Study\\Python基础\\create_caipiao')"
   ]
  },
  {
   "cell_type": "code",
   "execution_count": 15,
   "id": "6f81b8ca",
   "metadata": {},
   "outputs": [
    {
     "data": {
      "text/plain": [
       "['E:\\\\Python_Study\\\\Python基础\\\\create_caipiao',\n",
       " 'E:\\\\Python_Study\\\\Python基础',\n",
       " 'D:\\\\Anaconda\\\\python39.zip',\n",
       " 'D:\\\\Anaconda\\\\DLLs',\n",
       " 'D:\\\\Anaconda\\\\lib',\n",
       " 'D:\\\\Anaconda',\n",
       " '',\n",
       " 'D:\\\\Anaconda\\\\lib\\\\site-packages',\n",
       " 'D:\\\\Anaconda\\\\lib\\\\site-packages\\\\win32',\n",
       " 'D:\\\\Anaconda\\\\lib\\\\site-packages\\\\win32\\\\lib',\n",
       " 'D:\\\\Anaconda\\\\lib\\\\site-packages\\\\Pythonwin',\n",
       " 'E:\\\\Python_Study']"
      ]
     },
     "execution_count": 15,
     "metadata": {},
     "output_type": "execute_result"
    }
   ],
   "source": [
    "sys.path"
   ]
  },
  {
   "cell_type": "code",
   "execution_count": 16,
   "id": "446144e0",
   "metadata": {},
   "outputs": [],
   "source": [
    "# 修改搜索路径后再导入模块\n",
    "import create_super_lotto as csl"
   ]
  },
  {
   "cell_type": "code",
   "execution_count": 17,
   "id": "88f0006d",
   "metadata": {},
   "outputs": [
    {
     "data": {
      "text/plain": [
       "'本次大乐透结果——红球：[3, 4, 20, 23, 24]，蓝球：[6, 11]。'"
      ]
     },
     "execution_count": 17,
     "metadata": {},
     "output_type": "execute_result"
    }
   ],
   "source": [
    "# 调用函数\n",
    "csl.super_lotto()"
   ]
  },
  {
   "cell_type": "markdown",
   "id": "514be939",
   "metadata": {},
   "source": [
    "## 4.模块属性："
   ]
  },
  {
   "cell_type": "code",
   "execution_count": 18,
   "id": "d5c060d0",
   "metadata": {},
   "outputs": [],
   "source": [
    "# 使用别名导入模块\n",
    "import create_lottery as cl"
   ]
  },
  {
   "cell_type": "code",
   "execution_count": 19,
   "id": "b4fad1be",
   "metadata": {},
   "outputs": [
    {
     "data": {
      "text/plain": [
       "'create_lottery'"
      ]
     },
     "execution_count": 19,
     "metadata": {},
     "output_type": "execute_result"
    }
   ],
   "source": [
    "# 模块名称\n",
    "cl.__name__"
   ]
  },
  {
   "cell_type": "code",
   "execution_count": 20,
   "id": "d21b745f",
   "metadata": {},
   "outputs": [
    {
     "data": {
      "text/plain": [
       "'\\n该模块中super_lotto()函数功能为随机生成一注大乐透，double_chromosphere()函数功能为随机生成一注双色球。\\n'"
      ]
     },
     "execution_count": 20,
     "metadata": {},
     "output_type": "execute_result"
    }
   ],
   "source": [
    "# 模块详细说明\n",
    "cl.__doc__"
   ]
  },
  {
   "cell_type": "code",
   "execution_count": 21,
   "id": "67433af6",
   "metadata": {},
   "outputs": [
    {
     "data": {
      "text/plain": [
       "''"
      ]
     },
     "execution_count": 21,
     "metadata": {},
     "output_type": "execute_result"
    }
   ],
   "source": [
    "# 所在包名，因为是单一模块，因此包名为空\n",
    "cl.__package__"
   ]
  },
  {
   "cell_type": "code",
   "execution_count": 22,
   "id": "c9561ade",
   "metadata": {},
   "outputs": [
    {
     "data": {
      "text/plain": [
       "<_frozen_importlib_external.SourceFileLoader at 0x166d1d4baf0>"
      ]
     },
     "execution_count": 22,
     "metadata": {},
     "output_type": "execute_result"
    }
   ],
   "source": [
    "# 加载的类名\n",
    "cl.__loader__"
   ]
  },
  {
   "cell_type": "code",
   "execution_count": 23,
   "id": "5c0f650e",
   "metadata": {},
   "outputs": [
    {
     "data": {
      "text/plain": [
       "ModuleSpec(name='create_lottery', loader=<_frozen_importlib_external.SourceFileLoader object at 0x00000166D1D4BAF0>, origin='E:\\\\Python_Study\\\\Python基础\\\\create_lottery.py')"
      ]
     },
     "execution_count": 23,
     "metadata": {},
     "output_type": "execute_result"
    }
   ],
   "source": [
    "# 模块的概要信息\n",
    "cl.__spec__"
   ]
  },
  {
   "cell_type": "code",
   "execution_count": null,
   "id": "d45333ab",
   "metadata": {},
   "outputs": [],
   "source": []
  },
  {
   "cell_type": "code",
   "execution_count": null,
   "id": "3e0b023d",
   "metadata": {},
   "outputs": [],
   "source": []
  }
 ],
 "metadata": {
  "kernelspec": {
   "display_name": "Python 3 (ipykernel)",
   "language": "python",
   "name": "python3"
  },
  "language_info": {
   "codemirror_mode": {
    "name": "ipython",
    "version": 3
   },
   "file_extension": ".py",
   "mimetype": "text/x-python",
   "name": "python",
   "nbconvert_exporter": "python",
   "pygments_lexer": "ipython3",
   "version": "3.9.12"
  }
 },
 "nbformat": 4,
 "nbformat_minor": 5
}
