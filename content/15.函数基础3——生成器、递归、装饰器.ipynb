{
 "cells": [
  {
   "cell_type": "markdown",
   "id": "2699d1df",
   "metadata": {},
   "source": [
    "## 1.生成器："
   ]
  },
  {
   "cell_type": "markdown",
   "id": "2217a618",
   "metadata": {},
   "source": [
    "### 1.2生成器函数"
   ]
  },
  {
   "cell_type": "code",
   "execution_count": 1,
   "id": "365035ba",
   "metadata": {},
   "outputs": [],
   "source": [
    "def my_range(start=0 , end=10 , step=1):\n",
    "    num = start\n",
    "    while num < end:\n",
    "        yield num\n",
    "        num += step"
   ]
  },
  {
   "cell_type": "code",
   "execution_count": 2,
   "id": "51d46a96",
   "metadata": {},
   "outputs": [
    {
     "data": {
      "text/plain": [
       "<function __main__.my_range(start=0, end=10, step=1)>"
      ]
     },
     "execution_count": 2,
     "metadata": {},
     "output_type": "execute_result"
    }
   ],
   "source": [
    "# 这是一个普通函数\n",
    "my_range"
   ]
  },
  {
   "cell_type": "code",
   "execution_count": 3,
   "id": "c0962f9e",
   "metadata": {},
   "outputs": [
    {
     "data": {
      "text/plain": [
       "<generator object my_range at 0x0000021642094270>"
      ]
     },
     "execution_count": 3,
     "metadata": {},
     "output_type": "execute_result"
    }
   ],
   "source": [
    "# 函数会返回一个迭代器你对象\n",
    "my_range = my_range(1,5)\n",
    "my_range"
   ]
  },
  {
   "cell_type": "code",
   "execution_count": 4,
   "id": "62dcbdb9",
   "metadata": {},
   "outputs": [
    {
     "name": "stdout",
     "output_type": "stream",
     "text": [
      "1\n",
      "2\n",
      "3\n",
      "4\n"
     ]
    }
   ],
   "source": [
    "# 迭代返回的生成器对象\n",
    "for i in my_range:\n",
    "    print(i)"
   ]
  },
  {
   "cell_type": "code",
   "execution_count": 5,
   "id": "1104f56f",
   "metadata": {},
   "outputs": [],
   "source": [
    "# 生成器只能运行一次，因为生成器是动态生成值，迭代器会将其一次一个德送出。由于生成器并不会记忆这些值，因此无法重启或备份生成器。"
   ]
  },
  {
   "cell_type": "code",
   "execution_count": 6,
   "id": "f35393f2",
   "metadata": {},
   "outputs": [],
   "source": [
    "# 尝试再次迭代该生成器，可以看到什么都没有输出\n",
    "for j in my_range:\n",
    "    print(j)"
   ]
  },
  {
   "cell_type": "code",
   "execution_count": null,
   "id": "f03eb2b4",
   "metadata": {},
   "outputs": [],
   "source": []
  },
  {
   "cell_type": "markdown",
   "id": "d43de361",
   "metadata": {},
   "source": [
    "## 2.递归："
   ]
  },
  {
   "cell_type": "code",
   "execution_count": 7,
   "id": "42f008ef",
   "metadata": {},
   "outputs": [],
   "source": [
    "def flatten(lol):\n",
    "    for item in lol:\n",
    "        if isinstance(item , list):\n",
    "            for subitem in flatten(item):\n",
    "                yield subitem\n",
    "        else:\n",
    "            yield item         "
   ]
  },
  {
   "cell_type": "code",
   "execution_count": 8,
   "id": "e7ac772e",
   "metadata": {},
   "outputs": [],
   "source": [
    "lol = [1,[2,3],4,[[5]],[[6,[7,8]]],9]"
   ]
  },
  {
   "cell_type": "code",
   "execution_count": 9,
   "id": "ce024fb4",
   "metadata": {},
   "outputs": [
    {
     "data": {
      "text/plain": [
       "<generator object flatten at 0x0000021642094A50>"
      ]
     },
     "execution_count": 9,
     "metadata": {},
     "output_type": "execute_result"
    }
   ],
   "source": [
    "flatten(lol)"
   ]
  },
  {
   "cell_type": "code",
   "execution_count": 10,
   "id": "aaec6f65",
   "metadata": {},
   "outputs": [
    {
     "data": {
      "text/plain": [
       "[1, 2, 3, 4, 5, 6, 7, 8, 9]"
      ]
     },
     "execution_count": 10,
     "metadata": {},
     "output_type": "execute_result"
    }
   ],
   "source": [
    "list(flatten(lol))"
   ]
  },
  {
   "cell_type": "code",
   "execution_count": 11,
   "id": "7ef52f6f",
   "metadata": {},
   "outputs": [],
   "source": [
    "# 使用yield from表达式简化代码\n",
    "def flatten_2(lol):\n",
    "    for item in lol:\n",
    "        if isinstance(item , list):\n",
    "            yield from flatten(item)\n",
    "        else:\n",
    "            yield item"
   ]
  },
  {
   "cell_type": "code",
   "execution_count": 12,
   "id": "1b17dc9a",
   "metadata": {},
   "outputs": [
    {
     "data": {
      "text/plain": [
       "[1, 2, 3, 4, 5, 6, 7, 8, 9]"
      ]
     },
     "execution_count": 12,
     "metadata": {},
     "output_type": "execute_result"
    }
   ],
   "source": [
    "list(flatten_2(lol))"
   ]
  },
  {
   "cell_type": "code",
   "execution_count": null,
   "id": "52a07cd3",
   "metadata": {},
   "outputs": [],
   "source": []
  },
  {
   "cell_type": "markdown",
   "id": "7d327970",
   "metadata": {},
   "source": [
    "## 3.装饰器："
   ]
  },
  {
   "cell_type": "markdown",
   "id": "60f7f676",
   "metadata": {},
   "source": [
    "### 3.1 装饰器的实现"
   ]
  },
  {
   "cell_type": "code",
   "execution_count": 13,
   "id": "3e964ac0",
   "metadata": {},
   "outputs": [],
   "source": [
    "# 定义一个装饰器，用于检查输入参数是否是int类型\n",
    "def check_int(func): # 装饰器函数，参数为要被装饰的函数\n",
    "    def new_function(*args): # 定义一个检查参数类型的函数\n",
    "        print(\"运行的函数为：\" , func.__name__)\n",
    "        print(\"参数为：\" , args)\n",
    "        \n",
    "        if isinstance(args[0] , int) and isinstance(args[1] , int):\n",
    "            return func(*args)\n",
    "        print(\"输入参数不为int类型！\")\n",
    "        \n",
    "    return new_function # 将装饰后的函数返回"
   ]
  },
  {
   "cell_type": "code",
   "execution_count": 14,
   "id": "d02f6acd",
   "metadata": {},
   "outputs": [],
   "source": [
    "def add_ints(a , b):\n",
    "    return a + b"
   ]
  },
  {
   "cell_type": "code",
   "execution_count": 15,
   "id": "c4bb7085",
   "metadata": {},
   "outputs": [
    {
     "name": "stdout",
     "output_type": "stream",
     "text": [
      "运行的函数为： add_ints\n",
      "参数为： (2, 3)\n"
     ]
    },
    {
     "data": {
      "text/plain": [
       "5"
      ]
     },
     "execution_count": 15,
     "metadata": {},
     "output_type": "execute_result"
    }
   ],
   "source": [
    "# 使用装饰器——手动应用\n",
    "\n",
    "F = check_int(add_ints) # 对add_ints()函数进行装饰\n",
    "F(2,3)"
   ]
  },
  {
   "cell_type": "code",
   "execution_count": 16,
   "id": "a68901af",
   "metadata": {},
   "outputs": [
    {
     "name": "stdout",
     "output_type": "stream",
     "text": [
      "运行的函数为： add_ints\n",
      "参数为： (2, 'w')\n",
      "输入参数不为int类型！\n"
     ]
    }
   ],
   "source": [
    "F(2,'w')"
   ]
  },
  {
   "cell_type": "markdown",
   "id": "9b669588",
   "metadata": {},
   "source": [
    "### 3.2 @修饰符："
   ]
  },
  {
   "cell_type": "code",
   "execution_count": 17,
   "id": "f1495d03",
   "metadata": {},
   "outputs": [],
   "source": [
    "# 定义一个装饰器\n",
    "def check_int(func):\n",
    "    def new_function(*args):\n",
    "        print(\"运行的函数为：\" , func.__name__)\n",
    "        print(\"参数为：\" , args)\n",
    "        \n",
    "        if isinstance(args[0] , int) and isinstance(args[1] , int):\n",
    "            return func(*args)\n",
    "        print(\"输入参数不为int类型！\")\n",
    "        \n",
    "    return new_function"
   ]
  },
  {
   "cell_type": "code",
   "execution_count": 18,
   "id": "8c450bb4",
   "metadata": {},
   "outputs": [],
   "source": [
    "# 使用装饰器——@修饰符\n",
    "\n",
    "@check_int\n",
    "def add_ints(a , b):\n",
    "    return a + b"
   ]
  },
  {
   "cell_type": "code",
   "execution_count": 19,
   "id": "2d3b406b",
   "metadata": {},
   "outputs": [
    {
     "name": "stdout",
     "output_type": "stream",
     "text": [
      "运行的函数为： add_ints\n",
      "参数为： (2, 3)\n"
     ]
    },
    {
     "data": {
      "text/plain": [
       "5"
      ]
     },
     "execution_count": 19,
     "metadata": {},
     "output_type": "execute_result"
    }
   ],
   "source": [
    "add_ints(2 , 3)"
   ]
  },
  {
   "cell_type": "code",
   "execution_count": 20,
   "id": "bd1d3e34",
   "metadata": {},
   "outputs": [
    {
     "name": "stdout",
     "output_type": "stream",
     "text": [
      "运行的函数为： add_ints\n",
      "参数为： (2, 'w')\n",
      "输入参数不为int类型！\n"
     ]
    }
   ],
   "source": [
    "add_ints(2,'w')"
   ]
  },
  {
   "cell_type": "markdown",
   "id": "6ffbfbf9",
   "metadata": {},
   "source": [
    "### 3.3 多个装饰器联合使用："
   ]
  },
  {
   "cell_type": "code",
   "execution_count": 21,
   "id": "9bae9a12",
   "metadata": {},
   "outputs": [],
   "source": [
    "# 定义第一个装饰器\n",
    "def outter_1(func):\n",
    "    print(\"第一个装饰器\")\n",
    "    def inner_1(*args):\n",
    "        print(\"执行inner_1\")\n",
    "        result = func(*args)*2\n",
    "        return result\n",
    "        \n",
    "    return inner_1"
   ]
  },
  {
   "cell_type": "code",
   "execution_count": 22,
   "id": "eb905e36",
   "metadata": {},
   "outputs": [],
   "source": [
    "# 定义第二个装饰器\n",
    "def outter_2(func):\n",
    "    print(\"第二个装饰器\")\n",
    "    def inner_2(*args):\n",
    "        print(\"执行inner_2\")\n",
    "        result = func(*args)+'-'\n",
    "        return result\n",
    "        \n",
    "    return inner_2"
   ]
  },
  {
   "cell_type": "code",
   "execution_count": 23,
   "id": "9c096cce",
   "metadata": {},
   "outputs": [
    {
     "name": "stdout",
     "output_type": "stream",
     "text": [
      "第一个装饰器\n",
      "第二个装饰器\n"
     ]
    }
   ],
   "source": [
    "# 使用装饰器\n",
    "\n",
    "@outter_2\n",
    "@outter_1\n",
    "def demo(a):\n",
    "    print(\"执行demo函数\")\n",
    "    return a+'+'"
   ]
  },
  {
   "cell_type": "code",
   "execution_count": 24,
   "id": "63c2483f",
   "metadata": {},
   "outputs": [
    {
     "name": "stdout",
     "output_type": "stream",
     "text": [
      "执行inner_2\n",
      "执行inner_1\n",
      "执行demo函数\n"
     ]
    },
    {
     "data": {
      "text/plain": [
       "'XXX+XXX+-'"
      ]
     },
     "execution_count": 24,
     "metadata": {},
     "output_type": "execute_result"
    }
   ],
   "source": [
    "demo('XXX')"
   ]
  },
  {
   "cell_type": "code",
   "execution_count": null,
   "id": "ad39f0f4",
   "metadata": {},
   "outputs": [],
   "source": []
  },
  {
   "cell_type": "code",
   "execution_count": 25,
   "id": "ff3d47a5",
   "metadata": {},
   "outputs": [
    {
     "name": "stdout",
     "output_type": "stream",
     "text": [
      "第二个装饰器\n",
      "第一个装饰器\n",
      "执行inner_1\n",
      "执行inner_2\n",
      "执行demo函数\n"
     ]
    },
    {
     "data": {
      "text/plain": [
       "'XXX+-XXX+-'"
      ]
     },
     "execution_count": 25,
     "metadata": {},
     "output_type": "execute_result"
    }
   ],
   "source": [
    "# 将装饰器位置互换\n",
    "\n",
    "@outter_1\n",
    "@outter_2\n",
    "def demo(a):\n",
    "    print(\"执行demo函数\")\n",
    "    return a+'+'\n",
    "\n",
    "demo('XXX')"
   ]
  },
  {
   "cell_type": "code",
   "execution_count": null,
   "id": "b6f274e1",
   "metadata": {},
   "outputs": [],
   "source": []
  },
  {
   "cell_type": "code",
   "execution_count": null,
   "id": "8aea7eb5",
   "metadata": {},
   "outputs": [],
   "source": []
  }
 ],
 "metadata": {
  "kernelspec": {
   "display_name": "Python 3 (ipykernel)",
   "language": "python",
   "name": "python3"
  },
  "language_info": {
   "codemirror_mode": {
    "name": "ipython",
    "version": 3
   },
   "file_extension": ".py",
   "mimetype": "text/x-python",
   "name": "python",
   "nbconvert_exporter": "python",
   "pygments_lexer": "ipython3",
   "version": "3.9.12"
  }
 },
 "nbformat": 4,
 "nbformat_minor": 5
}
