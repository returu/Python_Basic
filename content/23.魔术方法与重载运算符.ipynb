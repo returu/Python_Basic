{
 "cells": [
  {
   "cell_type": "markdown",
   "id": "d7c47fd9",
   "metadata": {},
   "source": [
    "## 1.魔术方法："
   ]
  },
  {
   "cell_type": "markdown",
   "id": "e3e2c32b",
   "metadata": {},
   "source": [
    "#### 主动调用类中定义的函数"
   ]
  },
  {
   "cell_type": "code",
   "execution_count": 1,
   "id": "21ceb71b",
   "metadata": {},
   "outputs": [],
   "source": [
    "# 定义类\n",
    "class Student:\n",
    "    \n",
    "    def __init__(self , name , age):\n",
    "        self.name = name\n",
    "        self.age = age\n",
    "        \n",
    "    # 定义一个普通的equals()方法\n",
    "    def equals(self , value):\n",
    "        if self.age < value.age:\n",
    "            return f\"{self.name}年龄小于{value.name}。\"\n",
    "        if self.age > value.age:\n",
    "            return f\"{self.name}年龄大于{value.name}。\"\n",
    "        else:\n",
    "            return f\"{self.name}和{value.name}同岁。\""
   ]
  },
  {
   "cell_type": "code",
   "execution_count": 2,
   "id": "4b113f8e",
   "metadata": {},
   "outputs": [],
   "source": [
    "student_1 = Student(\"Tom\" , 12)\n",
    "student_2 = Student(\"Lucy\" , 15)"
   ]
  },
  {
   "cell_type": "code",
   "execution_count": 3,
   "id": "11064a66",
   "metadata": {},
   "outputs": [
    {
     "data": {
      "text/plain": [
       "'Tom年龄小于Lucy。'"
      ]
     },
     "execution_count": 3,
     "metadata": {},
     "output_type": "execute_result"
    }
   ],
   "source": [
    "student_1.equals(student_2)"
   ]
  },
  {
   "cell_type": "markdown",
   "id": "17eb8ad3",
   "metadata": {},
   "source": [
    "#### 魔术方法"
   ]
  },
  {
   "cell_type": "code",
   "execution_count": 4,
   "id": "5e51ff73",
   "metadata": {},
   "outputs": [],
   "source": [
    "# 定义类\n",
    "class Student:\n",
    "    \n",
    "    def __init__(self , name , age):\n",
    "        self.name = name\n",
    "        self.age = age\n",
    "        \n",
    "    # 魔术方法\n",
    "    def __eq__(self , value):\n",
    "        if self.age < value.age:\n",
    "            return f\"{self.name}年龄小于{value.name}。\"\n",
    "        if self.age > value.age:\n",
    "            return f\"{self.name}年龄大于{value.name}。\"\n",
    "        else:\n",
    "            return f\"{self.name}和{value.name}同岁。\""
   ]
  },
  {
   "cell_type": "code",
   "execution_count": 5,
   "id": "13f0ae54",
   "metadata": {},
   "outputs": [],
   "source": [
    "student_1 = Student(\"Tom\" , 12)\n",
    "student_2 = Student(\"Lucy\" , 15)"
   ]
  },
  {
   "cell_type": "code",
   "execution_count": 6,
   "id": "d28e4b11",
   "metadata": {},
   "outputs": [
    {
     "data": {
      "text/plain": [
       "'Tom年龄小于Lucy。'"
      ]
     },
     "execution_count": 6,
     "metadata": {},
     "output_type": "execute_result"
    }
   ],
   "source": [
    "student_1 == student_2"
   ]
  },
  {
   "cell_type": "markdown",
   "id": "b2aca907",
   "metadata": {},
   "source": [
    "## 3.简单示例："
   ]
  },
  {
   "cell_type": "code",
   "execution_count": 7,
   "id": "fd5047df",
   "metadata": {},
   "outputs": [],
   "source": [
    "class Method:\n",
    "    def __init__(self , x , y):\n",
    "        self.x = x\n",
    "        self.y = y\n",
    "        \n",
    "    def __add__(self , other):\n",
    "        return (self.x + other.x , self.y + other.y)"
   ]
  },
  {
   "cell_type": "code",
   "execution_count": 8,
   "id": "91e485aa",
   "metadata": {},
   "outputs": [],
   "source": [
    "a =Method(1,2)\n",
    "b =Method(2,3)"
   ]
  },
  {
   "cell_type": "code",
   "execution_count": 9,
   "id": "d71555ae",
   "metadata": {},
   "outputs": [
    {
     "data": {
      "text/plain": [
       "(3, 5)"
      ]
     },
     "execution_count": 9,
     "metadata": {},
     "output_type": "execute_result"
    }
   ],
   "source": [
    "a + b"
   ]
  },
  {
   "cell_type": "code",
   "execution_count": null,
   "id": "6dfb568e",
   "metadata": {},
   "outputs": [],
   "source": []
  },
  {
   "cell_type": "code",
   "execution_count": null,
   "id": "be12960a",
   "metadata": {},
   "outputs": [],
   "source": []
  }
 ],
 "metadata": {
  "kernelspec": {
   "display_name": "Python 3 (ipykernel)",
   "language": "python",
   "name": "python3"
  },
  "language_info": {
   "codemirror_mode": {
    "name": "ipython",
    "version": 3
   },
   "file_extension": ".py",
   "mimetype": "text/x-python",
   "name": "python",
   "nbconvert_exporter": "python",
   "pygments_lexer": "ipython3",
   "version": "3.9.12"
  }
 },
 "nbformat": 4,
 "nbformat_minor": 5
}
