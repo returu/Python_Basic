{
 "cells": [
  {
   "cell_type": "markdown",
   "id": "963ff40a",
   "metadata": {},
   "source": [
    "## 1.元祖的创建"
   ]
  },
  {
   "cell_type": "code",
   "execution_count": 1,
   "id": "e2e054d1",
   "metadata": {},
   "outputs": [],
   "source": [
    "# 使用逗号+圆括号创建元祖\n",
    "students = ('Tom' , 'Jerry' , 'Jon', 'Alice', 'Beth')"
   ]
  },
  {
   "cell_type": "code",
   "execution_count": 2,
   "id": "3ee362bd",
   "metadata": {},
   "outputs": [
    {
     "data": {
      "text/plain": [
       "('Tom', 'Jerry', 'Jon', 'Alice', 'Beth')"
      ]
     },
     "execution_count": 2,
     "metadata": {},
     "output_type": "execute_result"
    }
   ],
   "source": [
    "students"
   ]
  },
  {
   "cell_type": "code",
   "execution_count": 3,
   "id": "eb4badfb",
   "metadata": {},
   "outputs": [],
   "source": [
    "# 使用tuple()函数创建元祖\n",
    "students_list = ['Tom' , 'Jerry' , 'Jon', 'Alice', 'Beth']"
   ]
  },
  {
   "cell_type": "code",
   "execution_count": 4,
   "id": "80feaca7",
   "metadata": {},
   "outputs": [
    {
     "data": {
      "text/plain": [
       "('Tom', 'Jerry', 'Jon', 'Alice', 'Beth')"
      ]
     },
     "execution_count": 4,
     "metadata": {},
     "output_type": "execute_result"
    }
   ],
   "source": [
    "tuple(students_list)"
   ]
  },
  {
   "cell_type": "code",
   "execution_count": null,
   "id": "35ce0b6f",
   "metadata": {},
   "outputs": [],
   "source": []
  },
  {
   "cell_type": "code",
   "execution_count": 5,
   "id": "ccb70ab0",
   "metadata": {},
   "outputs": [
    {
     "data": {
      "text/plain": [
       "True"
      ]
     },
     "execution_count": 5,
     "metadata": {},
     "output_type": "execute_result"
    }
   ],
   "source": [
    "'Tom' in students"
   ]
  },
  {
   "cell_type": "code",
   "execution_count": 6,
   "id": "e7811104",
   "metadata": {},
   "outputs": [
    {
     "data": {
      "text/plain": [
       "5"
      ]
     },
     "execution_count": 6,
     "metadata": {},
     "output_type": "execute_result"
    }
   ],
   "source": [
    "len(students)"
   ]
  },
  {
   "cell_type": "code",
   "execution_count": 7,
   "id": "f11e7bbf",
   "metadata": {},
   "outputs": [
    {
     "data": {
      "text/plain": [
       "('Jerry', 'Jon')"
      ]
     },
     "execution_count": 7,
     "metadata": {},
     "output_type": "execute_result"
    }
   ],
   "source": [
    "students[1:3]"
   ]
  },
  {
   "cell_type": "code",
   "execution_count": null,
   "id": "80b04af0",
   "metadata": {},
   "outputs": [],
   "source": []
  },
  {
   "cell_type": "code",
   "execution_count": 8,
   "id": "e6da77a5",
   "metadata": {},
   "outputs": [
    {
     "data": {
      "text/plain": [
       "('Tom', 'Jerry', 'Jon', 'Alice', 'Beth')"
      ]
     },
     "execution_count": 8,
     "metadata": {},
     "output_type": "execute_result"
    }
   ],
   "source": [
    "students"
   ]
  },
  {
   "cell_type": "code",
   "execution_count": 9,
   "id": "d9f41eef",
   "metadata": {},
   "outputs": [],
   "source": [
    "students_2 = ('xiaoming', 'xiaohong', 'xiaogang', 'xiaoqing', 'xiaowang')"
   ]
  },
  {
   "cell_type": "code",
   "execution_count": 10,
   "id": "2bda2100",
   "metadata": {},
   "outputs": [
    {
     "data": {
      "text/plain": [
       "(True, False)"
      ]
     },
     "execution_count": 10,
     "metadata": {},
     "output_type": "execute_result"
    }
   ],
   "source": [
    "students < students_2 , students > students_2"
   ]
  },
  {
   "cell_type": "markdown",
   "id": "38b0c68e",
   "metadata": {},
   "source": [
    "## 2.元祖的操作"
   ]
  },
  {
   "cell_type": "markdown",
   "id": "f7b6833f",
   "metadata": {},
   "source": [
    "### 2.1 使用+拼接元祖"
   ]
  },
  {
   "cell_type": "code",
   "execution_count": 11,
   "id": "cd744d02",
   "metadata": {},
   "outputs": [
    {
     "data": {
      "text/plain": [
       "('Tom', 'Jerry', 'Jon', 'Alice', 'Beth')"
      ]
     },
     "execution_count": 11,
     "metadata": {},
     "output_type": "execute_result"
    }
   ],
   "source": [
    "('Tom' , 'Jerry' ) +  ('Jon', 'Alice', 'Beth')"
   ]
  },
  {
   "cell_type": "markdown",
   "id": "9ccf2cd0",
   "metadata": {},
   "source": [
    "### 2.2 使用*复制元祖"
   ]
  },
  {
   "cell_type": "code",
   "execution_count": 12,
   "id": "6918a755",
   "metadata": {},
   "outputs": [
    {
     "data": {
      "text/plain": [
       "('Tom', 'Jerry', 'Tom', 'Jerry')"
      ]
     },
     "execution_count": 12,
     "metadata": {},
     "output_type": "execute_result"
    }
   ],
   "source": [
    "('Tom' , 'Jerry' ) * 2"
   ]
  },
  {
   "cell_type": "markdown",
   "id": "485b69ea",
   "metadata": {},
   "source": [
    "### 2.3 修改元祖"
   ]
  },
  {
   "cell_type": "code",
   "execution_count": 13,
   "id": "d9191347",
   "metadata": {},
   "outputs": [],
   "source": [
    "t1 = ('Tom' , 'Jerry' )\n",
    "t2 = ('Jon', 'Alice', 'Beth')"
   ]
  },
  {
   "cell_type": "code",
   "execution_count": 14,
   "id": "bb06b23d",
   "metadata": {},
   "outputs": [
    {
     "data": {
      "text/plain": [
       "1306350217728"
      ]
     },
     "execution_count": 14,
     "metadata": {},
     "output_type": "execute_result"
    }
   ],
   "source": [
    "id(t1)"
   ]
  },
  {
   "cell_type": "code",
   "execution_count": 15,
   "id": "806d6b4b",
   "metadata": {},
   "outputs": [],
   "source": [
    "t1 += t2"
   ]
  },
  {
   "cell_type": "code",
   "execution_count": 16,
   "id": "a0c45270",
   "metadata": {},
   "outputs": [
    {
     "data": {
      "text/plain": [
       "('Tom', 'Jerry', 'Jon', 'Alice', 'Beth')"
      ]
     },
     "execution_count": 16,
     "metadata": {},
     "output_type": "execute_result"
    }
   ],
   "source": [
    "t1"
   ]
  },
  {
   "cell_type": "code",
   "execution_count": 17,
   "id": "91c4b665",
   "metadata": {},
   "outputs": [
    {
     "data": {
      "text/plain": [
       "1306350172256"
      ]
     },
     "execution_count": 17,
     "metadata": {},
     "output_type": "execute_result"
    }
   ],
   "source": [
    "id(t1)"
   ]
  },
  {
   "cell_type": "code",
   "execution_count": null,
   "id": "2a3d02b9",
   "metadata": {},
   "outputs": [],
   "source": []
  }
 ],
 "metadata": {
  "kernelspec": {
   "display_name": "Python 3 (ipykernel)",
   "language": "python",
   "name": "python3"
  },
  "language_info": {
   "codemirror_mode": {
    "name": "ipython",
    "version": 3
   },
   "file_extension": ".py",
   "mimetype": "text/x-python",
   "name": "python",
   "nbconvert_exporter": "python",
   "pygments_lexer": "ipython3",
   "version": "3.9.12"
  }
 },
 "nbformat": 4,
 "nbformat_minor": 5
}
