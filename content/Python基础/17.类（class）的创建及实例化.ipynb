{
 "cells": [
  {
   "cell_type": "markdown",
   "id": "35d54b7a",
   "metadata": {},
   "source": [
    "## 1.创建类："
   ]
  },
  {
   "cell_type": "markdown",
   "id": "e7420518",
   "metadata": {},
   "source": [
    "### 1.1  使用class定义类："
   ]
  },
  {
   "cell_type": "code",
   "execution_count": 1,
   "id": "6d58ec56",
   "metadata": {},
   "outputs": [],
   "source": [
    "class CarClass:\n",
    "    pass"
   ]
  },
  {
   "cell_type": "markdown",
   "id": "0bfe0087",
   "metadata": {},
   "source": [
    "### 1.2 根据类创建实例："
   ]
  },
  {
   "cell_type": "code",
   "execution_count": 2,
   "id": "0e6e8cac",
   "metadata": {},
   "outputs": [],
   "source": [
    "a_car = CarClass()"
   ]
  },
  {
   "cell_type": "code",
   "execution_count": 3,
   "id": "a88161e4",
   "metadata": {},
   "outputs": [],
   "source": [
    "another_car = CarClass()"
   ]
  },
  {
   "cell_type": "markdown",
   "id": "1fcb0e8d",
   "metadata": {},
   "source": [
    "## 2.定义类的动态属性："
   ]
  },
  {
   "cell_type": "markdown",
   "id": "f8aa7592",
   "metadata": {},
   "source": [
    "### 2.1 添加动态属性："
   ]
  },
  {
   "cell_type": "code",
   "execution_count": 4,
   "id": "65bb8704",
   "metadata": {},
   "outputs": [],
   "source": [
    "# 定义一个空类\n",
    "class CarClass:\n",
    "    pass"
   ]
  },
  {
   "cell_type": "code",
   "execution_count": 5,
   "id": "b4a7055d",
   "metadata": {},
   "outputs": [],
   "source": [
    "# 实例化一个对象a_car\n",
    "a_car = CarClass()"
   ]
  },
  {
   "cell_type": "code",
   "execution_count": 6,
   "id": "feb11fe5",
   "metadata": {},
   "outputs": [],
   "source": [
    "# 为该对象添加动态属性并赋值\n",
    "a_car.brand = 'audi'\n",
    "a_car.category = 'SUV'"
   ]
  },
  {
   "cell_type": "code",
   "execution_count": 7,
   "id": "beeee01f",
   "metadata": {},
   "outputs": [
    {
     "data": {
      "text/plain": [
       "('audi', 'SUV')"
      ]
     },
     "execution_count": 7,
     "metadata": {},
     "output_type": "execute_result"
    }
   ],
   "source": [
    "# 访问属性\n",
    "a_car.brand , a_car.category"
   ]
  },
  {
   "cell_type": "markdown",
   "id": "7d10659b",
   "metadata": {},
   "source": [
    "### 2.2 删除动态属性："
   ]
  },
  {
   "cell_type": "code",
   "execution_count": 8,
   "id": "29d163dd",
   "metadata": {},
   "outputs": [],
   "source": [
    "del a_car.category"
   ]
  },
  {
   "cell_type": "code",
   "execution_count": 9,
   "id": "532d02dd",
   "metadata": {},
   "outputs": [
    {
     "ename": "AttributeError",
     "evalue": "'CarClass' object has no attribute 'category'",
     "output_type": "error",
     "traceback": [
      "\u001b[1;31m---------------------------------------------------------------------------\u001b[0m",
      "\u001b[1;31mAttributeError\u001b[0m                            Traceback (most recent call last)",
      "Input \u001b[1;32mIn [9]\u001b[0m, in \u001b[0;36m<cell line: 1>\u001b[1;34m()\u001b[0m\n\u001b[1;32m----> 1\u001b[0m \u001b[43ma_car\u001b[49m\u001b[38;5;241;43m.\u001b[39;49m\u001b[43mcategory\u001b[49m\n",
      "\u001b[1;31mAttributeError\u001b[0m: 'CarClass' object has no attribute 'category'"
     ]
    }
   ],
   "source": [
    "a_car.category"
   ]
  },
  {
   "cell_type": "markdown",
   "id": "506e9228",
   "metadata": {},
   "source": [
    "### 2.3 限制类属性（__slots__）："
   ]
  },
  {
   "cell_type": "code",
   "execution_count": 10,
   "id": "2867fdf1",
   "metadata": {},
   "outputs": [],
   "source": [
    "# 定义一个空类\n",
    "class CarClass:\n",
    "    __slots__ = ('brand' , 'category')"
   ]
  },
  {
   "cell_type": "code",
   "execution_count": 11,
   "id": "f6c40487",
   "metadata": {},
   "outputs": [],
   "source": [
    "# 实例化一个对象a_car\n",
    "a_car = CarClass()"
   ]
  },
  {
   "cell_type": "code",
   "execution_count": 12,
   "id": "4f8e3b26",
   "metadata": {},
   "outputs": [],
   "source": [
    "# 为该对象添加__slots__中规定的动态属性并赋值\n",
    "a_car.brand = 'audi'\n",
    "a_car.category = 'SUV'"
   ]
  },
  {
   "cell_type": "code",
   "execution_count": 13,
   "id": "c4c2c1a6",
   "metadata": {},
   "outputs": [
    {
     "ename": "AttributeError",
     "evalue": "'CarClass' object has no attribute 'price'",
     "output_type": "error",
     "traceback": [
      "\u001b[1;31m---------------------------------------------------------------------------\u001b[0m",
      "\u001b[1;31mAttributeError\u001b[0m                            Traceback (most recent call last)",
      "Input \u001b[1;32mIn [13]\u001b[0m, in \u001b[0;36m<cell line: 2>\u001b[1;34m()\u001b[0m\n\u001b[0;32m      1\u001b[0m \u001b[38;5;66;03m# 为该对象添加其他动态属性\u001b[39;00m\n\u001b[1;32m----> 2\u001b[0m a_car\u001b[38;5;241m.\u001b[39mprice \u001b[38;5;241m=\u001b[39m \u001b[38;5;124m'\u001b[39m\u001b[38;5;124m20\u001b[39m\u001b[38;5;124m'\u001b[39m\n",
      "\u001b[1;31mAttributeError\u001b[0m: 'CarClass' object has no attribute 'price'"
     ]
    }
   ],
   "source": [
    "# 为该对象添加其他动态属性\n",
    "a_car.price = '20'"
   ]
  },
  {
   "cell_type": "markdown",
   "id": "18980ea7",
   "metadata": {},
   "source": [
    "## 3.带有初始值的实例化："
   ]
  },
  {
   "cell_type": "markdown",
   "id": "89cc0ba2",
   "metadata": {},
   "source": [
    "### 3.1 初始化方法（__init__）："
   ]
  },
  {
   "cell_type": "code",
   "execution_count": 14,
   "id": "40bd8f05",
   "metadata": {},
   "outputs": [],
   "source": [
    "# 定义一个空类\n",
    "class CarClass:\n",
    "    def __init__(self , brand , category):\n",
    "        self.brand = brand\n",
    "        self.category = category"
   ]
  },
  {
   "cell_type": "code",
   "execution_count": 15,
   "id": "94259155",
   "metadata": {},
   "outputs": [],
   "source": [
    "# 通过向参数传递对应值，创建一个Car对象\n",
    "a_car = CarClass('audi' , 'SUV')"
   ]
  },
  {
   "cell_type": "code",
   "execution_count": 16,
   "id": "a72f89d6",
   "metadata": {},
   "outputs": [
    {
     "data": {
      "text/plain": [
       "('audi', 'SUV')"
      ]
     },
     "execution_count": 16,
     "metadata": {},
     "output_type": "execute_result"
    }
   ],
   "source": [
    "# 访问属性\n",
    "a_car.brand , a_car.category"
   ]
  },
  {
   "cell_type": "markdown",
   "id": "196fe6c2",
   "metadata": {},
   "source": [
    "### 3.2 默认调用的__init__："
   ]
  },
  {
   "cell_type": "code",
   "execution_count": 17,
   "id": "836ec522",
   "metadata": {},
   "outputs": [],
   "source": [
    "# 定义一个空类\n",
    "class CarClass:\n",
    "    def __init__(self):\n",
    "        print(\"即使没有初始值也会调用__init__。\")"
   ]
  },
  {
   "cell_type": "code",
   "execution_count": 18,
   "id": "e73377f4",
   "metadata": {},
   "outputs": [
    {
     "name": "stdout",
     "output_type": "stream",
     "text": [
      "即使没有初始值也会调用__init__。\n"
     ]
    }
   ],
   "source": [
    "# 实例化一个对象a_car\n",
    "a_cat = CarClass()"
   ]
  },
  {
   "cell_type": "markdown",
   "id": "7ec67510",
   "metadata": {},
   "source": [
    "## 4.类的内置属性："
   ]
  },
  {
   "cell_type": "code",
   "execution_count": 19,
   "id": "ee29d68e",
   "metadata": {},
   "outputs": [],
   "source": [
    "# 定义一个空类\n",
    "class CarClass:\n",
    "    \"\"\"\n",
    "    用于描述类的文档字符串\n",
    "    \"\"\"\n",
    "    def __init__(self , brand , category):\n",
    "        self.brand = brand\n",
    "        self.category = category"
   ]
  },
  {
   "cell_type": "code",
   "execution_count": 20,
   "id": "b208c87d",
   "metadata": {},
   "outputs": [
    {
     "data": {
      "text/plain": [
       "'CarClass'"
      ]
     },
     "execution_count": 20,
     "metadata": {},
     "output_type": "execute_result"
    }
   ],
   "source": [
    "CarClass.__name__"
   ]
  },
  {
   "cell_type": "code",
   "execution_count": 21,
   "id": "c64c7179",
   "metadata": {},
   "outputs": [
    {
     "data": {
      "text/plain": [
       "'\\n    用于描述类的文档字符串\\n    '"
      ]
     },
     "execution_count": 21,
     "metadata": {},
     "output_type": "execute_result"
    }
   ],
   "source": [
    "CarClass.__doc__"
   ]
  },
  {
   "cell_type": "code",
   "execution_count": 22,
   "id": "034d67a4",
   "metadata": {},
   "outputs": [
    {
     "data": {
      "text/plain": [
       "'__main__'"
      ]
     },
     "execution_count": 22,
     "metadata": {},
     "output_type": "execute_result"
    }
   ],
   "source": [
    "CarClass.__module__"
   ]
  },
  {
   "cell_type": "code",
   "execution_count": 23,
   "id": "0edeb274",
   "metadata": {},
   "outputs": [
    {
     "data": {
      "text/plain": [
       "object"
      ]
     },
     "execution_count": 23,
     "metadata": {},
     "output_type": "execute_result"
    }
   ],
   "source": [
    "CarClass.__base__"
   ]
  },
  {
   "cell_type": "code",
   "execution_count": 24,
   "id": "5b771c4c",
   "metadata": {},
   "outputs": [
    {
     "data": {
      "text/plain": [
       "mappingproxy({'__module__': '__main__',\n",
       "              '__doc__': '\\n    用于描述类的文档字符串\\n    ',\n",
       "              '__init__': <function __main__.CarClass.__init__(self, brand, category)>,\n",
       "              '__dict__': <attribute '__dict__' of 'CarClass' objects>,\n",
       "              '__weakref__': <attribute '__weakref__' of 'CarClass' objects>})"
      ]
     },
     "execution_count": 24,
     "metadata": {},
     "output_type": "execute_result"
    }
   ],
   "source": [
    "CarClass.__dict__"
   ]
  },
  {
   "cell_type": "code",
   "execution_count": null,
   "id": "7b557e40",
   "metadata": {},
   "outputs": [],
   "source": []
  },
  {
   "cell_type": "code",
   "execution_count": null,
   "id": "f205fd77",
   "metadata": {},
   "outputs": [],
   "source": []
  }
 ],
 "metadata": {
  "kernelspec": {
   "display_name": "Python 3 (ipykernel)",
   "language": "python",
   "name": "python3"
  },
  "language_info": {
   "codemirror_mode": {
    "name": "ipython",
    "version": 3
   },
   "file_extension": ".py",
   "mimetype": "text/x-python",
   "name": "python",
   "nbconvert_exporter": "python",
   "pygments_lexer": "ipython3",
   "version": "3.9.12"
  }
 },
 "nbformat": 4,
 "nbformat_minor": 5
}
