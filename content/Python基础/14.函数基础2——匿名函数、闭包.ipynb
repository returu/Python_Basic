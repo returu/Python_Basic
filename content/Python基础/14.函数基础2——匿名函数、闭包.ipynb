{
 "cells": [
  {
   "cell_type": "markdown",
   "id": "a94ea163",
   "metadata": {},
   "source": [
    "## 1.将函数作为其他函数的参数或返回值："
   ]
  },
  {
   "cell_type": "markdown",
   "id": "eba15f87",
   "metadata": {},
   "source": [
    "### 1.1 不带参数的函数"
   ]
  },
  {
   "cell_type": "code",
   "execution_count": 1,
   "id": "8a4cb2e7",
   "metadata": {},
   "outputs": [],
   "source": [
    "# 首先定义一个函数，该函数不带参数\n",
    "def print_something():\n",
    "    print('something')"
   ]
  },
  {
   "cell_type": "code",
   "execution_count": 2,
   "id": "ac087fe6",
   "metadata": {},
   "outputs": [],
   "source": [
    "# 再定义第二个函数，该函数有一个参数func，代表要运行的函数\n",
    "def run_something(func):\n",
    "    func()"
   ]
  },
  {
   "cell_type": "code",
   "execution_count": 3,
   "id": "becc56a8",
   "metadata": {},
   "outputs": [
    {
     "name": "stdout",
     "output_type": "stream",
     "text": [
      "something\n"
     ]
    }
   ],
   "source": [
    "# 将第一个函数作为参数传递给第二个函数\n",
    "run_something(print_something)"
   ]
  },
  {
   "cell_type": "markdown",
   "id": "b1d9262b",
   "metadata": {},
   "source": [
    "### 1.1 带有参数的函数"
   ]
  },
  {
   "cell_type": "code",
   "execution_count": 4,
   "id": "53738484",
   "metadata": {},
   "outputs": [],
   "source": [
    "# 首先定义一个求和函数，其参数为可变数量的参数\n",
    "def add_args(*args):\n",
    "    print(sum(args))"
   ]
  },
  {
   "cell_type": "code",
   "execution_count": 5,
   "id": "04de696f",
   "metadata": {},
   "outputs": [],
   "source": [
    "# 再定义第二个函数，参数func代表要运行的函数，*args代表可变数量的参数\n",
    "def run_something(func , *args):\n",
    "    func(*args)"
   ]
  },
  {
   "cell_type": "code",
   "execution_count": 6,
   "id": "ea290164",
   "metadata": {},
   "outputs": [
    {
     "name": "stdout",
     "output_type": "stream",
     "text": [
      "9\n"
     ]
    }
   ],
   "source": [
    "# 将参数传递给第二个函数\n",
    "run_something(add_args , 2 , 3 , 4)"
   ]
  },
  {
   "cell_type": "code",
   "execution_count": null,
   "id": "0348bd20",
   "metadata": {},
   "outputs": [],
   "source": []
  },
  {
   "cell_type": "code",
   "execution_count": 7,
   "id": "314c8e80",
   "metadata": {},
   "outputs": [],
   "source": [
    "def print_something():\n",
    "    print('something')"
   ]
  },
  {
   "cell_type": "code",
   "execution_count": 8,
   "id": "e5f401fa",
   "metadata": {},
   "outputs": [
    {
     "data": {
      "text/plain": [
       "<function __main__.print_something()>"
      ]
     },
     "execution_count": 8,
     "metadata": {},
     "output_type": "execute_result"
    }
   ],
   "source": [
    "# 引用函数\n",
    "print_something"
   ]
  },
  {
   "cell_type": "code",
   "execution_count": 9,
   "id": "2059b499",
   "metadata": {},
   "outputs": [
    {
     "name": "stdout",
     "output_type": "stream",
     "text": [
      "something\n"
     ]
    }
   ],
   "source": [
    "# 调用函数\n",
    "print_something()"
   ]
  },
  {
   "cell_type": "code",
   "execution_count": null,
   "id": "2d869e50",
   "metadata": {},
   "outputs": [],
   "source": []
  },
  {
   "cell_type": "markdown",
   "id": "de5b517b",
   "metadata": {},
   "source": [
    "## 2.匿名函数："
   ]
  },
  {
   "cell_type": "code",
   "execution_count": 10,
   "id": "8b254029",
   "metadata": {},
   "outputs": [],
   "source": [
    "f = lambda x , y : x * y"
   ]
  },
  {
   "cell_type": "code",
   "execution_count": 11,
   "id": "244c9e4b",
   "metadata": {},
   "outputs": [
    {
     "data": {
      "text/plain": [
       "function"
      ]
     },
     "execution_count": 11,
     "metadata": {},
     "output_type": "execute_result"
    }
   ],
   "source": [
    "type(f)"
   ]
  },
  {
   "cell_type": "code",
   "execution_count": 12,
   "id": "d4a0cdc5",
   "metadata": {},
   "outputs": [
    {
     "data": {
      "text/plain": [
       "6"
      ]
     },
     "execution_count": 12,
     "metadata": {},
     "output_type": "execute_result"
    }
   ],
   "source": [
    "f(2 , 3)"
   ]
  },
  {
   "cell_type": "code",
   "execution_count": null,
   "id": "e15c1fa0",
   "metadata": {},
   "outputs": [],
   "source": []
  },
  {
   "cell_type": "markdown",
   "id": "def6c16e",
   "metadata": {},
   "source": [
    "## 3.内部函数："
   ]
  },
  {
   "cell_type": "code",
   "execution_count": 13,
   "id": "f91b846e",
   "metadata": {},
   "outputs": [],
   "source": [
    "def outer_func(x , y):\n",
    "    def inner_func(a , b):\n",
    "        return a + b\n",
    "    return inner_func(x , y)"
   ]
  },
  {
   "cell_type": "code",
   "execution_count": 14,
   "id": "5a8e983c",
   "metadata": {},
   "outputs": [
    {
     "data": {
      "text/plain": [
       "3"
      ]
     },
     "execution_count": 14,
     "metadata": {},
     "output_type": "execute_result"
    }
   ],
   "source": [
    "outer_func(1 , 2)"
   ]
  },
  {
   "cell_type": "code",
   "execution_count": null,
   "id": "6386e514",
   "metadata": {},
   "outputs": [],
   "source": []
  },
  {
   "cell_type": "markdown",
   "id": "0d2022ca",
   "metadata": {},
   "source": [
    "## 4.闭包"
   ]
  },
  {
   "cell_type": "markdown",
   "id": "46eb12f7",
   "metadata": {},
   "source": [
    "### 4.1 闭包定义："
   ]
  },
  {
   "cell_type": "code",
   "execution_count": 15,
   "id": "12bd35c7",
   "metadata": {},
   "outputs": [],
   "source": [
    "def outer_func(x):      # 外部函数\n",
    "    print(f'外部层函数的参数：{x}')\n",
    "    def inner_func(y):  # 内部函数\n",
    "        print(f'内部函数的参数：{y}')\n",
    "        return x ** y\n",
    "    return inner_func   # 返回值为内部函数"
   ]
  },
  {
   "cell_type": "code",
   "execution_count": 16,
   "id": "ce1387ad",
   "metadata": {},
   "outputs": [
    {
     "name": "stdout",
     "output_type": "stream",
     "text": [
      "外部层函数的参数：2\n"
     ]
    }
   ],
   "source": [
    "result = outer_func(2)"
   ]
  },
  {
   "cell_type": "code",
   "execution_count": 17,
   "id": "41ba5b32",
   "metadata": {},
   "outputs": [
    {
     "data": {
      "text/plain": [
       "<function __main__.outer_func.<locals>.inner_func(y)>"
      ]
     },
     "execution_count": 17,
     "metadata": {},
     "output_type": "execute_result"
    }
   ],
   "source": [
    "result"
   ]
  },
  {
   "cell_type": "code",
   "execution_count": 18,
   "id": "caa86b68",
   "metadata": {},
   "outputs": [
    {
     "name": "stdout",
     "output_type": "stream",
     "text": [
      "内部函数的参数：3\n"
     ]
    },
    {
     "data": {
      "text/plain": [
       "8"
      ]
     },
     "execution_count": 18,
     "metadata": {},
     "output_type": "execute_result"
    }
   ],
   "source": [
    "result(3)"
   ]
  },
  {
   "cell_type": "markdown",
   "id": "4eabae2c",
   "metadata": {},
   "source": [
    "### 4.2 __closure__属性："
   ]
  },
  {
   "cell_type": "code",
   "execution_count": 19,
   "id": "65b65445",
   "metadata": {},
   "outputs": [
    {
     "data": {
      "text/plain": [
       "(<cell at 0x0000024567002640: int object at 0x0000024560BB6950>,)"
      ]
     },
     "execution_count": 19,
     "metadata": {},
     "output_type": "execute_result"
    }
   ],
   "source": [
    "result.__closure__"
   ]
  },
  {
   "cell_type": "markdown",
   "id": "3940dced",
   "metadata": {},
   "source": [
    "### 4.3 闭包用途："
   ]
  },
  {
   "cell_type": "code",
   "execution_count": 20,
   "id": "8d36540d",
   "metadata": {},
   "outputs": [],
   "source": [
    "def outer_func(a):\n",
    "    b = 10\n",
    "    def inner_func(x):\n",
    "        print(f'{a}*{x}+{b}')\n",
    " \n",
    "    return inner_func"
   ]
  },
  {
   "cell_type": "code",
   "execution_count": 21,
   "id": "0af3a80a",
   "metadata": {},
   "outputs": [
    {
     "name": "stdout",
     "output_type": "stream",
     "text": [
      "5*20+10\n"
     ]
    }
   ],
   "source": [
    "F = outer_func(5)\n",
    "F(20)"
   ]
  },
  {
   "cell_type": "markdown",
   "id": "0a98b02b",
   "metadata": {},
   "source": [
    "### 4.4 nonlocal关键字："
   ]
  },
  {
   "cell_type": "code",
   "execution_count": 22,
   "id": "059f3cdb",
   "metadata": {},
   "outputs": [],
   "source": [
    "def outer_func(a):\n",
    "    b = 10\n",
    "    def inner_func(x):\n",
    "        nonlocal b\n",
    "        b += 1\n",
    "        print(f'{a}*{x}+{b}')\n",
    " \n",
    "    return inner_func"
   ]
  },
  {
   "cell_type": "code",
   "execution_count": 23,
   "id": "2d389fc2",
   "metadata": {},
   "outputs": [
    {
     "name": "stdout",
     "output_type": "stream",
     "text": [
      "5*20+11\n"
     ]
    }
   ],
   "source": [
    "F = outer_func(5)\n",
    "F(20)"
   ]
  },
  {
   "cell_type": "code",
   "execution_count": 24,
   "id": "22536c05",
   "metadata": {},
   "outputs": [
    {
     "name": "stdout",
     "output_type": "stream",
     "text": [
      "5*50+12\n"
     ]
    }
   ],
   "source": [
    "F(50)"
   ]
  },
  {
   "cell_type": "code",
   "execution_count": 25,
   "id": "80f952dd",
   "metadata": {},
   "outputs": [
    {
     "name": "stdout",
     "output_type": "stream",
     "text": [
      "5*100+13\n"
     ]
    }
   ],
   "source": [
    "F(100)"
   ]
  },
  {
   "cell_type": "code",
   "execution_count": null,
   "id": "79f9371d",
   "metadata": {},
   "outputs": [],
   "source": []
  },
  {
   "cell_type": "code",
   "execution_count": null,
   "id": "9499ec44",
   "metadata": {},
   "outputs": [],
   "source": []
  },
  {
   "cell_type": "code",
   "execution_count": null,
   "id": "a9f44df6",
   "metadata": {},
   "outputs": [],
   "source": []
  },
  {
   "cell_type": "code",
   "execution_count": null,
   "id": "16b8a75a",
   "metadata": {},
   "outputs": [],
   "source": []
  },
  {
   "cell_type": "code",
   "execution_count": null,
   "id": "87ffc44b",
   "metadata": {},
   "outputs": [],
   "source": []
  }
 ],
 "metadata": {
  "kernelspec": {
   "display_name": "Python 3 (ipykernel)",
   "language": "python",
   "name": "python3"
  },
  "language_info": {
   "codemirror_mode": {
    "name": "ipython",
    "version": 3
   },
   "file_extension": ".py",
   "mimetype": "text/x-python",
   "name": "python",
   "nbconvert_exporter": "python",
   "pygments_lexer": "ipython3",
   "version": "3.9.12"
  }
 },
 "nbformat": 4,
 "nbformat_minor": 5
}
