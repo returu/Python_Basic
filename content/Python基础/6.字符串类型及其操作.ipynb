{
 "cells": [
  {
   "cell_type": "markdown",
   "id": "f277d9dc",
   "metadata": {},
   "source": [
    "## 1.字符串的表示方式及创建："
   ]
  },
  {
   "cell_type": "code",
   "execution_count": 1,
   "id": "f3988992",
   "metadata": {},
   "outputs": [
    {
     "data": {
      "text/plain": [
       "'100'"
      ]
     },
     "execution_count": 1,
     "metadata": {},
     "output_type": "execute_result"
    }
   ],
   "source": [
    "str(100)"
   ]
  },
  {
   "cell_type": "code",
   "execution_count": 2,
   "id": "a6cff81a",
   "metadata": {},
   "outputs": [
    {
     "data": {
      "text/plain": [
       "'True'"
      ]
     },
     "execution_count": 2,
     "metadata": {},
     "output_type": "execute_result"
    }
   ],
   "source": [
    "str(True)"
   ]
  },
  {
   "cell_type": "code",
   "execution_count": 3,
   "id": "8ccf126d",
   "metadata": {},
   "outputs": [
    {
     "data": {
      "text/plain": [
       "'1200.0'"
      ]
     },
     "execution_count": 3,
     "metadata": {},
     "output_type": "execute_result"
    }
   ],
   "source": [
    "str(1.2e3)"
   ]
  },
  {
   "cell_type": "markdown",
   "id": "b4be80bc",
   "metadata": {},
   "source": [
    "## 2.字符串中特殊的​格式化控制字符："
   ]
  },
  {
   "cell_type": "code",
   "execution_count": 4,
   "id": "22778e67",
   "metadata": {},
   "outputs": [
    {
     "name": "stdout",
     "output_type": "stream",
     "text": [
      "Python\t编程语言\n"
     ]
    }
   ],
   "source": [
    "print(\"Python\\t编程语言\")"
   ]
  },
  {
   "cell_type": "code",
   "execution_count": 5,
   "id": "1e923222",
   "metadata": {},
   "outputs": [
    {
     "name": "stdout",
     "output_type": "stream",
     "text": [
      "Python\n",
      "编程语言\n"
     ]
    }
   ],
   "source": [
    "print(\"Python\\n编程语言\")"
   ]
  },
  {
   "cell_type": "code",
   "execution_count": 6,
   "id": "e5e94bc9",
   "metadata": {},
   "outputs": [
    {
     "name": "stdout",
     "output_type": "stream",
     "text": [
      "转义字符串里的\"双引号\"\n"
     ]
    }
   ],
   "source": [
    "# 使用转义符,转义字符串里的单引号或双引号\n",
    "print(\"转义字符串里的\\\"双引号\\\"\")"
   ]
  },
  {
   "cell_type": "code",
   "execution_count": 7,
   "id": "0a5373c9",
   "metadata": {},
   "outputs": [
    {
     "name": "stdout",
     "output_type": "stream",
     "text": [
      "转义字符串里的反斜线(\\)。\n"
     ]
    }
   ],
   "source": [
    "# 使用转义符转义反斜线\n",
    "print(\"转义字符串里的反斜线(\\\\)。\")"
   ]
  },
  {
   "cell_type": "code",
   "execution_count": 8,
   "id": "68f7d602",
   "metadata": {},
   "outputs": [
    {
     "data": {
      "text/plain": [
       "'这是\\\\n一个示例'"
      ]
     },
     "execution_count": 8,
     "metadata": {},
     "output_type": "execute_result"
    }
   ],
   "source": [
    "# 原始字符串能够消除转义效果\n",
    "info = r'这是\\n一个示例'\n",
    "info"
   ]
  },
  {
   "cell_type": "code",
   "execution_count": 9,
   "id": "831311b5",
   "metadata": {},
   "outputs": [
    {
     "name": "stdout",
     "output_type": "stream",
     "text": [
      "这是\\n一个示例\n"
     ]
    }
   ],
   "source": [
    "print(info)"
   ]
  },
  {
   "cell_type": "markdown",
   "id": "03edfe94",
   "metadata": {},
   "source": [
    "## 3.字符串的索引与切片："
   ]
  },
  {
   "cell_type": "code",
   "execution_count": 10,
   "id": "47e7a14c",
   "metadata": {},
   "outputs": [],
   "source": [
    "name = \"Python编程语言\""
   ]
  },
  {
   "cell_type": "code",
   "execution_count": 11,
   "id": "cb12496b",
   "metadata": {},
   "outputs": [
    {
     "data": {
      "text/plain": [
       "'t'"
      ]
     },
     "execution_count": 11,
     "metadata": {},
     "output_type": "execute_result"
    }
   ],
   "source": [
    "# 获取第三个字符\n",
    "name[2]"
   ]
  },
  {
   "cell_type": "code",
   "execution_count": 12,
   "id": "0c107e78",
   "metadata": {},
   "outputs": [
    {
     "data": {
      "text/plain": [
       "'语'"
      ]
     },
     "execution_count": 12,
     "metadata": {},
     "output_type": "execute_result"
    }
   ],
   "source": [
    "# 获取倒数第二个字符\n",
    "name[-2]"
   ]
  },
  {
   "cell_type": "code",
   "execution_count": 13,
   "id": "4bb44e58",
   "metadata": {},
   "outputs": [
    {
     "data": {
      "text/plain": [
       "'thon编程'"
      ]
     },
     "execution_count": 13,
     "metadata": {},
     "output_type": "execute_result"
    }
   ],
   "source": [
    "# 获取第3到第8个字符\n",
    "name[2:8]"
   ]
  },
  {
   "cell_type": "code",
   "execution_count": 14,
   "id": "b3309801",
   "metadata": {},
   "outputs": [
    {
     "data": {
      "text/plain": [
       "'thon编程'"
      ]
     },
     "execution_count": 14,
     "metadata": {},
     "output_type": "execute_result"
    }
   ],
   "source": [
    "# 获取第3到倒数第3个字符\n",
    "name[2:-2]"
   ]
  },
  {
   "cell_type": "code",
   "execution_count": 15,
   "id": "df014dca",
   "metadata": {},
   "outputs": [
    {
     "data": {
      "text/plain": [
       "'Python编程'"
      ]
     },
     "execution_count": 15,
     "metadata": {},
     "output_type": "execute_result"
    }
   ],
   "source": [
    "# 获取第1到第8个字符\n",
    "name[:8]"
   ]
  },
  {
   "cell_type": "code",
   "execution_count": 16,
   "id": "7eec08c3",
   "metadata": {},
   "outputs": [
    {
     "data": {
      "text/plain": [
       "'thon编程语言'"
      ]
     },
     "execution_count": 16,
     "metadata": {},
     "output_type": "execute_result"
    }
   ],
   "source": [
    "# 获取第3到最后1个字符\n",
    "name[2:]"
   ]
  },
  {
   "cell_type": "code",
   "execution_count": 17,
   "id": "61d0b8e9",
   "metadata": {},
   "outputs": [
    {
     "data": {
      "text/plain": [
       "'Pto编'"
      ]
     },
     "execution_count": 17,
     "metadata": {},
     "output_type": "execute_result"
    }
   ],
   "source": [
    "# 每隔1个字符，获取第1到第8个字符\n",
    "name[:8:2]"
   ]
  },
  {
   "cell_type": "code",
   "execution_count": null,
   "id": "aaaeca7a",
   "metadata": {},
   "outputs": [],
   "source": []
  },
  {
   "cell_type": "code",
   "execution_count": 18,
   "id": "bf038ecc",
   "metadata": {},
   "outputs": [
    {
     "ename": "TypeError",
     "evalue": "'str' object does not support item assignment",
     "output_type": "error",
     "traceback": [
      "\u001b[1;31m---------------------------------------------------------------------------\u001b[0m",
      "\u001b[1;31mTypeError\u001b[0m                                 Traceback (most recent call last)",
      "Input \u001b[1;32mIn [18]\u001b[0m, in \u001b[0;36m<cell line: 1>\u001b[1;34m()\u001b[0m\n\u001b[1;32m----> 1\u001b[0m name[\u001b[38;5;241m0\u001b[39m] \u001b[38;5;241m=\u001b[39m \u001b[38;5;124m'\u001b[39m\u001b[38;5;124mp\u001b[39m\u001b[38;5;124m'\u001b[39m\n",
      "\u001b[1;31mTypeError\u001b[0m: 'str' object does not support item assignment"
     ]
    }
   ],
   "source": [
    "name[0] = 'p'"
   ]
  },
  {
   "cell_type": "markdown",
   "id": "ce0925bb",
   "metadata": {},
   "source": [
    "## 4.字符串基本操作符："
   ]
  },
  {
   "cell_type": "code",
   "execution_count": 19,
   "id": "fb5d395d",
   "metadata": {},
   "outputs": [
    {
     "data": {
      "text/plain": [
       "'Python编程语言'"
      ]
     },
     "execution_count": 19,
     "metadata": {},
     "output_type": "execute_result"
    }
   ],
   "source": [
    "\"Python\" + \"编程语言\""
   ]
  },
  {
   "cell_type": "code",
   "execution_count": 20,
   "id": "17337220",
   "metadata": {},
   "outputs": [
    {
     "data": {
      "text/plain": [
       "'Python编程语言Python编程语言Python编程语言'"
      ]
     },
     "execution_count": 20,
     "metadata": {},
     "output_type": "execute_result"
    }
   ],
   "source": [
    "\"Python编程语言\" * 3"
   ]
  },
  {
   "cell_type": "code",
   "execution_count": 21,
   "id": "c2e7dd40",
   "metadata": {},
   "outputs": [
    {
     "data": {
      "text/plain": [
       "True"
      ]
     },
     "execution_count": 21,
     "metadata": {},
     "output_type": "execute_result"
    }
   ],
   "source": [
    "\"Python\" in \"Python编程语言\""
   ]
  },
  {
   "cell_type": "code",
   "execution_count": 22,
   "id": "c43fd765",
   "metadata": {},
   "outputs": [
    {
     "data": {
      "text/plain": [
       "False"
      ]
     },
     "execution_count": 22,
     "metadata": {},
     "output_type": "execute_result"
    }
   ],
   "source": [
    "\"python\" in \"Python编程语言\""
   ]
  },
  {
   "cell_type": "code",
   "execution_count": 23,
   "id": "14a8ac81",
   "metadata": {},
   "outputs": [
    {
     "data": {
      "text/plain": [
       "'Python编程语言'"
      ]
     },
     "execution_count": 23,
     "metadata": {},
     "output_type": "execute_result"
    }
   ],
   "source": [
    "\"Python编程语言\""
   ]
  },
  {
   "cell_type": "markdown",
   "id": "863074c6",
   "metadata": {},
   "source": [
    "## 5.内置字符串处理函数："
   ]
  },
  {
   "cell_type": "code",
   "execution_count": 24,
   "id": "605128cb",
   "metadata": {},
   "outputs": [],
   "source": [
    "name = \"Python编程语言\""
   ]
  },
  {
   "cell_type": "code",
   "execution_count": 25,
   "id": "95ac1b5c",
   "metadata": {},
   "outputs": [
    {
     "data": {
      "text/plain": [
       "10"
      ]
     },
     "execution_count": 25,
     "metadata": {},
     "output_type": "execute_result"
    }
   ],
   "source": [
    "len(name)"
   ]
  },
  {
   "cell_type": "code",
   "execution_count": 26,
   "id": "59b100a9",
   "metadata": {},
   "outputs": [
    {
     "data": {
      "text/plain": [
       "'123456'"
      ]
     },
     "execution_count": 26,
     "metadata": {},
     "output_type": "execute_result"
    }
   ],
   "source": [
    "str(123456)"
   ]
  },
  {
   "cell_type": "code",
   "execution_count": 27,
   "id": "daba4190",
   "metadata": {},
   "outputs": [
    {
     "data": {
      "text/plain": [
       "9675"
      ]
     },
     "execution_count": 27,
     "metadata": {},
     "output_type": "execute_result"
    }
   ],
   "source": [
    "ord('○')"
   ]
  },
  {
   "cell_type": "code",
   "execution_count": 28,
   "id": "0a52894e",
   "metadata": {},
   "outputs": [
    {
     "data": {
      "text/plain": [
       "'○'"
      ]
     },
     "execution_count": 28,
     "metadata": {},
     "output_type": "execute_result"
    }
   ],
   "source": [
    "chr(9675)"
   ]
  },
  {
   "cell_type": "code",
   "execution_count": 29,
   "id": "5c8855ac",
   "metadata": {},
   "outputs": [
    {
     "data": {
      "text/plain": [
       "'1 + 1 = 2 √'"
      ]
     },
     "execution_count": 29,
     "metadata": {},
     "output_type": "execute_result"
    }
   ],
   "source": [
    "\"1 + 1 = 2 \" + chr(8730)"
   ]
  },
  {
   "cell_type": "code",
   "execution_count": 30,
   "id": "51e3fa0f",
   "metadata": {},
   "outputs": [
    {
     "data": {
      "text/plain": [
       "'♥对应的Unicode编码是：9829'"
      ]
     },
     "execution_count": 30,
     "metadata": {},
     "output_type": "execute_result"
    }
   ],
   "source": [
    "\"♥对应的Unicode编码是：\" + str(ord(\"♥\"))"
   ]
  },
  {
   "cell_type": "code",
   "execution_count": 31,
   "id": "0caf5e8d",
   "metadata": {},
   "outputs": [
    {
     "data": {
      "text/plain": [
       "'0x7b'"
      ]
     },
     "execution_count": 31,
     "metadata": {},
     "output_type": "execute_result"
    }
   ],
   "source": [
    "hex(123)"
   ]
  },
  {
   "cell_type": "code",
   "execution_count": 32,
   "id": "1066158e",
   "metadata": {},
   "outputs": [
    {
     "data": {
      "text/plain": [
       "'0o173'"
      ]
     },
     "execution_count": 32,
     "metadata": {},
     "output_type": "execute_result"
    }
   ],
   "source": [
    "oct(123)"
   ]
  },
  {
   "cell_type": "markdown",
   "id": "1ceacdca",
   "metadata": {},
   "source": [
    "## 6.内置字符串处理方法："
   ]
  },
  {
   "cell_type": "markdown",
   "id": "6be886c0",
   "metadata": {},
   "source": [
    "### 6.1 大小写相关操作"
   ]
  },
  {
   "cell_type": "code",
   "execution_count": 33,
   "id": "199a408f",
   "metadata": {},
   "outputs": [
    {
     "data": {
      "text/plain": [
       "'this is python'"
      ]
     },
     "execution_count": 33,
     "metadata": {},
     "output_type": "execute_result"
    }
   ],
   "source": [
    "\"THIS IS PYTHON\".lower()"
   ]
  },
  {
   "cell_type": "code",
   "execution_count": 34,
   "id": "70008d17",
   "metadata": {},
   "outputs": [
    {
     "data": {
      "text/plain": [
       "'THIS IS PYTHON'"
      ]
     },
     "execution_count": 34,
     "metadata": {},
     "output_type": "execute_result"
    }
   ],
   "source": [
    "\"this is python\".upper()"
   ]
  },
  {
   "cell_type": "code",
   "execution_count": 35,
   "id": "ea2039f6",
   "metadata": {},
   "outputs": [
    {
     "data": {
      "text/plain": [
       "'This is python'"
      ]
     },
     "execution_count": 35,
     "metadata": {},
     "output_type": "execute_result"
    }
   ],
   "source": [
    "\"this is python\".capitalize()"
   ]
  },
  {
   "cell_type": "code",
   "execution_count": 36,
   "id": "7b55373f",
   "metadata": {},
   "outputs": [
    {
     "data": {
      "text/plain": [
       "'This Is Python'"
      ]
     },
     "execution_count": 36,
     "metadata": {},
     "output_type": "execute_result"
    }
   ],
   "source": [
    "\"this is python\".title()"
   ]
  },
  {
   "cell_type": "code",
   "execution_count": 37,
   "id": "0d9f0a9b",
   "metadata": {},
   "outputs": [
    {
     "data": {
      "text/plain": [
       "'tHIS iS pYTHON'"
      ]
     },
     "execution_count": 37,
     "metadata": {},
     "output_type": "execute_result"
    }
   ],
   "source": [
    "\"This Is Python\".swapcase()"
   ]
  },
  {
   "cell_type": "code",
   "execution_count": 38,
   "id": "7deffeeb",
   "metadata": {},
   "outputs": [
    {
     "data": {
      "text/plain": [
       "False"
      ]
     },
     "execution_count": 38,
     "metadata": {},
     "output_type": "execute_result"
    }
   ],
   "source": [
    "\"This is python\".islower()"
   ]
  },
  {
   "cell_type": "code",
   "execution_count": 39,
   "id": "061ec7a0",
   "metadata": {},
   "outputs": [
    {
     "data": {
      "text/plain": [
       "True"
      ]
     },
     "execution_count": 39,
     "metadata": {},
     "output_type": "execute_result"
    }
   ],
   "source": [
    "\"THIS IS PYTHON\".isupper()"
   ]
  },
  {
   "cell_type": "markdown",
   "id": "026cb037",
   "metadata": {},
   "source": [
    "### 6.2 分割字符串"
   ]
  },
  {
   "cell_type": "code",
   "execution_count": 40,
   "id": "3eca8ea9",
   "metadata": {},
   "outputs": [
    {
     "data": {
      "text/plain": [
       "['welcome', 'to', 'python', 'world']"
      ]
     },
     "execution_count": 40,
     "metadata": {},
     "output_type": "execute_result"
    }
   ],
   "source": [
    "\"welcome,to,python,world\".split(\",\")"
   ]
  },
  {
   "cell_type": "code",
   "execution_count": 41,
   "id": "60297549",
   "metadata": {},
   "outputs": [
    {
     "data": {
      "text/plain": [
       "['welcome', 'to', 'python,world']"
      ]
     },
     "execution_count": 41,
     "metadata": {},
     "output_type": "execute_result"
    }
   ],
   "source": [
    "\"welcome,to,python,world\".split(\",\",maxsplit=2)"
   ]
  },
  {
   "cell_type": "code",
   "execution_count": 42,
   "id": "31aec6e0",
   "metadata": {},
   "outputs": [
    {
     "data": {
      "text/plain": [
       "['welcome', 'to', 'python', 'world']"
      ]
     },
     "execution_count": 42,
     "metadata": {},
     "output_type": "execute_result"
    }
   ],
   "source": [
    "# 如果忽略参数，会使用任意的空白字符序列（换行符、制表符、空格）进行分割\n",
    "\"welcome to\\npython\\tworld\".split()"
   ]
  },
  {
   "cell_type": "markdown",
   "id": "cc7cd8a3",
   "metadata": {},
   "source": [
    "### 6.3 合并字符串"
   ]
  },
  {
   "cell_type": "code",
   "execution_count": 43,
   "id": "f02dbca1",
   "metadata": {},
   "outputs": [
    {
     "data": {
      "text/plain": [
       "'welcome-to-python-world'"
      ]
     },
     "execution_count": 43,
     "metadata": {},
     "output_type": "execute_result"
    }
   ],
   "source": [
    "'-'.join([\"welcome\" , \"to\" , \"python\" , \"world\"])"
   ]
  },
  {
   "cell_type": "markdown",
   "id": "1b9d4237",
   "metadata": {},
   "source": [
    "### 6.4 替换字符串"
   ]
  },
  {
   "cell_type": "code",
   "execution_count": 44,
   "id": "6a5d891d",
   "metadata": {},
   "outputs": [
    {
     "data": {
      "text/plain": [
       "'welcome，to，python，world'"
      ]
     },
     "execution_count": 44,
     "metadata": {},
     "output_type": "execute_result"
    }
   ],
   "source": [
    "\"welcome-to-python-world\".replace(\"-\",\"，\")"
   ]
  },
  {
   "cell_type": "code",
   "execution_count": 45,
   "id": "92b9805b",
   "metadata": {},
   "outputs": [
    {
     "data": {
      "text/plain": [
       "'welcome，to，python-world'"
      ]
     },
     "execution_count": 45,
     "metadata": {},
     "output_type": "execute_result"
    }
   ],
   "source": [
    "\"welcome-to-python-world\".replace(\"-\",\"，\",2)"
   ]
  },
  {
   "cell_type": "markdown",
   "id": "3285ccee",
   "metadata": {},
   "source": [
    "### 6.5 移除指定字符"
   ]
  },
  {
   "cell_type": "code",
   "execution_count": 46,
   "id": "c3cd56ba",
   "metadata": {},
   "outputs": [
    {
     "data": {
      "text/plain": [
       "'welcome to python world'"
      ]
     },
     "execution_count": 46,
     "metadata": {},
     "output_type": "execute_result"
    }
   ],
   "source": [
    "\"***welcome to python world***\".strip(\"*\")"
   ]
  },
  {
   "cell_type": "code",
   "execution_count": 47,
   "id": "6257dade",
   "metadata": {},
   "outputs": [
    {
     "data": {
      "text/plain": [
       "'***welcome to python world'"
      ]
     },
     "execution_count": 47,
     "metadata": {},
     "output_type": "execute_result"
    }
   ],
   "source": [
    "\"***welcome to python world***\".rstrip(\"*\")"
   ]
  },
  {
   "cell_type": "code",
   "execution_count": 48,
   "id": "8663c931",
   "metadata": {},
   "outputs": [
    {
     "data": {
      "text/plain": [
       "'welcome to python world***'"
      ]
     },
     "execution_count": 48,
     "metadata": {},
     "output_type": "execute_result"
    }
   ],
   "source": [
    "\"***welcome to python world***\".lstrip(\"*\")"
   ]
  },
  {
   "cell_type": "code",
   "execution_count": 49,
   "id": "a9c160df",
   "metadata": {},
   "outputs": [
    {
     "data": {
      "text/plain": [
       "'welcome to python world'"
      ]
     },
     "execution_count": 49,
     "metadata": {},
     "output_type": "execute_result"
    }
   ],
   "source": [
    "# strip()函数如果忽略参数，会假定删除的是空白字符（''、''\\n、'\\t'）\n",
    "\"   welcome to python world   \".strip()"
   ]
  },
  {
   "cell_type": "code",
   "execution_count": 50,
   "id": "d82399fb",
   "metadata": {},
   "outputs": [
    {
     "data": {
      "text/plain": [
       "'welcome to python world'"
      ]
     },
     "execution_count": 50,
     "metadata": {},
     "output_type": "execute_result"
    }
   ],
   "source": [
    "# strip()函数也可以删除多个字符\n",
    "\"welcome to python world..!!??\".strip('.!?')"
   ]
  },
  {
   "cell_type": "markdown",
   "id": "2f9733bd",
   "metadata": {},
   "source": [
    "### 6.6 判断字符串是否以指定后缀开始或结尾"
   ]
  },
  {
   "cell_type": "code",
   "execution_count": 51,
   "id": "7041b313",
   "metadata": {},
   "outputs": [
    {
     "data": {
      "text/plain": [
       "True"
      ]
     },
     "execution_count": 51,
     "metadata": {},
     "output_type": "execute_result"
    }
   ],
   "source": [
    "\"welcome to python world\".startswith(\"we\")"
   ]
  },
  {
   "cell_type": "code",
   "execution_count": 52,
   "id": "65f3fbde",
   "metadata": {},
   "outputs": [
    {
     "data": {
      "text/plain": [
       "True"
      ]
     },
     "execution_count": 52,
     "metadata": {},
     "output_type": "execute_result"
    }
   ],
   "source": [
    "\"welcome to python world\".endswith(\"world\")"
   ]
  },
  {
   "cell_type": "code",
   "execution_count": 53,
   "id": "acbde492",
   "metadata": {},
   "outputs": [
    {
     "data": {
      "text/plain": [
       "True"
      ]
     },
     "execution_count": 53,
     "metadata": {},
     "output_type": "execute_result"
    }
   ],
   "source": [
    "\"welcome to python world\".endswith(\"e\",1,7)"
   ]
  },
  {
   "cell_type": "markdown",
   "id": "49cb2a7c",
   "metadata": {},
   "source": [
    "### 6.7 搜索字符串"
   ]
  },
  {
   "cell_type": "code",
   "execution_count": 54,
   "id": "0a59302c",
   "metadata": {},
   "outputs": [
    {
     "data": {
      "text/plain": [
       "0"
      ]
     },
     "execution_count": 54,
     "metadata": {},
     "output_type": "execute_result"
    }
   ],
   "source": [
    "\"Python编程语言Python\".find('P')"
   ]
  },
  {
   "cell_type": "code",
   "execution_count": 55,
   "id": "e175d49f",
   "metadata": {},
   "outputs": [
    {
     "data": {
      "text/plain": [
       "10"
      ]
     },
     "execution_count": 55,
     "metadata": {},
     "output_type": "execute_result"
    }
   ],
   "source": [
    "\"Python编程语言Python\".rfind('P')"
   ]
  },
  {
   "cell_type": "code",
   "execution_count": 56,
   "id": "612fbdf1",
   "metadata": {},
   "outputs": [
    {
     "data": {
      "text/plain": [
       "0"
      ]
     },
     "execution_count": 56,
     "metadata": {},
     "output_type": "execute_result"
    }
   ],
   "source": [
    "\"Python编程语言Python\".index('P')"
   ]
  },
  {
   "cell_type": "code",
   "execution_count": 57,
   "id": "9494880b",
   "metadata": {},
   "outputs": [
    {
     "data": {
      "text/plain": [
       "10"
      ]
     },
     "execution_count": 57,
     "metadata": {},
     "output_type": "execute_result"
    }
   ],
   "source": [
    "\"Python编程语言Python\".rindex('P')"
   ]
  },
  {
   "cell_type": "code",
   "execution_count": 58,
   "id": "ed3bb3f2",
   "metadata": {},
   "outputs": [
    {
     "data": {
      "text/plain": [
       "-1"
      ]
     },
     "execution_count": 58,
     "metadata": {},
     "output_type": "execute_result"
    }
   ],
   "source": [
    "\"Python编程语言Python\".find('P',1,5)"
   ]
  },
  {
   "cell_type": "code",
   "execution_count": 59,
   "id": "e9a1e30a",
   "metadata": {},
   "outputs": [
    {
     "ename": "ValueError",
     "evalue": "substring not found",
     "output_type": "error",
     "traceback": [
      "\u001b[1;31m---------------------------------------------------------------------------\u001b[0m",
      "\u001b[1;31mValueError\u001b[0m                                Traceback (most recent call last)",
      "Input \u001b[1;32mIn [59]\u001b[0m, in \u001b[0;36m<cell line: 1>\u001b[1;34m()\u001b[0m\n\u001b[1;32m----> 1\u001b[0m \u001b[38;5;124;43m\"\u001b[39;49m\u001b[38;5;124;43mPython编程语言Python\u001b[39;49m\u001b[38;5;124;43m\"\u001b[39;49m\u001b[38;5;241;43m.\u001b[39;49m\u001b[43mindex\u001b[49m\u001b[43m(\u001b[49m\u001b[38;5;124;43m'\u001b[39;49m\u001b[38;5;124;43mP\u001b[39;49m\u001b[38;5;124;43m'\u001b[39;49m\u001b[43m,\u001b[49m\u001b[38;5;241;43m1\u001b[39;49m\u001b[43m,\u001b[49m\u001b[38;5;241;43m5\u001b[39;49m\u001b[43m)\u001b[49m\n",
      "\u001b[1;31mValueError\u001b[0m: substring not found"
     ]
    }
   ],
   "source": [
    "\"Python编程语言Python\".index('P',1,5)"
   ]
  },
  {
   "cell_type": "code",
   "execution_count": 60,
   "id": "de73fec3",
   "metadata": {},
   "outputs": [
    {
     "data": {
      "text/plain": [
       "2"
      ]
     },
     "execution_count": 60,
     "metadata": {},
     "output_type": "execute_result"
    }
   ],
   "source": [
    "\"Python编程语言Python\".count(\"y\")"
   ]
  },
  {
   "cell_type": "markdown",
   "id": "df59ea40",
   "metadata": {},
   "source": [
    "### 6.8 对齐操作"
   ]
  },
  {
   "cell_type": "code",
   "execution_count": 61,
   "id": "b69c6b19",
   "metadata": {},
   "outputs": [
    {
     "data": {
      "text/plain": [
       "'+++Python编程语言+++'"
      ]
     },
     "execution_count": 61,
     "metadata": {},
     "output_type": "execute_result"
    }
   ],
   "source": [
    "\"Python编程语言\".center(16,\"+\")"
   ]
  },
  {
   "cell_type": "code",
   "execution_count": 62,
   "id": "e27cdb51",
   "metadata": {},
   "outputs": [
    {
     "data": {
      "text/plain": [
       "'Python编程语言      '"
      ]
     },
     "execution_count": 62,
     "metadata": {},
     "output_type": "execute_result"
    }
   ],
   "source": [
    "\"Python编程语言\".ljust(16)"
   ]
  },
  {
   "cell_type": "code",
   "execution_count": 63,
   "id": "a8d59a6e",
   "metadata": {},
   "outputs": [
    {
     "data": {
      "text/plain": [
       "'Python编程语言++++++'"
      ]
     },
     "execution_count": 63,
     "metadata": {},
     "output_type": "execute_result"
    }
   ],
   "source": [
    "\"Python编程语言\".ljust(16,\"+\")"
   ]
  },
  {
   "cell_type": "code",
   "execution_count": 64,
   "id": "264fbdb1",
   "metadata": {},
   "outputs": [
    {
     "data": {
      "text/plain": [
       "'      Python编程语言'"
      ]
     },
     "execution_count": 64,
     "metadata": {},
     "output_type": "execute_result"
    }
   ],
   "source": [
    "\"Python编程语言\".rjust(16)"
   ]
  },
  {
   "cell_type": "code",
   "execution_count": 65,
   "id": "91f191b6",
   "metadata": {},
   "outputs": [
    {
     "data": {
      "text/plain": [
       "'000000Python编程语言'"
      ]
     },
     "execution_count": 65,
     "metadata": {},
     "output_type": "execute_result"
    }
   ],
   "source": [
    "\"Python编程语言\".zfill(16)"
   ]
  },
  {
   "cell_type": "markdown",
   "id": "002d2398",
   "metadata": {},
   "source": [
    "### 6.9 其他操作"
   ]
  },
  {
   "cell_type": "code",
   "execution_count": 66,
   "id": "88bab364",
   "metadata": {},
   "outputs": [
    {
     "data": {
      "text/plain": [
       "True"
      ]
     },
     "execution_count": 66,
     "metadata": {},
     "output_type": "execute_result"
    }
   ],
   "source": [
    "\"Python\".isprintable()"
   ]
  },
  {
   "cell_type": "code",
   "execution_count": 67,
   "id": "fd4e6149",
   "metadata": {},
   "outputs": [
    {
     "data": {
      "text/plain": [
       "False"
      ]
     },
     "execution_count": 67,
     "metadata": {},
     "output_type": "execute_result"
    }
   ],
   "source": [
    "\"Python123\".isnumeric()"
   ]
  },
  {
   "cell_type": "code",
   "execution_count": 68,
   "id": "5bfed46a",
   "metadata": {},
   "outputs": [
    {
     "data": {
      "text/plain": [
       "True"
      ]
     },
     "execution_count": 68,
     "metadata": {},
     "output_type": "execute_result"
    }
   ],
   "source": [
    "\"123456\".isnumeric()"
   ]
  },
  {
   "cell_type": "code",
   "execution_count": 69,
   "id": "7a962db2",
   "metadata": {},
   "outputs": [
    {
     "data": {
      "text/plain": [
       "True"
      ]
     },
     "execution_count": 69,
     "metadata": {},
     "output_type": "execute_result"
    }
   ],
   "source": [
    "\"  \".isspace()"
   ]
  },
  {
   "cell_type": "markdown",
   "id": "761f57f9",
   "metadata": {},
   "source": [
    "## 7.字符串格式化方法："
   ]
  },
  {
   "cell_type": "code",
   "execution_count": 70,
   "id": "548e0212",
   "metadata": {},
   "outputs": [],
   "source": [
    "name = \"Tom\"\n",
    "age = 18"
   ]
  },
  {
   "cell_type": "code",
   "execution_count": 71,
   "id": "085cb151",
   "metadata": {},
   "outputs": [
    {
     "name": "stdout",
     "output_type": "stream",
     "text": [
      "学生姓名为： Tom ,年龄为： 18 \n"
     ]
    }
   ],
   "source": [
    "# %方式\n",
    "print((\"学生姓名为： %s ,年龄为： %d \") % (name , age))"
   ]
  },
  {
   "cell_type": "code",
   "execution_count": 72,
   "id": "e673f5c0",
   "metadata": {},
   "outputs": [
    {
     "name": "stdout",
     "output_type": "stream",
     "text": [
      "学生姓名为：Tom ,年龄为：18\n"
     ]
    }
   ],
   "source": [
    "# str.format()方式\n",
    "print((\"学生姓名为：{} ,年龄为：{}\").format(name , age))"
   ]
  },
  {
   "cell_type": "code",
   "execution_count": 73,
   "id": "ec5313dd",
   "metadata": {},
   "outputs": [
    {
     "name": "stdout",
     "output_type": "stream",
     "text": [
      "学生姓名为：Tom ,年龄为：18\n"
     ]
    }
   ],
   "source": [
    "# f-string方式\n",
    "print(f\"学生姓名为：{name} ,年龄为：{age}\")"
   ]
  },
  {
   "cell_type": "code",
   "execution_count": null,
   "id": "da5a81be",
   "metadata": {},
   "outputs": [],
   "source": []
  },
  {
   "cell_type": "code",
   "execution_count": 74,
   "id": "8f5dd250",
   "metadata": {},
   "outputs": [
    {
     "name": "stdout",
     "output_type": "stream",
     "text": [
      "学生姓名为：                  To ,年龄为：+++++++++18+++++++++\n"
     ]
    }
   ],
   "source": [
    "print(f\"学生姓名为：{name:>20.2} ,年龄为：{age:+^20}\")"
   ]
  },
  {
   "cell_type": "code",
   "execution_count": null,
   "id": "033d0a55",
   "metadata": {},
   "outputs": [],
   "source": []
  },
  {
   "cell_type": "code",
   "execution_count": 75,
   "id": "7ef42419",
   "metadata": {},
   "outputs": [
    {
     "data": {
      "text/plain": [
       "\"name='Tom' , age=18\""
      ]
     },
     "execution_count": 75,
     "metadata": {},
     "output_type": "execute_result"
    }
   ],
   "source": [
    "f'{name=} , {age=}'"
   ]
  },
  {
   "cell_type": "code",
   "execution_count": 76,
   "id": "d23759f8",
   "metadata": {},
   "outputs": [
    {
     "data": {
      "text/plain": [
       "\"name.lower()='tom' , age*2=36\""
      ]
     },
     "execution_count": 76,
     "metadata": {},
     "output_type": "execute_result"
    }
   ],
   "source": [
    "f'{name.lower()=} , {age*2=}'"
   ]
  },
  {
   "cell_type": "code",
   "execution_count": 77,
   "id": "cfa28fd6",
   "metadata": {},
   "outputs": [
    {
     "data": {
      "text/plain": [
       "'name.lower()=                  to , age*2=         36         '"
      ]
     },
     "execution_count": 77,
     "metadata": {},
     "output_type": "execute_result"
    }
   ],
   "source": [
    "f'{name.lower()=:>20.2} , {age*2=:^20}'"
   ]
  },
  {
   "cell_type": "code",
   "execution_count": null,
   "id": "a8622830",
   "metadata": {},
   "outputs": [],
   "source": []
  },
  {
   "cell_type": "code",
   "execution_count": null,
   "id": "9b3dc962",
   "metadata": {},
   "outputs": [],
   "source": []
  }
 ],
 "metadata": {
  "kernelspec": {
   "display_name": "Python 3 (ipykernel)",
   "language": "python",
   "name": "python3"
  },
  "language_info": {
   "codemirror_mode": {
    "name": "ipython",
    "version": 3
   },
   "file_extension": ".py",
   "mimetype": "text/x-python",
   "name": "python",
   "nbconvert_exporter": "python",
   "pygments_lexer": "ipython3",
   "version": "3.9.12"
  }
 },
 "nbformat": 4,
 "nbformat_minor": 5
}
