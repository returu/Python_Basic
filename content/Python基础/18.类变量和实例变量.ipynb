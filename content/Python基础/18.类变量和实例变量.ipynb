{
 "cells": [
  {
   "cell_type": "markdown",
   "id": "d798a8f2",
   "metadata": {},
   "source": [
    "## 1.类变量与实例变量："
   ]
  },
  {
   "cell_type": "code",
   "execution_count": 10,
   "id": "67f60d38",
   "metadata": {},
   "outputs": [],
   "source": [
    "# 定义一个类\n",
    "class Student:\n",
    "    \n",
    "    school_name = \"光明小学\" # 类变量\n",
    "    \n",
    "    def __init__(self , name , age):\n",
    "        self.name = name\n",
    "        self.age = age"
   ]
  },
  {
   "cell_type": "code",
   "execution_count": 11,
   "id": "adf0db4f",
   "metadata": {},
   "outputs": [],
   "source": [
    "# 实例化第一个对象\n",
    "student_1 = Student('Tom' , '12')"
   ]
  },
  {
   "cell_type": "code",
   "execution_count": 12,
   "id": "ee6f4576",
   "metadata": {},
   "outputs": [
    {
     "data": {
      "text/plain": [
       "('Tom', '12')"
      ]
     },
     "execution_count": 12,
     "metadata": {},
     "output_type": "execute_result"
    }
   ],
   "source": [
    "# 实例属性变量\n",
    "student_1.name , student_1.age"
   ]
  },
  {
   "cell_type": "code",
   "execution_count": 13,
   "id": "373a762a",
   "metadata": {},
   "outputs": [
    {
     "data": {
      "text/plain": [
       "'光明小学'"
      ]
     },
     "execution_count": 13,
     "metadata": {},
     "output_type": "execute_result"
    }
   ],
   "source": [
    "# 类属性\n",
    "student_1.school_name"
   ]
  },
  {
   "cell_type": "code",
   "execution_count": 14,
   "id": "eeb33feb",
   "metadata": {},
   "outputs": [],
   "source": [
    "# 实例化第二个对象\n",
    "student_2 = Student('Lucy' , '11')"
   ]
  },
  {
   "cell_type": "code",
   "execution_count": 15,
   "id": "66769eaf",
   "metadata": {},
   "outputs": [
    {
     "data": {
      "text/plain": [
       "('Lucy', '11')"
      ]
     },
     "execution_count": 15,
     "metadata": {},
     "output_type": "execute_result"
    }
   ],
   "source": [
    "# 实例属性变量\n",
    "student_2.name , student_2.age"
   ]
  },
  {
   "cell_type": "code",
   "execution_count": 16,
   "id": "b2fd4f10",
   "metadata": {},
   "outputs": [
    {
     "data": {
      "text/plain": [
       "'光明小学'"
      ]
     },
     "execution_count": 16,
     "metadata": {},
     "output_type": "execute_result"
    }
   ],
   "source": [
    "# 类属性\n",
    "student_2.school_name"
   ]
  },
  {
   "cell_type": "markdown",
   "id": "33f52f93",
   "metadata": {},
   "source": [
    "## 2.类变量与实例变量的注意事项："
   ]
  },
  {
   "cell_type": "code",
   "execution_count": 17,
   "id": "fe2d48a6",
   "metadata": {},
   "outputs": [],
   "source": [
    "# 定义一个类\n",
    "class Student:\n",
    "    \n",
    "    school_name = \"光明小学\" # 类变量\n",
    "    \n",
    "    def __init__(self , name , age):\n",
    "        self.name = name\n",
    "        self.age = age"
   ]
  },
  {
   "cell_type": "code",
   "execution_count": 18,
   "id": "ae4c534e",
   "metadata": {},
   "outputs": [],
   "source": [
    "# 实例化对象\n",
    "student_1 = Student('Tom' , '12')\n",
    "student_2 = Student('Lucy' , '11')"
   ]
  },
  {
   "cell_type": "code",
   "execution_count": 19,
   "id": "27fd8ff1",
   "metadata": {},
   "outputs": [
    {
     "data": {
      "text/plain": [
       "('光明小学', '光明小学')"
      ]
     },
     "execution_count": 19,
     "metadata": {},
     "output_type": "execute_result"
    }
   ],
   "source": [
    "# 类属性\n",
    "student_1.school_name , student_2.school_name"
   ]
  },
  {
   "cell_type": "code",
   "execution_count": 20,
   "id": "7cac26e1",
   "metadata": {},
   "outputs": [],
   "source": [
    "# 修改类变量\n",
    "Student.school_name = \"东方小学\""
   ]
  },
  {
   "cell_type": "code",
   "execution_count": 21,
   "id": "12f9d9e0",
   "metadata": {},
   "outputs": [
    {
     "data": {
      "text/plain": [
       "('东方小学', '东方小学')"
      ]
     },
     "execution_count": 21,
     "metadata": {},
     "output_type": "execute_result"
    }
   ],
   "source": [
    "# 类属性\n",
    "student_1.school_name , student_2.school_name"
   ]
  },
  {
   "cell_type": "code",
   "execution_count": null,
   "id": "73402c29",
   "metadata": {},
   "outputs": [],
   "source": []
  },
  {
   "cell_type": "code",
   "execution_count": 22,
   "id": "b7f036de",
   "metadata": {},
   "outputs": [],
   "source": [
    "# 只修改某个实例的类变量\n",
    "student_1.school_name = \"实验小学\""
   ]
  },
  {
   "cell_type": "code",
   "execution_count": 23,
   "id": "6640b49c",
   "metadata": {},
   "outputs": [
    {
     "data": {
      "text/plain": [
       "('实验小学', '东方小学')"
      ]
     },
     "execution_count": 23,
     "metadata": {},
     "output_type": "execute_result"
    }
   ],
   "source": [
    "# 类属性\n",
    "student_1.school_name , student_2.school_name"
   ]
  },
  {
   "cell_type": "code",
   "execution_count": null,
   "id": "4034d4c6",
   "metadata": {},
   "outputs": [],
   "source": []
  },
  {
   "cell_type": "code",
   "execution_count": 24,
   "id": "84754b7e",
   "metadata": {},
   "outputs": [],
   "source": [
    "# 当实例变量和类变量的同时修改时\n",
    "student_1.school_name = \"新华小学\"\n",
    "Student.school_name = \"解放小学\""
   ]
  },
  {
   "cell_type": "code",
   "execution_count": 25,
   "id": "fcebe3ad",
   "metadata": {},
   "outputs": [
    {
     "data": {
      "text/plain": [
       "('新华小学', '解放小学')"
      ]
     },
     "execution_count": 25,
     "metadata": {},
     "output_type": "execute_result"
    }
   ],
   "source": [
    "# 类属性\n",
    "student_1.school_name , student_2.school_name"
   ]
  },
  {
   "cell_type": "code",
   "execution_count": null,
   "id": "66178708",
   "metadata": {},
   "outputs": [],
   "source": []
  },
  {
   "cell_type": "code",
   "execution_count": null,
   "id": "f1010942",
   "metadata": {},
   "outputs": [],
   "source": []
  }
 ],
 "metadata": {
  "kernelspec": {
   "display_name": "Python 3 (ipykernel)",
   "language": "python",
   "name": "python3"
  },
  "language_info": {
   "codemirror_mode": {
    "name": "ipython",
    "version": 3
   },
   "file_extension": ".py",
   "mimetype": "text/x-python",
   "name": "python",
   "nbconvert_exporter": "python",
   "pygments_lexer": "ipython3",
   "version": "3.9.12"
  }
 },
 "nbformat": 4,
 "nbformat_minor": 5
}
