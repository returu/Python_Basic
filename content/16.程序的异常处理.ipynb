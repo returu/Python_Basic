{
 "cells": [
  {
   "cell_type": "markdown",
   "id": "91e43b3d",
   "metadata": {},
   "source": [
    "## 1.异常处理基本语法：​try-except语句"
   ]
  },
  {
   "cell_type": "markdown",
   "id": "6d3f06ca",
   "metadata": {},
   "source": [
    "### 不添加异常处理"
   ]
  },
  {
   "cell_type": "code",
   "execution_count": 1,
   "id": "cd22a834",
   "metadata": {
    "scrolled": true
   },
   "outputs": [
    {
     "name": "stdout",
     "output_type": "stream",
     "text": [
      "请输入一个数字：11\n"
     ]
    },
    {
     "ename": "IndexError",
     "evalue": "string index out of range",
     "output_type": "error",
     "traceback": [
      "\u001b[1;31m---------------------------------------------------------------------------\u001b[0m",
      "\u001b[1;31mIndexError\u001b[0m                                Traceback (most recent call last)",
      "Input \u001b[1;32mIn [1]\u001b[0m, in \u001b[0;36m<cell line: 3>\u001b[1;34m()\u001b[0m\n\u001b[0;32m      1\u001b[0m char \u001b[38;5;241m=\u001b[39m \u001b[38;5;124m'\u001b[39m\u001b[38;5;124mABCDEF\u001b[39m\u001b[38;5;124m'\u001b[39m\n\u001b[0;32m      2\u001b[0m num \u001b[38;5;241m=\u001b[39m \u001b[38;5;28meval\u001b[39m(\u001b[38;5;28minput\u001b[39m(\u001b[38;5;124m'\u001b[39m\u001b[38;5;124m请输入一个数字：\u001b[39m\u001b[38;5;124m'\u001b[39m))\n\u001b[1;32m----> 3\u001b[0m \u001b[38;5;28mprint\u001b[39m(\u001b[43mchar\u001b[49m\u001b[43m[\u001b[49m\u001b[43mnum\u001b[49m\u001b[43m]\u001b[49m)\n",
      "\u001b[1;31mIndexError\u001b[0m: string index out of range"
     ]
    }
   ],
   "source": [
    "char = 'ABCDEF'\n",
    "num = eval(input('请输入一个数字：'))\n",
    "print(char[num])"
   ]
  },
  {
   "cell_type": "markdown",
   "id": "60e8aac8",
   "metadata": {},
   "source": [
    "### 添加异常处理"
   ]
  },
  {
   "cell_type": "code",
   "execution_count": 2,
   "id": "c20db625",
   "metadata": {},
   "outputs": [
    {
     "name": "stdout",
     "output_type": "stream",
     "text": [
      "请输入一个数字：11\n",
      "输入错误，请输入小于6的数字！\n"
     ]
    }
   ],
   "source": [
    "try:\n",
    "    char = 'ABCDEF'\n",
    "    num = eval(input('请输入一个数字：'))\n",
    "    print(char[num])\n",
    "except IndexError:\n",
    "    print('输入错误，请输入小于6的数字！')"
   ]
  },
  {
   "cell_type": "markdown",
   "id": "9333d5f4",
   "metadata": {},
   "source": [
    "## 2.异常处理的高级用法："
   ]
  },
  {
   "cell_type": "markdown",
   "id": "53f58663",
   "metadata": {},
   "source": [
    "### 2.1 多个except语句"
   ]
  },
  {
   "cell_type": "code",
   "execution_count": 3,
   "id": "3efad682",
   "metadata": {},
   "outputs": [
    {
     "name": "stdout",
     "output_type": "stream",
     "text": [
      "请输入一个数字：a\n",
      "发生其他错误！\n"
     ]
    }
   ],
   "source": [
    "# 当输入不为数字时，NameError异常会被捕捉，输出对应信息\n",
    "# 当输入数字超出字符串长度时，输出对应信息\n",
    "\n",
    "try:\n",
    "    char = 'ABCDEF'\n",
    "    num = eval(input('请输入一个数字：'))\n",
    "    print(char[num])\n",
    "except IndexError:\n",
    "    print('输入错误，请输入小于6的数字！')\n",
    "except:\n",
    "    print('发生其他错误！')"
   ]
  },
  {
   "cell_type": "markdown",
   "id": "4024c669",
   "metadata": {},
   "source": [
    "### 2.2 except语句接受多个异常："
   ]
  },
  {
   "cell_type": "code",
   "execution_count": 4,
   "id": "2808c200",
   "metadata": {},
   "outputs": [
    {
     "name": "stdout",
     "output_type": "stream",
     "text": [
      "请输入一个数字：a\n",
      "输入错误，请重新输入！\n"
     ]
    }
   ],
   "source": [
    "# except语句可以同时接受多个异常。\n",
    "try:\n",
    "    char = 'ABCDEF'\n",
    "    num = eval(input('请输入一个数字：'))\n",
    "    print(char[num])\n",
    "except (NameError , IndexError):\n",
    "    print('输入错误，请重新输入！')\n",
    "except:\n",
    "    print('发生其他错误！')"
   ]
  },
  {
   "cell_type": "markdown",
   "id": "8c3a75fa",
   "metadata": {},
   "source": [
    "### 2.3 与else、finally配合使用："
   ]
  },
  {
   "cell_type": "code",
   "execution_count": 5,
   "id": "ec3bad06",
   "metadata": {},
   "outputs": [
    {
     "name": "stdout",
     "output_type": "stream",
     "text": [
      "请输入一个数字：11\n",
      "输入错误，请输入小于6的数字！\n",
      "不管发没发生异常，程序都会执行！\n"
     ]
    }
   ],
   "source": [
    "# try-except语句与else、finally配合使用\n",
    "\n",
    "try:\n",
    "    char = 'ABCDEF'\n",
    "    num = eval(input('请输入一个数字：'))\n",
    "    print(char[num])\n",
    "except NameError:\n",
    "    print('输入错误，请输入数字！')\n",
    "except IndexError:\n",
    "    print('输入错误，请输入小于6的数字！')\n",
    "else:\n",
    "    print('程序没有发生异常！')\n",
    "finally:\n",
    "    print('不管发没发生异常，程序都会执行！')"
   ]
  },
  {
   "cell_type": "markdown",
   "id": "16391f8d",
   "metadata": {},
   "source": [
    "### 2.4 输出未知异常："
   ]
  },
  {
   "cell_type": "code",
   "execution_count": 6,
   "id": "07c74e57",
   "metadata": {},
   "outputs": [
    {
     "name": "stdout",
     "output_type": "stream",
     "text": [
      "请输入一个数字：11\n",
      "string index out of range\n"
     ]
    }
   ],
   "source": [
    "try:\n",
    "    char = 'ABCDEF'\n",
    "    num = eval(input('请输入一个数字：'))\n",
    "    print(char[num])\n",
    "except Exception as e:\n",
    "    print(e)"
   ]
  },
  {
   "cell_type": "code",
   "execution_count": null,
   "id": "2b97af70",
   "metadata": {},
   "outputs": [],
   "source": []
  },
  {
   "cell_type": "code",
   "execution_count": null,
   "id": "537f2ba1",
   "metadata": {},
   "outputs": [],
   "source": []
  }
 ],
 "metadata": {
  "kernelspec": {
   "display_name": "Python 3 (ipykernel)",
   "language": "python",
   "name": "python3"
  },
  "language_info": {
   "codemirror_mode": {
    "name": "ipython",
    "version": 3
   },
   "file_extension": ".py",
   "mimetype": "text/x-python",
   "name": "python",
   "nbconvert_exporter": "python",
   "pygments_lexer": "ipython3",
   "version": "3.9.12"
  }
 },
 "nbformat": 4,
 "nbformat_minor": 5
}
