{
 "cells": [
  {
   "cell_type": "markdown",
   "id": "34e4ad00",
   "metadata": {},
   "source": [
    "## 基本数据类型："
   ]
  },
  {
   "cell_type": "code",
   "execution_count": 22,
   "id": "77ad8fb9",
   "metadata": {},
   "outputs": [
    {
     "data": {
      "text/plain": [
       "int"
      ]
     },
     "execution_count": 22,
     "metadata": {},
     "output_type": "execute_result"
    }
   ],
   "source": [
    "type(12)"
   ]
  },
  {
   "cell_type": "code",
   "execution_count": 23,
   "id": "961352bf",
   "metadata": {},
   "outputs": [
    {
     "data": {
      "text/plain": [
       "float"
      ]
     },
     "execution_count": 23,
     "metadata": {},
     "output_type": "execute_result"
    }
   ],
   "source": [
    "type(3.14)"
   ]
  },
  {
   "cell_type": "code",
   "execution_count": 24,
   "id": "63a707fe",
   "metadata": {},
   "outputs": [
    {
     "data": {
      "text/plain": [
       "bool"
      ]
     },
     "execution_count": 24,
     "metadata": {},
     "output_type": "execute_result"
    }
   ],
   "source": [
    "type(True)"
   ]
  },
  {
   "cell_type": "code",
   "execution_count": 25,
   "id": "ef0ac3a9",
   "metadata": {},
   "outputs": [
    {
     "data": {
      "text/plain": [
       "str"
      ]
     },
     "execution_count": 25,
     "metadata": {},
     "output_type": "execute_result"
    }
   ],
   "source": [
    "type(\"Tom\")"
   ]
  },
  {
   "cell_type": "code",
   "execution_count": 26,
   "id": "a9a33ebd",
   "metadata": {},
   "outputs": [
    {
     "data": {
      "text/plain": [
       "list"
      ]
     },
     "execution_count": 26,
     "metadata": {},
     "output_type": "execute_result"
    }
   ],
   "source": [
    "type([1,2,3])"
   ]
  },
  {
   "cell_type": "code",
   "execution_count": 27,
   "id": "9cd50dee",
   "metadata": {},
   "outputs": [
    {
     "data": {
      "text/plain": [
       "dict"
      ]
     },
     "execution_count": 27,
     "metadata": {},
     "output_type": "execute_result"
    }
   ],
   "source": [
    "type({'name': 'Tom', 'age': 22})"
   ]
  },
  {
   "cell_type": "markdown",
   "id": "88fb29b0",
   "metadata": {},
   "source": [
    "## 变量（Variable）："
   ]
  },
  {
   "cell_type": "code",
   "execution_count": 28,
   "id": "6a138af6",
   "metadata": {},
   "outputs": [
    {
     "name": "stdout",
     "output_type": "stream",
     "text": [
      "\n",
      "Here is a list of the Python keywords.  Enter any keyword to get more help.\n",
      "\n",
      "False               break               for                 not\n",
      "None                class               from                or\n",
      "True                continue            global              pass\n",
      "__peg_parser__      def                 if                  raise\n",
      "and                 del                 import              return\n",
      "as                  elif                in                  try\n",
      "assert              else                is                  while\n",
      "async               except              lambda              with\n",
      "await               finally             nonlocal            yield\n",
      "\n"
     ]
    }
   ],
   "source": [
    "# 查看当前版本保留字\n",
    "help(\"keywords\")"
   ]
  },
  {
   "cell_type": "code",
   "execution_count": 29,
   "id": "5b84fe52",
   "metadata": {},
   "outputs": [
    {
     "data": {
      "text/plain": [
       "['False',\n",
       " 'None',\n",
       " 'True',\n",
       " '__peg_parser__',\n",
       " 'and',\n",
       " 'as',\n",
       " 'assert',\n",
       " 'async',\n",
       " 'await',\n",
       " 'break',\n",
       " 'class',\n",
       " 'continue',\n",
       " 'def',\n",
       " 'del',\n",
       " 'elif',\n",
       " 'else',\n",
       " 'except',\n",
       " 'finally',\n",
       " 'for',\n",
       " 'from',\n",
       " 'global',\n",
       " 'if',\n",
       " 'import',\n",
       " 'in',\n",
       " 'is',\n",
       " 'lambda',\n",
       " 'nonlocal',\n",
       " 'not',\n",
       " 'or',\n",
       " 'pass',\n",
       " 'raise',\n",
       " 'return',\n",
       " 'try',\n",
       " 'while',\n",
       " 'with',\n",
       " 'yield']"
      ]
     },
     "execution_count": 29,
     "metadata": {},
     "output_type": "execute_result"
    }
   ],
   "source": [
    "import keyword\n",
    "keyword.kwlist"
   ]
  },
  {
   "cell_type": "markdown",
   "id": "8cd02336",
   "metadata": {},
   "source": [
    "## 为变量赋值："
   ]
  },
  {
   "cell_type": "code",
   "execution_count": 32,
   "id": "8d43ae2e",
   "metadata": {},
   "outputs": [],
   "source": [
    "# 将数值2赋值给变量a → 变量a指向值为2的对象\n",
    "a = 2"
   ]
  },
  {
   "cell_type": "code",
   "execution_count": 33,
   "id": "a54ede64",
   "metadata": {},
   "outputs": [
    {
     "data": {
      "text/plain": [
       "2"
      ]
     },
     "execution_count": 33,
     "metadata": {},
     "output_type": "execute_result"
    }
   ],
   "source": [
    "a"
   ]
  },
  {
   "cell_type": "code",
   "execution_count": 34,
   "id": "c4402f90",
   "metadata": {},
   "outputs": [],
   "source": [
    "# 将变量a又赋值给变量b → 变量b也指向了值为2的对象\n",
    "b = a"
   ]
  },
  {
   "cell_type": "code",
   "execution_count": 35,
   "id": "aacf4910",
   "metadata": {},
   "outputs": [
    {
     "data": {
      "text/plain": [
       "2"
      ]
     },
     "execution_count": 35,
     "metadata": {},
     "output_type": "execute_result"
    }
   ],
   "source": [
    "b"
   ]
  },
  {
   "cell_type": "code",
   "execution_count": 40,
   "id": "e75a1e17",
   "metadata": {},
   "outputs": [
    {
     "data": {
      "text/plain": [
       "1329551206736"
      ]
     },
     "execution_count": 40,
     "metadata": {},
     "output_type": "execute_result"
    }
   ],
   "source": [
    "# 通过使用内置的id()函数查看对象的内存地址\n",
    "id(a)"
   ]
  },
  {
   "cell_type": "code",
   "execution_count": 41,
   "id": "02f83328",
   "metadata": {},
   "outputs": [
    {
     "data": {
      "text/plain": [
       "1329551206736"
      ]
     },
     "execution_count": 41,
     "metadata": {},
     "output_type": "execute_result"
    }
   ],
   "source": [
    "id(b)"
   ]
  },
  {
   "cell_type": "code",
   "execution_count": 42,
   "id": "ddcf107d",
   "metadata": {},
   "outputs": [],
   "source": [
    "# 将同一个值赋值给多个变量\n",
    "a = b = c = 2"
   ]
  },
  {
   "cell_type": "code",
   "execution_count": 43,
   "id": "d456487f",
   "metadata": {},
   "outputs": [
    {
     "data": {
      "text/plain": [
       "(2, 2, 2)"
      ]
     },
     "execution_count": 43,
     "metadata": {},
     "output_type": "execute_result"
    }
   ],
   "source": [
    "a,b,c"
   ]
  },
  {
   "cell_type": "code",
   "execution_count": 44,
   "id": "9367fa26",
   "metadata": {},
   "outputs": [],
   "source": [
    "# 使用同步赋值语句，向多个变量分别赋值\n",
    "a,b,c = 1,2,3"
   ]
  },
  {
   "cell_type": "code",
   "execution_count": 45,
   "id": "d3e181c3",
   "metadata": {},
   "outputs": [
    {
     "data": {
      "text/plain": [
       "(1, 2, 3)"
      ]
     },
     "execution_count": 45,
     "metadata": {},
     "output_type": "execute_result"
    }
   ],
   "source": [
    "a,b,c"
   ]
  },
  {
   "cell_type": "markdown",
   "id": "a31de5bf",
   "metadata": {},
   "source": [
    "## 注释："
   ]
  },
  {
   "cell_type": "code",
   "execution_count": 46,
   "id": "c447adf4",
   "metadata": {},
   "outputs": [
    {
     "name": "stdout",
     "output_type": "stream",
     "text": [
      "Hello World!\n"
     ]
    }
   ],
   "source": [
    "'''\n",
    "这是多行注释，使用单引号。\n",
    "这是多行注释，使用单引号。\n",
    "这是多行注释，使用单引号。\n",
    "'''\n",
    "\n",
    "\"\"\"\n",
    "这是多行注释，使用双引号。\n",
    "这是多行注释，使用双引号。\n",
    "这是多行注释，使用双引号。\n",
    "\"\"\"\n",
    "# 第一个单行注释\n",
    "print (\"Hello World!\")  # 第二个单行注释"
   ]
  },
  {
   "cell_type": "code",
   "execution_count": null,
   "id": "c5aab5dc",
   "metadata": {},
   "outputs": [],
   "source": []
  }
 ],
 "metadata": {
  "kernelspec": {
   "display_name": "Python 3 (ipykernel)",
   "language": "python",
   "name": "python3"
  },
  "language_info": {
   "codemirror_mode": {
    "name": "ipython",
    "version": 3
   },
   "file_extension": ".py",
   "mimetype": "text/x-python",
   "name": "python",
   "nbconvert_exporter": "python",
   "pygments_lexer": "ipython3",
   "version": "3.9.12"
  }
 },
 "nbformat": 4,
 "nbformat_minor": 5
}
