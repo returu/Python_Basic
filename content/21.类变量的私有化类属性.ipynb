{
 "cells": [
  {
   "cell_type": "markdown",
   "id": "61a30861",
   "metadata": {},
   "source": [
    "## 1.公有化与私有化："
   ]
  },
  {
   "cell_type": "markdown",
   "id": "372bd40c",
   "metadata": {},
   "source": [
    "### 1.1 私有化实现"
   ]
  },
  {
   "cell_type": "code",
   "execution_count": 1,
   "id": "69dd4943",
   "metadata": {},
   "outputs": [],
   "source": [
    "# 定义一个类\n",
    "class Student:\n",
    "    \n",
    "    # 类私有化变量，以两个下划线开头\n",
    "    __schoolname = \"光明小学\"\n",
    "    \n",
    "    def __init__(self , name , age):\n",
    "        self.name = name\n",
    "        self.age = age\n",
    "        \n",
    "    def get_info(self):\n",
    "        return f\"学校：{self.__schoolname}，姓名：{ self.name}，年龄：{self.age}。\"\n",
    "    \n",
    "    # 定义返回私有化变量的getter方法\n",
    "    def get_schoolname(self):\n",
    "        return self.__schoolname"
   ]
  },
  {
   "cell_type": "code",
   "execution_count": 2,
   "id": "132c1ac5",
   "metadata": {},
   "outputs": [],
   "source": [
    "# 实例化对象\n",
    "student_1 = Student('Tom' , '12')"
   ]
  },
  {
   "cell_type": "code",
   "execution_count": 3,
   "id": "20f0b293",
   "metadata": {
    "scrolled": true
   },
   "outputs": [
    {
     "ename": "AttributeError",
     "evalue": "'Student' object has no attribute '__schoolname'",
     "output_type": "error",
     "traceback": [
      "\u001b[1;31m---------------------------------------------------------------------------\u001b[0m",
      "\u001b[1;31mAttributeError\u001b[0m                            Traceback (most recent call last)",
      "Input \u001b[1;32mIn [3]\u001b[0m, in \u001b[0;36m<cell line: 2>\u001b[1;34m()\u001b[0m\n\u001b[0;32m      1\u001b[0m \u001b[38;5;66;03m# 实例化对象不能直接获取该类的私有化属性\u001b[39;00m\n\u001b[1;32m----> 2\u001b[0m \u001b[43mstudent_1\u001b[49m\u001b[38;5;241;43m.\u001b[39;49m\u001b[43m__schoolname\u001b[49m\n",
      "\u001b[1;31mAttributeError\u001b[0m: 'Student' object has no attribute '__schoolname'"
     ]
    }
   ],
   "source": [
    "# 实例化对象不能直接获取该类的私有化属性\n",
    "student_1.__schoolname"
   ]
  },
  {
   "cell_type": "code",
   "execution_count": 4,
   "id": "d5f66009",
   "metadata": {},
   "outputs": [
    {
     "data": {
      "text/plain": [
       "'光明小学'"
      ]
     },
     "execution_count": 4,
     "metadata": {},
     "output_type": "execute_result"
    }
   ],
   "source": [
    "# 实例化对象可以通过调用类中的getter函数获取该类的私有化属性\n",
    "student_1.get_schoolname()"
   ]
  },
  {
   "cell_type": "markdown",
   "id": "6da56def",
   "metadata": {},
   "source": [
    "### 1.2 修改私有化属性"
   ]
  },
  {
   "cell_type": "code",
   "execution_count": 5,
   "id": "0cf4a4af",
   "metadata": {},
   "outputs": [],
   "source": [
    "# 定义一个类\n",
    "class Student:\n",
    "    \n",
    "    # 类私有化变量，以两个下划线开头\n",
    "    __schoolname = \"光明小学\"\n",
    "    \n",
    "    def __init__(self , name , age):\n",
    "        self.name = name\n",
    "        self.age = age\n",
    "        \n",
    "    def get_info(self):\n",
    "        return f\"学校：{self.__schoolname}，姓名：{ self.name}，年龄：{self.age}。\"\n",
    "    \n",
    "    # 定义返回私有化变量的getter方法\n",
    "    def get_schoolname(self):\n",
    "        return self.__schoolname\n",
    "    \n",
    "    # 定义修改私有化变量的setter方法\n",
    "    def set_schoolname(self , value):\n",
    "        self.__schoolname = value"
   ]
  },
  {
   "cell_type": "code",
   "execution_count": 6,
   "id": "e89a830f",
   "metadata": {},
   "outputs": [],
   "source": [
    "# 实例化对象\n",
    "student_1 = Student('Tom' , '12')"
   ]
  },
  {
   "cell_type": "code",
   "execution_count": 7,
   "id": "2213f70f",
   "metadata": {},
   "outputs": [
    {
     "data": {
      "text/plain": [
       "'光明小学'"
      ]
     },
     "execution_count": 7,
     "metadata": {},
     "output_type": "execute_result"
    }
   ],
   "source": [
    "# 通过调用类中的getter函数获取该类的私有化变量\n",
    "student_1.get_schoolname()"
   ]
  },
  {
   "cell_type": "code",
   "execution_count": 8,
   "id": "9e2121ed",
   "metadata": {},
   "outputs": [],
   "source": [
    "# 修改私有化变量\n",
    "student_1.set_schoolname(\"解放小学\")"
   ]
  },
  {
   "cell_type": "code",
   "execution_count": 9,
   "id": "8a5aebc7",
   "metadata": {},
   "outputs": [
    {
     "data": {
      "text/plain": [
       "'解放小学'"
      ]
     },
     "execution_count": 9,
     "metadata": {},
     "output_type": "execute_result"
    }
   ],
   "source": [
    "# 通过调用类中的getter函数获取该类的私有化变量\n",
    "student_1.get_schoolname()"
   ]
  },
  {
   "cell_type": "markdown",
   "id": "bb847438",
   "metadata": {},
   "source": [
    "### 1.2 私有化的原理"
   ]
  },
  {
   "cell_type": "code",
   "execution_count": 10,
   "id": "3d28185e",
   "metadata": {},
   "outputs": [
    {
     "data": {
      "text/plain": [
       "mappingproxy({'__module__': '__main__',\n",
       "              '_Student__schoolname': '光明小学',\n",
       "              '__init__': <function __main__.Student.__init__(self, name, age)>,\n",
       "              'get_info': <function __main__.Student.get_info(self)>,\n",
       "              'get_schoolname': <function __main__.Student.get_schoolname(self)>,\n",
       "              'set_schoolname': <function __main__.Student.set_schoolname(self, value)>,\n",
       "              '__dict__': <attribute '__dict__' of 'Student' objects>,\n",
       "              '__weakref__': <attribute '__weakref__' of 'Student' objects>,\n",
       "              '__doc__': None})"
      ]
     },
     "execution_count": 10,
     "metadata": {},
     "output_type": "execute_result"
    }
   ],
   "source": [
    "# 获取类的类属性信息\n",
    "Student.__dict__"
   ]
  },
  {
   "cell_type": "code",
   "execution_count": 11,
   "id": "30ee7d6c",
   "metadata": {},
   "outputs": [
    {
     "data": {
      "text/plain": [
       "'解放小学'"
      ]
     },
     "execution_count": 11,
     "metadata": {},
     "output_type": "execute_result"
    }
   ],
   "source": [
    "# 获取私有变量\n",
    "student_1._Student__schoolname"
   ]
  },
  {
   "cell_type": "markdown",
   "id": "3ed26c73",
   "metadata": {},
   "source": [
    "## 2.使用装饰器实现类的私有化"
   ]
  },
  {
   "cell_type": "markdown",
   "id": "f3ec7c00",
   "metadata": {},
   "source": [
    "### 2.1 装饰器实现私有变量的get函数"
   ]
  },
  {
   "cell_type": "code",
   "execution_count": 12,
   "id": "b594cc77",
   "metadata": {},
   "outputs": [],
   "source": [
    "# 定义一个类\n",
    "class Student:\n",
    "    \n",
    "    # 类私有化变量，以两个下划线开头\n",
    "    __schoolname = \"光明小学\"\n",
    "    \n",
    "    def __init__(self , name , age):\n",
    "        self.name = name\n",
    "        self.age = age\n",
    "        \n",
    "    def get_info(self):\n",
    "        return f\"学校：{self.__schoolname}，姓名：{ self.name}，年龄：{self.age}。\"\n",
    "    \n",
    "    # 将getter函数装饰成属性\n",
    "    @property\n",
    "    def get_schoolname(self):\n",
    "        return self.__schoolname"
   ]
  },
  {
   "cell_type": "code",
   "execution_count": 13,
   "id": "b4707216",
   "metadata": {},
   "outputs": [],
   "source": [
    "# 实例化对象\n",
    "student_1 = Student('Tom' , '12')"
   ]
  },
  {
   "cell_type": "code",
   "execution_count": 14,
   "id": "1ecf1078",
   "metadata": {},
   "outputs": [
    {
     "data": {
      "text/plain": [
       "'光明小学'"
      ]
     },
     "execution_count": 14,
     "metadata": {},
     "output_type": "execute_result"
    }
   ],
   "source": [
    "# 获取私有化属性\n",
    "student_1.get_schoolname"
   ]
  },
  {
   "cell_type": "markdown",
   "id": "04bbd753",
   "metadata": {},
   "source": [
    "### 2.2 装饰器实现私有变量的set函数"
   ]
  },
  {
   "cell_type": "code",
   "execution_count": 15,
   "id": "4a211db6",
   "metadata": {},
   "outputs": [],
   "source": [
    "# 定义一个类\n",
    "class Student:\n",
    "    \n",
    "    # 类私有化变量，以两个下划线开头\n",
    "    __schoolname = \"光明小学\"\n",
    "    \n",
    "    def __init__(self , name , age):\n",
    "        self.name = name\n",
    "        self.age = age\n",
    "        \n",
    "    def get_info(self):\n",
    "        return f\"学校：{self.__schoolname}，姓名：{ self.name}，年龄：{self.age}。\"\n",
    "    \n",
    "    # 将getter函数装饰成属性\n",
    "    @property\n",
    "    def get_schoolname(self):\n",
    "        return self.__schoolname\n",
    "    \n",
    "    # 将setter函数装饰成属性\n",
    "    @get_schoolname.setter\n",
    "    def set_schoolname(self , value):\n",
    "        self.__schoolname = value"
   ]
  },
  {
   "cell_type": "code",
   "execution_count": 16,
   "id": "368c2377",
   "metadata": {},
   "outputs": [],
   "source": [
    "# 实例化对象\n",
    "student_1 = Student('Tom' , '12')"
   ]
  },
  {
   "cell_type": "code",
   "execution_count": 17,
   "id": "da09e743",
   "metadata": {},
   "outputs": [
    {
     "data": {
      "text/plain": [
       "'光明小学'"
      ]
     },
     "execution_count": 17,
     "metadata": {},
     "output_type": "execute_result"
    }
   ],
   "source": [
    "# 获取私有化属性\n",
    "student_1.get_schoolname"
   ]
  },
  {
   "cell_type": "code",
   "execution_count": 18,
   "id": "6837be2e",
   "metadata": {},
   "outputs": [],
   "source": [
    "# 修改私有化变量\n",
    "student_1.set_schoolname = \"解放小学\""
   ]
  },
  {
   "cell_type": "code",
   "execution_count": 19,
   "id": "3bc70ab8",
   "metadata": {},
   "outputs": [
    {
     "data": {
      "text/plain": [
       "'解放小学'"
      ]
     },
     "execution_count": 19,
     "metadata": {},
     "output_type": "execute_result"
    }
   ],
   "source": [
    "# 获取私有化属性\n",
    "student_1.get_schoolname"
   ]
  },
  {
   "cell_type": "code",
   "execution_count": null,
   "id": "3a10cf93",
   "metadata": {},
   "outputs": [],
   "source": []
  },
  {
   "cell_type": "code",
   "execution_count": null,
   "id": "e15ad259",
   "metadata": {},
   "outputs": [],
   "source": []
  }
 ],
 "metadata": {
  "kernelspec": {
   "display_name": "Python 3 (ipykernel)",
   "language": "python",
   "name": "python3"
  },
  "language_info": {
   "codemirror_mode": {
    "name": "ipython",
    "version": 3
   },
   "file_extension": ".py",
   "mimetype": "text/x-python",
   "name": "python",
   "nbconvert_exporter": "python",
   "pygments_lexer": "ipython3",
   "version": "3.9.12"
  }
 },
 "nbformat": 4,
 "nbformat_minor": 5
}
