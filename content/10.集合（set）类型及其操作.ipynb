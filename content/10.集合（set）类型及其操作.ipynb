{
 "cells": [
  {
   "cell_type": "markdown",
   "id": "9302eb44",
   "metadata": {},
   "source": [
    "## 1.集合的概念与创建："
   ]
  },
  {
   "cell_type": "markdown",
   "id": "83fa23fd",
   "metadata": {},
   "source": [
    "### 1.1 创建集合"
   ]
  },
  {
   "cell_type": "code",
   "execution_count": 1,
   "id": "d2de4ea3",
   "metadata": {},
   "outputs": [],
   "source": [
    "empty_set = set()"
   ]
  },
  {
   "cell_type": "code",
   "execution_count": 2,
   "id": "b2cac31a",
   "metadata": {},
   "outputs": [
    {
     "data": {
      "text/plain": [
       "set()"
      ]
     },
     "execution_count": 2,
     "metadata": {},
     "output_type": "execute_result"
    }
   ],
   "source": [
    "empty_set"
   ]
  },
  {
   "cell_type": "code",
   "execution_count": 3,
   "id": "be513210",
   "metadata": {},
   "outputs": [],
   "source": [
    "numbers = {1 , 6 , 4 , 7 , 2}"
   ]
  },
  {
   "cell_type": "code",
   "execution_count": 4,
   "id": "620f4c2f",
   "metadata": {},
   "outputs": [
    {
     "data": {
      "text/plain": [
       "{1, 2, 4, 6, 7}"
      ]
     },
     "execution_count": 4,
     "metadata": {},
     "output_type": "execute_result"
    }
   ],
   "source": [
    "numbers"
   ]
  },
  {
   "cell_type": "markdown",
   "id": "7c9f2a55",
   "metadata": {},
   "source": [
    "### 1.2 将其他数据类型转换为集合："
   ]
  },
  {
   "cell_type": "code",
   "execution_count": 5,
   "id": "b4631d2a",
   "metadata": {},
   "outputs": [
    {
     "data": {
      "text/plain": [
       "{'e', 'l', 'r', 't'}"
      ]
     },
     "execution_count": 5,
     "metadata": {},
     "output_type": "execute_result"
    }
   ],
   "source": [
    "# 转换字符串\n",
    "set('letter')"
   ]
  },
  {
   "cell_type": "code",
   "execution_count": 6,
   "id": "c8ebe635",
   "metadata": {},
   "outputs": [
    {
     "data": {
      "text/plain": [
       "{'Java', 'Python', 'python'}"
      ]
     },
     "execution_count": 6,
     "metadata": {},
     "output_type": "execute_result"
    }
   ],
   "source": [
    "# 转换列表\n",
    "set(['Python' , 'python' , 'Java'])"
   ]
  },
  {
   "cell_type": "code",
   "execution_count": 7,
   "id": "f006971d",
   "metadata": {},
   "outputs": [
    {
     "data": {
      "text/plain": [
       "{'Java', 'Python', 'python'}"
      ]
     },
     "execution_count": 7,
     "metadata": {},
     "output_type": "execute_result"
    }
   ],
   "source": [
    "# 转换元祖\n",
    "set(('Python' , 'python' , 'Java'))"
   ]
  },
  {
   "cell_type": "code",
   "execution_count": 8,
   "id": "c9d28249",
   "metadata": {},
   "outputs": [
    {
     "data": {
      "text/plain": [
       "{'山东', '山西', '河南'}"
      ]
     },
     "execution_count": 8,
     "metadata": {},
     "output_type": "execute_result"
    }
   ],
   "source": [
    "# 转换字典\n",
    "set({'山东':'济南' , '山西':'太原' , '河南':'郑州'})"
   ]
  },
  {
   "cell_type": "markdown",
   "id": "be3a46cd",
   "metadata": {},
   "source": [
    "### 1.3 集合类型也支持成员关系符（in）、长度计算函数（len()）"
   ]
  },
  {
   "cell_type": "code",
   "execution_count": 9,
   "id": "19dd9b0e",
   "metadata": {},
   "outputs": [],
   "source": [
    "province = {'山东', '山西', '河南'}"
   ]
  },
  {
   "cell_type": "code",
   "execution_count": 10,
   "id": "02b4ec74",
   "metadata": {},
   "outputs": [
    {
     "data": {
      "text/plain": [
       "3"
      ]
     },
     "execution_count": 10,
     "metadata": {},
     "output_type": "execute_result"
    }
   ],
   "source": [
    "len(province)"
   ]
  },
  {
   "cell_type": "code",
   "execution_count": 11,
   "id": "28c23ca3",
   "metadata": {},
   "outputs": [
    {
     "data": {
      "text/plain": [
       "True"
      ]
     },
     "execution_count": 11,
     "metadata": {},
     "output_type": "execute_result"
    }
   ],
   "source": [
    "'山东' in province"
   ]
  },
  {
   "cell_type": "markdown",
   "id": "dfd53c2f",
   "metadata": {},
   "source": [
    "## 2.集合的操作函数或方法："
   ]
  },
  {
   "cell_type": "code",
   "execution_count": 12,
   "id": "3f555c05",
   "metadata": {},
   "outputs": [],
   "source": [
    "province = {'山东', '山西', '河南', '湖南'}"
   ]
  },
  {
   "cell_type": "code",
   "execution_count": 13,
   "id": "6204f44f",
   "metadata": {},
   "outputs": [],
   "source": [
    "province.add('福建')"
   ]
  },
  {
   "cell_type": "code",
   "execution_count": 14,
   "id": "41e39547",
   "metadata": {},
   "outputs": [
    {
     "data": {
      "text/plain": [
       "{'山东', '山西', '河南', '湖南', '福建'}"
      ]
     },
     "execution_count": 14,
     "metadata": {},
     "output_type": "execute_result"
    }
   ],
   "source": [
    "province"
   ]
  },
  {
   "cell_type": "code",
   "execution_count": 15,
   "id": "c64007b1",
   "metadata": {},
   "outputs": [
    {
     "data": {
      "text/plain": [
       "'山东'"
      ]
     },
     "execution_count": 15,
     "metadata": {},
     "output_type": "execute_result"
    }
   ],
   "source": [
    "province.pop()"
   ]
  },
  {
   "cell_type": "code",
   "execution_count": 16,
   "id": "284b3a39",
   "metadata": {},
   "outputs": [
    {
     "data": {
      "text/plain": [
       "{'山西', '河南', '湖南', '福建'}"
      ]
     },
     "execution_count": 16,
     "metadata": {},
     "output_type": "execute_result"
    }
   ],
   "source": [
    "province"
   ]
  },
  {
   "cell_type": "code",
   "execution_count": 17,
   "id": "8281726c",
   "metadata": {},
   "outputs": [],
   "source": [
    "province.remove('河南')"
   ]
  },
  {
   "cell_type": "code",
   "execution_count": 18,
   "id": "8a23bbf5",
   "metadata": {},
   "outputs": [
    {
     "data": {
      "text/plain": [
       "{'山西', '湖南', '福建'}"
      ]
     },
     "execution_count": 18,
     "metadata": {},
     "output_type": "execute_result"
    }
   ],
   "source": [
    "province"
   ]
  },
  {
   "cell_type": "code",
   "execution_count": 19,
   "id": "e0b69ae5",
   "metadata": {},
   "outputs": [],
   "source": [
    "province.discard('湖北')"
   ]
  },
  {
   "cell_type": "code",
   "execution_count": 20,
   "id": "fc542563",
   "metadata": {},
   "outputs": [
    {
     "data": {
      "text/plain": [
       "{'山西', '湖南', '福建'}"
      ]
     },
     "execution_count": 20,
     "metadata": {},
     "output_type": "execute_result"
    }
   ],
   "source": [
    "province"
   ]
  },
  {
   "cell_type": "code",
   "execution_count": 21,
   "id": "405504cb",
   "metadata": {},
   "outputs": [
    {
     "data": {
      "text/plain": [
       "False"
      ]
     },
     "execution_count": 21,
     "metadata": {},
     "output_type": "execute_result"
    }
   ],
   "source": [
    "province.isdisjoint({'海南', '湖南'})"
   ]
  },
  {
   "cell_type": "code",
   "execution_count": 22,
   "id": "a81d70d4",
   "metadata": {},
   "outputs": [],
   "source": [
    "province.clear()"
   ]
  },
  {
   "cell_type": "code",
   "execution_count": 23,
   "id": "13471eb6",
   "metadata": {},
   "outputs": [
    {
     "data": {
      "text/plain": [
       "set()"
      ]
     },
     "execution_count": 23,
     "metadata": {},
     "output_type": "execute_result"
    }
   ],
   "source": [
    "province"
   ]
  },
  {
   "cell_type": "markdown",
   "id": "ba1cf1ed",
   "metadata": {},
   "source": [
    "## 3.集合类型的操作符："
   ]
  },
  {
   "cell_type": "code",
   "execution_count": 24,
   "id": "361aba96",
   "metadata": {},
   "outputs": [],
   "source": [
    "set_1 = {'山东', '山西', '河南'}\n",
    "set_2 = {'山东', '西藏', '新疆'}"
   ]
  },
  {
   "cell_type": "code",
   "execution_count": 25,
   "id": "ff4e975e",
   "metadata": {},
   "outputs": [
    {
     "data": {
      "text/plain": [
       "({'山西', '河南'}, {'山西', '河南'})"
      ]
     },
     "execution_count": 25,
     "metadata": {},
     "output_type": "execute_result"
    }
   ],
   "source": [
    "set_1.difference(set_2) , set_1 - set_2"
   ]
  },
  {
   "cell_type": "code",
   "execution_count": 26,
   "id": "bfa90edd",
   "metadata": {},
   "outputs": [
    {
     "data": {
      "text/plain": [
       "({'山东'}, {'山东'})"
      ]
     },
     "execution_count": 26,
     "metadata": {},
     "output_type": "execute_result"
    }
   ],
   "source": [
    "set_1.intersection(set_2) , set_1 & set_2"
   ]
  },
  {
   "cell_type": "code",
   "execution_count": 27,
   "id": "84749e86",
   "metadata": {},
   "outputs": [
    {
     "data": {
      "text/plain": [
       "({'山西', '新疆', '河南', '西藏'}, {'山西', '新疆', '河南', '西藏'})"
      ]
     },
     "execution_count": 27,
     "metadata": {},
     "output_type": "execute_result"
    }
   ],
   "source": [
    "set_1.symmetric_difference(set_2) , set_1 ^ set_2"
   ]
  },
  {
   "cell_type": "code",
   "execution_count": 28,
   "id": "a1b7528e",
   "metadata": {},
   "outputs": [
    {
     "data": {
      "text/plain": [
       "({'山东', '山西', '新疆', '河南', '西藏'}, {'山东', '山西', '新疆', '河南', '西藏'})"
      ]
     },
     "execution_count": 28,
     "metadata": {},
     "output_type": "execute_result"
    }
   ],
   "source": [
    "set_1.union(set_2) , set_1 | set_2"
   ]
  },
  {
   "cell_type": "code",
   "execution_count": 29,
   "id": "458408c2",
   "metadata": {},
   "outputs": [
    {
     "data": {
      "text/plain": [
       "(False, False)"
      ]
     },
     "execution_count": 29,
     "metadata": {},
     "output_type": "execute_result"
    }
   ],
   "source": [
    "set_1.issubset(set_2) , set_1 <= set_2"
   ]
  },
  {
   "cell_type": "code",
   "execution_count": 30,
   "id": "9102f5a0",
   "metadata": {},
   "outputs": [
    {
     "data": {
      "text/plain": [
       "(False, False)"
      ]
     },
     "execution_count": 30,
     "metadata": {},
     "output_type": "execute_result"
    }
   ],
   "source": [
    "set_1.issuperset(set_2) , set_1 >= set_2"
   ]
  },
  {
   "cell_type": "markdown",
   "id": "8179a5f7",
   "metadata": {},
   "source": [
    "## 4.使用frozenset()函数创建不可变集合："
   ]
  },
  {
   "cell_type": "code",
   "execution_count": 31,
   "id": "6f045e00",
   "metadata": {},
   "outputs": [],
   "source": [
    "fs = frozenset(['Python' , 'python' , 'Java'])"
   ]
  },
  {
   "cell_type": "code",
   "execution_count": 32,
   "id": "562bc9ef",
   "metadata": {},
   "outputs": [
    {
     "data": {
      "text/plain": [
       "frozenset({'Java', 'Python', 'python'})"
      ]
     },
     "execution_count": 32,
     "metadata": {},
     "output_type": "execute_result"
    }
   ],
   "source": [
    "fs"
   ]
  },
  {
   "cell_type": "code",
   "execution_count": 33,
   "id": "2dacc700",
   "metadata": {},
   "outputs": [
    {
     "ename": "AttributeError",
     "evalue": "'frozenset' object has no attribute 'add'",
     "output_type": "error",
     "traceback": [
      "\u001b[1;31m---------------------------------------------------------------------------\u001b[0m",
      "\u001b[1;31mAttributeError\u001b[0m                            Traceback (most recent call last)",
      "Input \u001b[1;32mIn [33]\u001b[0m, in \u001b[0;36m<cell line: 1>\u001b[1;34m()\u001b[0m\n\u001b[1;32m----> 1\u001b[0m \u001b[43mfs\u001b[49m\u001b[38;5;241;43m.\u001b[39;49m\u001b[43madd\u001b[49m(\u001b[38;5;124m'\u001b[39m\u001b[38;5;124mC++\u001b[39m\u001b[38;5;124m'\u001b[39m)\n",
      "\u001b[1;31mAttributeError\u001b[0m: 'frozenset' object has no attribute 'add'"
     ]
    }
   ],
   "source": [
    "fs.add('C++')"
   ]
  },
  {
   "cell_type": "code",
   "execution_count": null,
   "id": "86547a2d",
   "metadata": {},
   "outputs": [],
   "source": []
  },
  {
   "cell_type": "code",
   "execution_count": null,
   "id": "93f164f1",
   "metadata": {},
   "outputs": [],
   "source": []
  }
 ],
 "metadata": {
  "kernelspec": {
   "display_name": "Python 3 (ipykernel)",
   "language": "python",
   "name": "python3"
  },
  "language_info": {
   "codemirror_mode": {
    "name": "ipython",
    "version": 3
   },
   "file_extension": ".py",
   "mimetype": "text/x-python",
   "name": "python",
   "nbconvert_exporter": "python",
   "pygments_lexer": "ipython3",
   "version": "3.9.12"
  }
 },
 "nbformat": 4,
 "nbformat_minor": 5
}
