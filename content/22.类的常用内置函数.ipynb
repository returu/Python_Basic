{
 "cells": [
  {
   "cell_type": "markdown",
   "id": "f4a2f229",
   "metadata": {},
   "source": [
    "## 1.isinstance()函数："
   ]
  },
  {
   "cell_type": "code",
   "execution_count": 1,
   "id": "4caf3c75",
   "metadata": {},
   "outputs": [],
   "source": [
    "# 定义类\n",
    "class Student:\n",
    "    pass"
   ]
  },
  {
   "cell_type": "code",
   "execution_count": 2,
   "id": "eb8542da",
   "metadata": {},
   "outputs": [],
   "source": [
    "# 定义类——>父类为Student\n",
    "class MaleStudent(Student):\n",
    "    pass"
   ]
  },
  {
   "cell_type": "code",
   "execution_count": 3,
   "id": "20643d70",
   "metadata": {},
   "outputs": [],
   "source": [
    "# 定义类——>父类为Student\n",
    "class FemaleStudent(Student):\n",
    "    pass"
   ]
  },
  {
   "cell_type": "code",
   "execution_count": 4,
   "id": "c83261b3",
   "metadata": {},
   "outputs": [],
   "source": [
    "# 定义类——>父类为MaleStudent+FemaleStudent\n",
    "class ThisStudent(MaleStudent , FemaleStudent):\n",
    "    pass"
   ]
  },
  {
   "cell_type": "code",
   "execution_count": 5,
   "id": "e79b1531",
   "metadata": {},
   "outputs": [],
   "source": [
    "# 实例化对象\n",
    "one_student = ThisStudent()"
   ]
  },
  {
   "cell_type": "code",
   "execution_count": 6,
   "id": "d0e6b058",
   "metadata": {},
   "outputs": [
    {
     "data": {
      "text/plain": [
       "True"
      ]
     },
     "execution_count": 6,
     "metadata": {},
     "output_type": "execute_result"
    }
   ],
   "source": [
    "# 判断实例\n",
    "isinstance(one_student , MaleStudent)"
   ]
  },
  {
   "cell_type": "code",
   "execution_count": 7,
   "id": "fa2279a3",
   "metadata": {},
   "outputs": [
    {
     "data": {
      "text/plain": [
       "True"
      ]
     },
     "execution_count": 7,
     "metadata": {},
     "output_type": "execute_result"
    }
   ],
   "source": [
    "# 判断实例\n",
    "isinstance(one_student , Student)"
   ]
  },
  {
   "cell_type": "markdown",
   "id": "74038386",
   "metadata": {},
   "source": [
    "## 2.issubclass()函数："
   ]
  },
  {
   "cell_type": "code",
   "execution_count": 8,
   "id": "e5a788f0",
   "metadata": {},
   "outputs": [],
   "source": [
    "# 定义类\n",
    "class Student:\n",
    "    pass"
   ]
  },
  {
   "cell_type": "code",
   "execution_count": 9,
   "id": "dd306ac4",
   "metadata": {},
   "outputs": [],
   "source": [
    "# 定义类——>父类为Student\n",
    "class MaleStudent(Student):\n",
    "    pass"
   ]
  },
  {
   "cell_type": "code",
   "execution_count": 10,
   "id": "b204ba28",
   "metadata": {},
   "outputs": [],
   "source": [
    "# 定义类——>父类为Student\n",
    "class FemaleStudent(Student):\n",
    "    pass"
   ]
  },
  {
   "cell_type": "code",
   "execution_count": 11,
   "id": "a1521e92",
   "metadata": {},
   "outputs": [],
   "source": [
    "# 定义类——>父类为MaleStudent+FemaleStudent\n",
    "class ThisStudent(MaleStudent , FemaleStudent):\n",
    "    pass"
   ]
  },
  {
   "cell_type": "code",
   "execution_count": 12,
   "id": "c9136848",
   "metadata": {},
   "outputs": [
    {
     "data": {
      "text/plain": [
       "True"
      ]
     },
     "execution_count": 12,
     "metadata": {},
     "output_type": "execute_result"
    }
   ],
   "source": [
    "# 判断类\n",
    "issubclass(ThisStudent , MaleStudent)"
   ]
  },
  {
   "cell_type": "code",
   "execution_count": 13,
   "id": "c3c80105",
   "metadata": {},
   "outputs": [
    {
     "data": {
      "text/plain": [
       "True"
      ]
     },
     "execution_count": 13,
     "metadata": {},
     "output_type": "execute_result"
    }
   ],
   "source": [
    "# 判断类\n",
    "issubclass(ThisStudent , Student)"
   ]
  },
  {
   "cell_type": "code",
   "execution_count": 14,
   "id": "40df1f4f",
   "metadata": {},
   "outputs": [
    {
     "data": {
      "text/plain": [
       "False"
      ]
     },
     "execution_count": 14,
     "metadata": {},
     "output_type": "execute_result"
    }
   ],
   "source": [
    "# 判断类\n",
    "issubclass(FemaleStudent , ThisStudent)"
   ]
  },
  {
   "cell_type": "markdown",
   "id": "cb844c5b",
   "metadata": {},
   "source": [
    "## 3.hasattr()函数："
   ]
  },
  {
   "cell_type": "code",
   "execution_count": 15,
   "id": "3994c0fd",
   "metadata": {},
   "outputs": [],
   "source": [
    "# 定义类\n",
    "class Student:\n",
    "    schoolname = \"光明小学\"\n",
    "    \n",
    "    def __init__(self , name , age):\n",
    "        self.name = name\n",
    "        self.age = age\n",
    "        \n",
    "    def get_info(self):\n",
    "        print(self.name)"
   ]
  },
  {
   "cell_type": "code",
   "execution_count": 16,
   "id": "ac3ee5b3",
   "metadata": {},
   "outputs": [],
   "source": [
    "one_student = Student(\"Tom\" , 12)"
   ]
  },
  {
   "cell_type": "code",
   "execution_count": 17,
   "id": "4b08af4e",
   "metadata": {},
   "outputs": [
    {
     "data": {
      "text/plain": [
       "True"
      ]
     },
     "execution_count": 17,
     "metadata": {},
     "output_type": "execute_result"
    }
   ],
   "source": [
    "# 判断类实例中是否含有某个属性\n",
    "hasattr(one_student , \"schoolname\")"
   ]
  },
  {
   "cell_type": "code",
   "execution_count": 18,
   "id": "d25ef6e3",
   "metadata": {},
   "outputs": [
    {
     "data": {
      "text/plain": [
       "True"
      ]
     },
     "execution_count": 18,
     "metadata": {},
     "output_type": "execute_result"
    }
   ],
   "source": [
    "# 判断类实例中是否含有某个属性\n",
    "hasattr(one_student , \"name\")"
   ]
  },
  {
   "cell_type": "code",
   "execution_count": 19,
   "id": "6eca58f0",
   "metadata": {},
   "outputs": [
    {
     "data": {
      "text/plain": [
       "True"
      ]
     },
     "execution_count": 19,
     "metadata": {},
     "output_type": "execute_result"
    }
   ],
   "source": [
    "# 判断类实例中是否含有某个属性\n",
    "hasattr(one_student , \"age\")"
   ]
  },
  {
   "cell_type": "code",
   "execution_count": 20,
   "id": "70f8d11a",
   "metadata": {},
   "outputs": [
    {
     "data": {
      "text/plain": [
       "False"
      ]
     },
     "execution_count": 20,
     "metadata": {},
     "output_type": "execute_result"
    }
   ],
   "source": [
    "# 判断类实例中是否含有某个属性\n",
    "hasattr(one_student , \"type\")"
   ]
  },
  {
   "cell_type": "markdown",
   "id": "aa2a6d02",
   "metadata": {},
   "source": [
    "## 4.getattr()函数："
   ]
  },
  {
   "cell_type": "code",
   "execution_count": 21,
   "id": "4c7f1ef4",
   "metadata": {},
   "outputs": [],
   "source": [
    "# 定义类\n",
    "class Student:\n",
    "    schoolname = \"光明小学\"\n",
    "    \n",
    "    def __init__(self , name , age):\n",
    "        self.name = name\n",
    "        self.age = age\n",
    "        \n",
    "    def get_info(self):\n",
    "        print(self.name)"
   ]
  },
  {
   "cell_type": "code",
   "execution_count": 22,
   "id": "ec6eadae",
   "metadata": {},
   "outputs": [],
   "source": [
    "one_student = Student(\"Tom\" , 12)"
   ]
  },
  {
   "cell_type": "code",
   "execution_count": 23,
   "id": "091ff60a",
   "metadata": {},
   "outputs": [
    {
     "data": {
      "text/plain": [
       "'Tom'"
      ]
     },
     "execution_count": 23,
     "metadata": {},
     "output_type": "execute_result"
    }
   ],
   "source": [
    "# 获取属性信息\n",
    "getattr(one_student , \"name\")"
   ]
  },
  {
   "cell_type": "code",
   "execution_count": 24,
   "id": "faf86b8c",
   "metadata": {},
   "outputs": [
    {
     "data": {
      "text/plain": [
       "12"
      ]
     },
     "execution_count": 24,
     "metadata": {},
     "output_type": "execute_result"
    }
   ],
   "source": [
    "# 获取属性信息\n",
    "getattr(one_student , \"age\")"
   ]
  },
  {
   "cell_type": "code",
   "execution_count": 25,
   "id": "1fda1da2",
   "metadata": {},
   "outputs": [
    {
     "data": {
      "text/plain": [
       "'实例中不含有该属性'"
      ]
     },
     "execution_count": 25,
     "metadata": {},
     "output_type": "execute_result"
    }
   ],
   "source": [
    "# 获取属性信息\n",
    "getattr(one_student , \"type\" , \"实例中不含有该属性\")"
   ]
  },
  {
   "cell_type": "code",
   "execution_count": 26,
   "id": "ea83210e",
   "metadata": {},
   "outputs": [
    {
     "ename": "AttributeError",
     "evalue": "'Student' object has no attribute 'type'",
     "output_type": "error",
     "traceback": [
      "\u001b[1;31m---------------------------------------------------------------------------\u001b[0m",
      "\u001b[1;31mAttributeError\u001b[0m                            Traceback (most recent call last)",
      "Input \u001b[1;32mIn [26]\u001b[0m, in \u001b[0;36m<cell line: 2>\u001b[1;34m()\u001b[0m\n\u001b[0;32m      1\u001b[0m \u001b[38;5;66;03m# 获取属性信息\u001b[39;00m\n\u001b[1;32m----> 2\u001b[0m \u001b[38;5;28;43mgetattr\u001b[39;49m\u001b[43m(\u001b[49m\u001b[43mone_student\u001b[49m\u001b[43m \u001b[49m\u001b[43m,\u001b[49m\u001b[43m \u001b[49m\u001b[38;5;124;43m\"\u001b[39;49m\u001b[38;5;124;43mtype\u001b[39;49m\u001b[38;5;124;43m\"\u001b[39;49m\u001b[43m)\u001b[49m\n",
      "\u001b[1;31mAttributeError\u001b[0m: 'Student' object has no attribute 'type'"
     ]
    }
   ],
   "source": [
    "# 获取属性信息\n",
    "getattr(one_student , \"type\")"
   ]
  },
  {
   "cell_type": "markdown",
   "id": "b2f603a5",
   "metadata": {},
   "source": [
    "## 5.setattr()函数："
   ]
  },
  {
   "cell_type": "code",
   "execution_count": 27,
   "id": "a5f0b0ea",
   "metadata": {},
   "outputs": [],
   "source": [
    "# 定义类\n",
    "class Student:\n",
    "    schoolname = \"光明小学\"\n",
    "    \n",
    "    def __init__(self , name , age):\n",
    "        self.name = name\n",
    "        self.age = age\n",
    "        \n",
    "    def get_info(self):\n",
    "        print(self.name)"
   ]
  },
  {
   "cell_type": "code",
   "execution_count": 28,
   "id": "9ba0a729",
   "metadata": {},
   "outputs": [],
   "source": [
    "one_student = Student(\"Tom\" , 12)"
   ]
  },
  {
   "cell_type": "code",
   "execution_count": 29,
   "id": "31a337cf",
   "metadata": {},
   "outputs": [],
   "source": [
    "# 对属性进行赋值\n",
    "setattr(one_student , \"name\" , \"Lucy\")"
   ]
  },
  {
   "cell_type": "code",
   "execution_count": 30,
   "id": "62dc62a3",
   "metadata": {},
   "outputs": [],
   "source": [
    "# 对属性进行赋值\n",
    "setattr(one_student , \"type\" , \"one\")"
   ]
  },
  {
   "cell_type": "code",
   "execution_count": 31,
   "id": "87764b2a",
   "metadata": {},
   "outputs": [
    {
     "data": {
      "text/plain": [
       "{'name': 'Lucy', 'age': 12, 'type': 'one'}"
      ]
     },
     "execution_count": 31,
     "metadata": {},
     "output_type": "execute_result"
    }
   ],
   "source": [
    "# 获取实例中的所有属性\n",
    "one_student.__dict__"
   ]
  },
  {
   "cell_type": "markdown",
   "id": "53c32eb7",
   "metadata": {},
   "source": [
    "## 6.getattr()函数和setattr()函数混合使用："
   ]
  },
  {
   "cell_type": "code",
   "execution_count": 32,
   "id": "c0cad2b8",
   "metadata": {},
   "outputs": [],
   "source": [
    "# 定义类\n",
    "class Student:\n",
    "    schoolname = \"光明小学\"\n",
    "    \n",
    "    def __init__(self , name , age):\n",
    "        self.name = name\n",
    "        self.age = age\n",
    "        \n",
    "    def get_info(self):\n",
    "        print(self.name)"
   ]
  },
  {
   "cell_type": "code",
   "execution_count": 33,
   "id": "96ac2c81",
   "metadata": {},
   "outputs": [],
   "source": [
    "one_student = Student(\"Tom\" , 12)"
   ]
  },
  {
   "cell_type": "code",
   "execution_count": 34,
   "id": "a11661d7",
   "metadata": {},
   "outputs": [
    {
     "data": {
      "text/plain": [
       "'Lucy'"
      ]
     },
     "execution_count": 34,
     "metadata": {},
     "output_type": "execute_result"
    }
   ],
   "source": [
    "# 获取属性信息\n",
    "getattr(one_student , \"name\" , setattr(one_student , \"name\" , \"Lucy\"))"
   ]
  },
  {
   "cell_type": "code",
   "execution_count": 35,
   "id": "fd82f844",
   "metadata": {},
   "outputs": [
    {
     "data": {
      "text/plain": [
       "'one'"
      ]
     },
     "execution_count": 35,
     "metadata": {},
     "output_type": "execute_result"
    }
   ],
   "source": [
    "# 获取属性信息\n",
    "getattr(one_student , \"type\" , setattr(one_student , \"type\" , \"one\"))"
   ]
  },
  {
   "cell_type": "code",
   "execution_count": null,
   "id": "37883c29",
   "metadata": {},
   "outputs": [],
   "source": []
  },
  {
   "cell_type": "code",
   "execution_count": null,
   "id": "a3d72f5c",
   "metadata": {},
   "outputs": [],
   "source": []
  }
 ],
 "metadata": {
  "kernelspec": {
   "display_name": "Python 3 (ipykernel)",
   "language": "python",
   "name": "python3"
  },
  "language_info": {
   "codemirror_mode": {
    "name": "ipython",
    "version": 3
   },
   "file_extension": ".py",
   "mimetype": "text/x-python",
   "name": "python",
   "nbconvert_exporter": "python",
   "pygments_lexer": "ipython3",
   "version": "3.9.12"
  }
 },
 "nbformat": 4,
 "nbformat_minor": 5
}
