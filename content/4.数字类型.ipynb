{
 "cells": [
  {
   "cell_type": "markdown",
   "id": "81080f13",
   "metadata": {},
   "source": [
    "## 1.整数类型："
   ]
  },
  {
   "cell_type": "code",
   "execution_count": 1,
   "id": "4a40b2f6",
   "metadata": {},
   "outputs": [
    {
     "data": {
      "text/plain": [
       "6"
      ]
     },
     "execution_count": 1,
     "metadata": {},
     "output_type": "execute_result"
    }
   ],
   "source": [
    "# 二进制\n",
    "0b110"
   ]
  },
  {
   "cell_type": "code",
   "execution_count": 2,
   "id": "ca8ddc7d",
   "metadata": {},
   "outputs": [
    {
     "data": {
      "text/plain": [
       "111"
      ]
     },
     "execution_count": 2,
     "metadata": {},
     "output_type": "execute_result"
    }
   ],
   "source": [
    "# 八进制\n",
    "0o157"
   ]
  },
  {
   "cell_type": "code",
   "execution_count": 3,
   "id": "c8c57dfa",
   "metadata": {},
   "outputs": [
    {
     "data": {
      "text/plain": [
       "6575"
      ]
     },
     "execution_count": 3,
     "metadata": {},
     "output_type": "execute_result"
    }
   ],
   "source": [
    "# 十六进制\n",
    "0x19aF"
   ]
  },
  {
   "cell_type": "code",
   "execution_count": null,
   "id": "4100d583",
   "metadata": {},
   "outputs": [],
   "source": []
  },
  {
   "cell_type": "code",
   "execution_count": 4,
   "id": "ca61f6b0",
   "metadata": {},
   "outputs": [
    {
     "data": {
      "text/plain": [
       "'0b110'"
      ]
     },
     "execution_count": 4,
     "metadata": {},
     "output_type": "execute_result"
    }
   ],
   "source": [
    "# 将整数转换成二进制形式的字符串\n",
    "bin(6)"
   ]
  },
  {
   "cell_type": "code",
   "execution_count": 5,
   "id": "246a9922",
   "metadata": {},
   "outputs": [
    {
     "data": {
      "text/plain": [
       "'0o157'"
      ]
     },
     "execution_count": 5,
     "metadata": {},
     "output_type": "execute_result"
    }
   ],
   "source": [
    "# 将整数转换成八进制形式的字符串\n",
    "oct(111)"
   ]
  },
  {
   "cell_type": "code",
   "execution_count": 6,
   "id": "4ed63a25",
   "metadata": {},
   "outputs": [
    {
     "data": {
      "text/plain": [
       "'0x19af'"
      ]
     },
     "execution_count": 6,
     "metadata": {},
     "output_type": "execute_result"
    }
   ],
   "source": [
    "# 将整数转换成十六进制形式的字符串\n",
    "hex(6575)"
   ]
  },
  {
   "cell_type": "code",
   "execution_count": null,
   "id": "3f67cf13",
   "metadata": {},
   "outputs": [],
   "source": []
  },
  {
   "cell_type": "markdown",
   "id": "36569573",
   "metadata": {},
   "source": [
    "## 2.浮点数类型："
   ]
  },
  {
   "cell_type": "code",
   "execution_count": 7,
   "id": "a81dc98b",
   "metadata": {},
   "outputs": [
    {
     "data": {
      "text/plain": [
       "True"
      ]
     },
     "execution_count": 7,
     "metadata": {},
     "output_type": "execute_result"
    }
   ],
   "source": [
    "# 计算浮点数0.0是否等于整数0\n",
    "0 == 0.0"
   ]
  },
  {
   "cell_type": "code",
   "execution_count": 8,
   "id": "39d4ee79",
   "metadata": {},
   "outputs": [
    {
     "data": {
      "text/plain": [
       "sys.float_info(max=1.7976931348623157e+308, max_exp=1024, max_10_exp=308, min=2.2250738585072014e-308, min_exp=-1021, min_10_exp=-307, dig=15, mant_dig=53, epsilon=2.220446049250313e-16, radix=2, rounds=1)"
      ]
     },
     "execution_count": 8,
     "metadata": {},
     "output_type": "execute_result"
    }
   ],
   "source": [
    "# 获取python解释器所运行系统的关于浮点数的各种参数\n",
    "import sys\n",
    "\n",
    "sys.float_info"
   ]
  },
  {
   "cell_type": "code",
   "execution_count": 9,
   "id": "68e0d083",
   "metadata": {},
   "outputs": [
    {
     "data": {
      "text/plain": [
       "3.141592612365479"
      ]
     },
     "execution_count": 9,
     "metadata": {},
     "output_type": "execute_result"
    }
   ],
   "source": [
    "# 根据输出结果可以看到计算机只能提供15个数字（dig=15）的准确性\n",
    "3.1415926123654789"
   ]
  },
  {
   "cell_type": "code",
   "execution_count": 10,
   "id": "835f63d7",
   "metadata": {},
   "outputs": [
    {
     "data": {
      "text/plain": [
       "314159261236547.9"
      ]
     },
     "execution_count": 10,
     "metadata": {},
     "output_type": "execute_result"
    }
   ],
   "source": [
    "314159261236547.89"
   ]
  },
  {
   "cell_type": "code",
   "execution_count": 11,
   "id": "cef736d1",
   "metadata": {},
   "outputs": [
    {
     "data": {
      "text/plain": [
       "9.869604142069354"
      ]
     },
     "execution_count": 11,
     "metadata": {},
     "output_type": "execute_result"
    }
   ],
   "source": [
    "# 使用整数表达浮点数的方法是提高运算精度的基本方法之一\n",
    "3.1415926123654789 * 3.1415926123654789"
   ]
  },
  {
   "cell_type": "code",
   "execution_count": 12,
   "id": "46c0fa0f",
   "metadata": {},
   "outputs": [
    {
     "data": {
      "text/plain": [
       "986960414206935416829734842634521"
      ]
     },
     "execution_count": 12,
     "metadata": {},
     "output_type": "execute_result"
    }
   ],
   "source": [
    "31415926123654789 * 31415926123654789"
   ]
  },
  {
   "cell_type": "code",
   "execution_count": 13,
   "id": "aca4d4e8",
   "metadata": {},
   "outputs": [
    {
     "data": {
      "text/plain": [
       "Decimal('9.869604142069354168297348426')"
      ]
     },
     "execution_count": 13,
     "metadata": {},
     "output_type": "execute_result"
    }
   ],
   "source": [
    "# Python中的decimal库提供了更精确的数字类型Decimal\n",
    "import decimal\n",
    "a = decimal.Decimal('3.1415926123654789') # 需要使用单引号\n",
    "b = decimal.Decimal('3.1415926123654789') # 需要使用单引号\n",
    "\n",
    "a * b"
   ]
  },
  {
   "cell_type": "code",
   "execution_count": 14,
   "id": "fbe47da1",
   "metadata": {},
   "outputs": [
    {
     "data": {
      "text/plain": [
       "Decimal('9.8696041420693541683')"
      ]
     },
     "execution_count": 14,
     "metadata": {},
     "output_type": "execute_result"
    }
   ],
   "source": [
    "decimal.getcontext().prec = 20 # 可以使用getcontext().prec参数自定义浮点数精度\n",
    "a * b"
   ]
  },
  {
   "cell_type": "markdown",
   "id": "a475278e",
   "metadata": {},
   "source": [
    "## 3.复数类型："
   ]
  },
  {
   "cell_type": "code",
   "execution_count": 15,
   "id": "ae613bd2",
   "metadata": {},
   "outputs": [],
   "source": [
    "# 获取复数的实数部分和虚数部分\n",
    "z = 1.23 + 3.45j"
   ]
  },
  {
   "cell_type": "code",
   "execution_count": 16,
   "id": "01962e7a",
   "metadata": {
    "scrolled": true
   },
   "outputs": [
    {
     "data": {
      "text/plain": [
       "1.23"
      ]
     },
     "execution_count": 16,
     "metadata": {},
     "output_type": "execute_result"
    }
   ],
   "source": [
    "z.real"
   ]
  },
  {
   "cell_type": "code",
   "execution_count": 17,
   "id": "736c8de9",
   "metadata": {},
   "outputs": [
    {
     "data": {
      "text/plain": [
       "3.45"
      ]
     },
     "execution_count": 17,
     "metadata": {},
     "output_type": "execute_result"
    }
   ],
   "source": [
    "z.imag"
   ]
  },
  {
   "cell_type": "markdown",
   "id": "7e887215",
   "metadata": {},
   "source": [
    "## 4.数字中的下划线"
   ]
  },
  {
   "cell_type": "code",
   "execution_count": 18,
   "id": "38da0b22",
   "metadata": {},
   "outputs": [],
   "source": [
    "large_number = 21_000_000_000"
   ]
  },
  {
   "cell_type": "code",
   "execution_count": 19,
   "id": "c1feee66",
   "metadata": {},
   "outputs": [
    {
     "data": {
      "text/plain": [
       "21000000000"
      ]
     },
     "execution_count": 19,
     "metadata": {},
     "output_type": "execute_result"
    }
   ],
   "source": [
    "large_number"
   ]
  },
  {
   "cell_type": "code",
   "execution_count": 20,
   "id": "d75d61fa",
   "metadata": {},
   "outputs": [],
   "source": [
    "num = 1_2_3"
   ]
  },
  {
   "cell_type": "code",
   "execution_count": 21,
   "id": "bfa2542e",
   "metadata": {},
   "outputs": [
    {
     "data": {
      "text/plain": [
       "123"
      ]
     },
     "execution_count": 21,
     "metadata": {},
     "output_type": "execute_result"
    }
   ],
   "source": [
    "num"
   ]
  },
  {
   "cell_type": "code",
   "execution_count": 22,
   "id": "02c27689",
   "metadata": {},
   "outputs": [],
   "source": [
    "decimal = 1.2_3_4"
   ]
  },
  {
   "cell_type": "code",
   "execution_count": 23,
   "id": "9b0b28e4",
   "metadata": {},
   "outputs": [
    {
     "data": {
      "text/plain": [
       "1.234"
      ]
     },
     "execution_count": 23,
     "metadata": {},
     "output_type": "execute_result"
    }
   ],
   "source": [
    "decimal"
   ]
  },
  {
   "cell_type": "markdown",
   "id": "41ce7aab",
   "metadata": {},
   "source": [
    "## 5.布尔值"
   ]
  },
  {
   "cell_type": "code",
   "execution_count": 24,
   "id": "54b774dc",
   "metadata": {},
   "outputs": [
    {
     "data": {
      "text/plain": [
       "True"
      ]
     },
     "execution_count": 24,
     "metadata": {},
     "output_type": "execute_result"
    }
   ],
   "source": [
    "# 非零的数被视为True\n",
    "bool(True)"
   ]
  },
  {
   "cell_type": "code",
   "execution_count": 25,
   "id": "16c02ca4",
   "metadata": {},
   "outputs": [
    {
     "data": {
      "text/plain": [
       "True"
      ]
     },
     "execution_count": 25,
     "metadata": {},
     "output_type": "execute_result"
    }
   ],
   "source": [
    "bool(1)"
   ]
  },
  {
   "cell_type": "code",
   "execution_count": 26,
   "id": "7eea46c6",
   "metadata": {},
   "outputs": [
    {
     "data": {
      "text/plain": [
       "True"
      ]
     },
     "execution_count": 26,
     "metadata": {},
     "output_type": "execute_result"
    }
   ],
   "source": [
    "bool(100)"
   ]
  },
  {
   "cell_type": "code",
   "execution_count": 27,
   "id": "bc1aeaaa",
   "metadata": {},
   "outputs": [
    {
     "data": {
      "text/plain": [
       "True"
      ]
     },
     "execution_count": 27,
     "metadata": {},
     "output_type": "execute_result"
    }
   ],
   "source": [
    "bool(-99)"
   ]
  },
  {
   "cell_type": "code",
   "execution_count": 28,
   "id": "2419f9d4",
   "metadata": {},
   "outputs": [
    {
     "data": {
      "text/plain": [
       "False"
      ]
     },
     "execution_count": 28,
     "metadata": {},
     "output_type": "execute_result"
    }
   ],
   "source": [
    "# 值为0的数被视为False\n",
    "bool(False)"
   ]
  },
  {
   "cell_type": "code",
   "execution_count": 29,
   "id": "5147fc5a",
   "metadata": {},
   "outputs": [
    {
     "data": {
      "text/plain": [
       "False"
      ]
     },
     "execution_count": 29,
     "metadata": {},
     "output_type": "execute_result"
    }
   ],
   "source": [
    "bool(0)"
   ]
  },
  {
   "cell_type": "code",
   "execution_count": 30,
   "id": "b0e54b07",
   "metadata": {},
   "outputs": [
    {
     "data": {
      "text/plain": [
       "False"
      ]
     },
     "execution_count": 30,
     "metadata": {},
     "output_type": "execute_result"
    }
   ],
   "source": [
    "bool(0.0)"
   ]
  },
  {
   "cell_type": "code",
   "execution_count": null,
   "id": "8681b77e",
   "metadata": {},
   "outputs": [],
   "source": []
  },
  {
   "cell_type": "code",
   "execution_count": null,
   "id": "6361a65d",
   "metadata": {},
   "outputs": [],
   "source": []
  },
  {
   "cell_type": "code",
   "execution_count": null,
   "id": "857ac4b0",
   "metadata": {},
   "outputs": [],
   "source": []
  },
  {
   "cell_type": "code",
   "execution_count": null,
   "id": "d60f3075",
   "metadata": {},
   "outputs": [],
   "source": []
  }
 ],
 "metadata": {
  "kernelspec": {
   "display_name": "Python 3 (ipykernel)",
   "language": "python",
   "name": "python3"
  },
  "language_info": {
   "codemirror_mode": {
    "name": "ipython",
    "version": 3
   },
   "file_extension": ".py",
   "mimetype": "text/x-python",
   "name": "python",
   "nbconvert_exporter": "python",
   "pygments_lexer": "ipython3",
   "version": "3.9.12"
  }
 },
 "nbformat": 4,
 "nbformat_minor": 5
}
