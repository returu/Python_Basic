{
 "cells": [
  {
   "cell_type": "markdown",
   "id": "486b54eb",
   "metadata": {},
   "source": [
    "## 1.列表的概念："
   ]
  },
  {
   "cell_type": "code",
   "execution_count": 1,
   "id": "dd118958",
   "metadata": {},
   "outputs": [],
   "source": [
    "# 列表（list）还包含0个或者多个对象引用的有序序列，​没有长度限制，内部元素类型可以不同。\n",
    "ls = [1 , 2.34 , 'a' , [54 , \"python\"] , (22 , 55) ]"
   ]
  },
  {
   "cell_type": "code",
   "execution_count": 2,
   "id": "21bb5518",
   "metadata": {},
   "outputs": [
    {
     "data": {
      "text/plain": [
       "[1, 2.34, 'a', [54, 'python'], (22, 55)]"
      ]
     },
     "execution_count": 2,
     "metadata": {},
     "output_type": "execute_result"
    }
   ],
   "source": [
    "ls"
   ]
  },
  {
   "cell_type": "code",
   "execution_count": 3,
   "id": "54ec7163",
   "metadata": {},
   "outputs": [
    {
     "data": {
      "text/plain": [
       "True"
      ]
     },
     "execution_count": 3,
     "metadata": {},
     "output_type": "execute_result"
    }
   ],
   "source": [
    "# 列表属于序列类型，因此也支持成员关系符（in）、长度计算函数（len()）、索引切片等（[n:m]）\n",
    "'a' in ls"
   ]
  },
  {
   "cell_type": "code",
   "execution_count": 4,
   "id": "4d226647",
   "metadata": {},
   "outputs": [
    {
     "data": {
      "text/plain": [
       "5"
      ]
     },
     "execution_count": 4,
     "metadata": {},
     "output_type": "execute_result"
    }
   ],
   "source": [
    "len(ls)"
   ]
  },
  {
   "cell_type": "code",
   "execution_count": 5,
   "id": "8f519195",
   "metadata": {},
   "outputs": [
    {
     "data": {
      "text/plain": [
       "['a', [54, 'python'], (22, 55)]"
      ]
     },
     "execution_count": 5,
     "metadata": {},
     "output_type": "execute_result"
    }
   ],
   "source": [
    "ls[2:]"
   ]
  },
  {
   "cell_type": "code",
   "execution_count": 6,
   "id": "b5942589",
   "metadata": {},
   "outputs": [
    {
     "data": {
      "text/plain": [
       "[54, 'python']"
      ]
     },
     "execution_count": 6,
     "metadata": {},
     "output_type": "execute_result"
    }
   ],
   "source": [
    "ls[2:][1]"
   ]
  },
  {
   "cell_type": "code",
   "execution_count": 7,
   "id": "fab71be4",
   "metadata": {},
   "outputs": [
    {
     "data": {
      "text/plain": [
       "'python'"
      ]
     },
     "execution_count": 7,
     "metadata": {},
     "output_type": "execute_result"
    }
   ],
   "source": [
    "ls[2:][1][1]"
   ]
  },
  {
   "cell_type": "code",
   "execution_count": 8,
   "id": "65b76cea",
   "metadata": {},
   "outputs": [
    {
     "data": {
      "text/plain": [
       "54"
      ]
     },
     "execution_count": 8,
     "metadata": {},
     "output_type": "execute_result"
    }
   ],
   "source": [
    "ls[-2][-2]"
   ]
  },
  {
   "cell_type": "code",
   "execution_count": 9,
   "id": "2fa0c846",
   "metadata": {},
   "outputs": [],
   "source": [
    "# 列表的比较\n",
    "ls1 = [1 , 'a' , '列表']\n",
    "ls2 = [2 , '2' , '5']"
   ]
  },
  {
   "cell_type": "code",
   "execution_count": 10,
   "id": "f7a0af0b",
   "metadata": {},
   "outputs": [
    {
     "data": {
      "text/plain": [
       "False"
      ]
     },
     "execution_count": 10,
     "metadata": {},
     "output_type": "execute_result"
    }
   ],
   "source": [
    "ls1 > ls2"
   ]
  },
  {
   "cell_type": "code",
   "execution_count": 11,
   "id": "b520cda1",
   "metadata": {},
   "outputs": [
    {
     "data": {
      "text/plain": [
       "['P', 'y', 't', 'h', 'o', 'n', '编', '程', '语', '言']"
      ]
     },
     "execution_count": 11,
     "metadata": {},
     "output_type": "execute_result"
    }
   ],
   "source": [
    "# 通过list()函数将其他类型数据（字符串、元祖等）转化为列表\n",
    "list('Python编程语言') # 字符串"
   ]
  },
  {
   "cell_type": "code",
   "execution_count": 12,
   "id": "f73cf3c0",
   "metadata": {},
   "outputs": [
    {
     "data": {
      "text/plain": [
       "[1, 2]"
      ]
     },
     "execution_count": 12,
     "metadata": {},
     "output_type": "execute_result"
    }
   ],
   "source": [
    "list((1 , 2)) # 元祖"
   ]
  },
  {
   "cell_type": "markdown",
   "id": "a9156cdf",
   "metadata": {},
   "source": [
    "## 2.列表的操作："
   ]
  },
  {
   "cell_type": "markdown",
   "id": "c1f87c26",
   "metadata": {},
   "source": [
    "### 2.1 向列表添加元素"
   ]
  },
  {
   "cell_type": "code",
   "execution_count": 13,
   "id": "e005815b",
   "metadata": {},
   "outputs": [],
   "source": [
    "ls = [\"R\" ,  \"SQL\" , \"python\"]"
   ]
  },
  {
   "cell_type": "code",
   "execution_count": 14,
   "id": "ea52f221",
   "metadata": {},
   "outputs": [
    {
     "data": {
      "text/plain": [
       "['R', 'SQL', 'python']"
      ]
     },
     "execution_count": 14,
     "metadata": {},
     "output_type": "execute_result"
    }
   ],
   "source": [
    "ls"
   ]
  },
  {
   "cell_type": "code",
   "execution_count": 15,
   "id": "6982cdf3",
   "metadata": {},
   "outputs": [],
   "source": [
    "# ls.append(x),在列表ls最后增加一个元素x\n",
    "ls.append('JS')"
   ]
  },
  {
   "cell_type": "code",
   "execution_count": 16,
   "id": "f3a96089",
   "metadata": {},
   "outputs": [
    {
     "data": {
      "text/plain": [
       "['R', 'SQL', 'python', 'JS']"
      ]
     },
     "execution_count": 16,
     "metadata": {},
     "output_type": "execute_result"
    }
   ],
   "source": [
    "ls"
   ]
  },
  {
   "cell_type": "code",
   "execution_count": 17,
   "id": "26ceeaa4",
   "metadata": {},
   "outputs": [],
   "source": [
    "# ls.insert(i,x),在列表ls的第i位置增加一个元素x\n",
    "ls.insert(4,'HTML')"
   ]
  },
  {
   "cell_type": "code",
   "execution_count": 18,
   "id": "1e17c343",
   "metadata": {},
   "outputs": [
    {
     "data": {
      "text/plain": [
       "['R', 'SQL', 'python', 'JS', 'HTML']"
      ]
     },
     "execution_count": 18,
     "metadata": {},
     "output_type": "execute_result"
    }
   ],
   "source": [
    "ls"
   ]
  },
  {
   "cell_type": "code",
   "execution_count": 19,
   "id": "13fbf377",
   "metadata": {},
   "outputs": [],
   "source": [
    "# ls += lt或ls.extend(lt),将列表lt的元素增加到列表ls中\n",
    "ls.extend(['java' , 'C++'])"
   ]
  },
  {
   "cell_type": "code",
   "execution_count": 20,
   "id": "90413811",
   "metadata": {},
   "outputs": [
    {
     "data": {
      "text/plain": [
       "['R', 'SQL', 'python', 'JS', 'HTML', 'java', 'C++']"
      ]
     },
     "execution_count": 20,
     "metadata": {},
     "output_type": "execute_result"
    }
   ],
   "source": [
    "ls"
   ]
  },
  {
   "cell_type": "markdown",
   "id": "bdbb5b16",
   "metadata": {},
   "source": [
    "### 2.2 修改列表项"
   ]
  },
  {
   "cell_type": "code",
   "execution_count": 21,
   "id": "1895235b",
   "metadata": {},
   "outputs": [],
   "source": [
    "ls = ['R', 'SQL', 'python', 'JS', 'HTML', 'java', 'C++']"
   ]
  },
  {
   "cell_type": "code",
   "execution_count": 22,
   "id": "aca1767a",
   "metadata": {},
   "outputs": [
    {
     "data": {
      "text/plain": [
       "['R', 'SQL', 'python', 'JS', 'HTML', 'java', 'C++']"
      ]
     },
     "execution_count": 22,
     "metadata": {},
     "output_type": "execute_result"
    }
   ],
   "source": [
    "ls"
   ]
  },
  {
   "cell_type": "code",
   "execution_count": 23,
   "id": "5208e6d5",
   "metadata": {},
   "outputs": [],
   "source": [
    "# ls[i]=x，替换列表ls的第i数据项为x\n",
    "ls[1] = 'CSS'"
   ]
  },
  {
   "cell_type": "code",
   "execution_count": 24,
   "id": "c6487355",
   "metadata": {},
   "outputs": [
    {
     "data": {
      "text/plain": [
       "['R', 'CSS', 'python', 'JS', 'HTML', 'java', 'C++']"
      ]
     },
     "execution_count": 24,
     "metadata": {},
     "output_type": "execute_result"
    }
   ],
   "source": [
    "ls"
   ]
  },
  {
   "cell_type": "code",
   "execution_count": 25,
   "id": "2680d039",
   "metadata": {},
   "outputs": [],
   "source": [
    "# ls[i:j]=lt，用列表lt替换列表ls中第i到第j项（不包括j，下同）数据\n",
    "ls[1:5] = ['Go' , 88]"
   ]
  },
  {
   "cell_type": "code",
   "execution_count": 26,
   "id": "a0aafd36",
   "metadata": {},
   "outputs": [
    {
     "data": {
      "text/plain": [
       "['R', 'Go', 88, 'java', 'C++']"
      ]
     },
     "execution_count": 26,
     "metadata": {},
     "output_type": "execute_result"
    }
   ],
   "source": [
    "ls"
   ]
  },
  {
   "cell_type": "code",
   "execution_count": 27,
   "id": "2641a6f3",
   "metadata": {},
   "outputs": [],
   "source": [
    "# ls[i:j:k]=lt,用列表lt替换列表ls第i到第j项以k为步数的数据\n",
    "ls[1:4:2] = ['c' , 'd']"
   ]
  },
  {
   "cell_type": "code",
   "execution_count": 28,
   "id": "3d8b03de",
   "metadata": {},
   "outputs": [
    {
     "data": {
      "text/plain": [
       "['R', 'c', 88, 'd', 'C++']"
      ]
     },
     "execution_count": 28,
     "metadata": {},
     "output_type": "execute_result"
    }
   ],
   "source": [
    "ls"
   ]
  },
  {
   "cell_type": "markdown",
   "id": "fbf1c368",
   "metadata": {},
   "source": [
    "### 2.3 删除列表项"
   ]
  },
  {
   "cell_type": "code",
   "execution_count": 29,
   "id": "fff9fa79",
   "metadata": {},
   "outputs": [],
   "source": [
    "ls = ['R', 'SQL', 'python', 'JS', 'HTML', 'java', 'C++']"
   ]
  },
  {
   "cell_type": "code",
   "execution_count": 30,
   "id": "8e489708",
   "metadata": {},
   "outputs": [
    {
     "data": {
      "text/plain": [
       "['R', 'SQL', 'python', 'JS', 'HTML', 'java', 'C++']"
      ]
     },
     "execution_count": 30,
     "metadata": {},
     "output_type": "execute_result"
    }
   ],
   "source": [
    "ls"
   ]
  },
  {
   "cell_type": "code",
   "execution_count": 31,
   "id": "10fdd589",
   "metadata": {},
   "outputs": [],
   "source": [
    "# del ls[i:j:k],删除列表ls第i到第j项以k为步数的数据\n",
    "del ls[1:4:2]"
   ]
  },
  {
   "cell_type": "code",
   "execution_count": 32,
   "id": "8d2d4207",
   "metadata": {},
   "outputs": [
    {
     "data": {
      "text/plain": [
       "['R', 'python', 'HTML', 'java', 'C++']"
      ]
     },
     "execution_count": 32,
     "metadata": {},
     "output_type": "execute_result"
    }
   ],
   "source": [
    "ls"
   ]
  },
  {
   "cell_type": "code",
   "execution_count": 33,
   "id": "0351e8e4",
   "metadata": {},
   "outputs": [
    {
     "data": {
      "text/plain": [
       "'HTML'"
      ]
     },
     "execution_count": 33,
     "metadata": {},
     "output_type": "execute_result"
    }
   ],
   "source": [
    "# ls.pop(i),将列表ls中的第i项元素取出并删除该元素\n",
    "ls.pop(2)"
   ]
  },
  {
   "cell_type": "code",
   "execution_count": 34,
   "id": "05336353",
   "metadata": {},
   "outputs": [
    {
     "data": {
      "text/plain": [
       "['R', 'python', 'java', 'C++']"
      ]
     },
     "execution_count": 34,
     "metadata": {},
     "output_type": "execute_result"
    }
   ],
   "source": [
    "ls"
   ]
  },
  {
   "cell_type": "code",
   "execution_count": 35,
   "id": "f9e55d4f",
   "metadata": {},
   "outputs": [],
   "source": [
    "# ls.remove(x),将列表ls中出现的第一个元素x删除\n",
    "ls.remove('java')"
   ]
  },
  {
   "cell_type": "code",
   "execution_count": 36,
   "id": "90f94a96",
   "metadata": {},
   "outputs": [
    {
     "data": {
      "text/plain": [
       "['R', 'python', 'C++']"
      ]
     },
     "execution_count": 36,
     "metadata": {},
     "output_type": "execute_result"
    }
   ],
   "source": [
    "ls"
   ]
  },
  {
   "cell_type": "code",
   "execution_count": 37,
   "id": "e15efdbc",
   "metadata": {},
   "outputs": [],
   "source": [
    "# ls.clear()，删除列表ls中的所有元素\n",
    "ls.clear()"
   ]
  },
  {
   "cell_type": "code",
   "execution_count": 38,
   "id": "111befd6",
   "metadata": {},
   "outputs": [
    {
     "data": {
      "text/plain": [
       "[]"
      ]
     },
     "execution_count": 38,
     "metadata": {},
     "output_type": "execute_result"
    }
   ],
   "source": [
    "ls"
   ]
  },
  {
   "cell_type": "markdown",
   "id": "c86dcfa8",
   "metadata": {},
   "source": [
    "### 2.4 对列表项排序"
   ]
  },
  {
   "cell_type": "code",
   "execution_count": 39,
   "id": "e9fe5c4c",
   "metadata": {},
   "outputs": [],
   "source": [
    "ls = ['R', 'SQL', 'python', 'JS', 'HTML', 'java', 'C++']"
   ]
  },
  {
   "cell_type": "code",
   "execution_count": 40,
   "id": "53968720",
   "metadata": {},
   "outputs": [
    {
     "data": {
      "text/plain": [
       "['R', 'SQL', 'python', 'JS', 'HTML', 'java', 'C++']"
      ]
     },
     "execution_count": 40,
     "metadata": {},
     "output_type": "execute_result"
    }
   ],
   "source": [
    "ls"
   ]
  },
  {
   "cell_type": "code",
   "execution_count": 41,
   "id": "6a3b5f83",
   "metadata": {},
   "outputs": [],
   "source": [
    "# ls.sort()，对列表ls中的元素进行排序\n",
    "ls.sort(reverse=True)"
   ]
  },
  {
   "cell_type": "code",
   "execution_count": 42,
   "id": "dc650732",
   "metadata": {},
   "outputs": [
    {
     "data": {
      "text/plain": [
       "['python', 'java', 'SQL', 'R', 'JS', 'HTML', 'C++']"
      ]
     },
     "execution_count": 42,
     "metadata": {},
     "output_type": "execute_result"
    }
   ],
   "source": [
    "ls"
   ]
  },
  {
   "cell_type": "code",
   "execution_count": 43,
   "id": "fd6900ec",
   "metadata": {},
   "outputs": [],
   "source": [
    "# ls.reverse()，将列表ls中的元素反转\n",
    "ls.reverse()"
   ]
  },
  {
   "cell_type": "code",
   "execution_count": 44,
   "id": "76579750",
   "metadata": {},
   "outputs": [
    {
     "data": {
      "text/plain": [
       "['C++', 'HTML', 'JS', 'R', 'SQL', 'java', 'python']"
      ]
     },
     "execution_count": 44,
     "metadata": {},
     "output_type": "execute_result"
    }
   ],
   "source": [
    "ls"
   ]
  },
  {
   "cell_type": "markdown",
   "id": "2045d996",
   "metadata": {},
   "source": [
    "### 2.5 复制列表"
   ]
  },
  {
   "cell_type": "code",
   "execution_count": 45,
   "id": "8519848f",
   "metadata": {},
   "outputs": [],
   "source": [
    "# 列表中的元素都是不可变值时\n",
    "ls = ['R', 'SQL', 'python']"
   ]
  },
  {
   "cell_type": "code",
   "execution_count": 46,
   "id": "276ebcc6",
   "metadata": {},
   "outputs": [
    {
     "data": {
      "text/plain": [
       "['R', 'SQL', 'python']"
      ]
     },
     "execution_count": 46,
     "metadata": {},
     "output_type": "execute_result"
    }
   ],
   "source": [
    "ls"
   ]
  },
  {
   "cell_type": "code",
   "execution_count": 47,
   "id": "d322f90d",
   "metadata": {},
   "outputs": [],
   "source": [
    "ls_2 = ls.copy()"
   ]
  },
  {
   "cell_type": "code",
   "execution_count": 48,
   "id": "8362d435",
   "metadata": {},
   "outputs": [
    {
     "data": {
      "text/plain": [
       "['R', 'SQL', 'python']"
      ]
     },
     "execution_count": 48,
     "metadata": {},
     "output_type": "execute_result"
    }
   ],
   "source": [
    "ls_2"
   ]
  },
  {
   "cell_type": "code",
   "execution_count": 49,
   "id": "6c94de99",
   "metadata": {},
   "outputs": [],
   "source": [
    "ls[1] = 'JS'"
   ]
  },
  {
   "cell_type": "code",
   "execution_count": 50,
   "id": "605a5468",
   "metadata": {},
   "outputs": [
    {
     "data": {
      "text/plain": [
       "['R', 'JS', 'python']"
      ]
     },
     "execution_count": 50,
     "metadata": {},
     "output_type": "execute_result"
    }
   ],
   "source": [
    "ls"
   ]
  },
  {
   "cell_type": "code",
   "execution_count": 51,
   "id": "8f525059",
   "metadata": {},
   "outputs": [
    {
     "data": {
      "text/plain": [
       "['R', 'SQL', 'python']"
      ]
     },
     "execution_count": 51,
     "metadata": {},
     "output_type": "execute_result"
    }
   ],
   "source": [
    "ls_2"
   ]
  },
  {
   "cell_type": "code",
   "execution_count": null,
   "id": "8619a631",
   "metadata": {},
   "outputs": [],
   "source": []
  },
  {
   "cell_type": "code",
   "execution_count": 52,
   "id": "af7402e7",
   "metadata": {},
   "outputs": [],
   "source": [
    "# 当列表中的元素有可变值时\n",
    "ls = ['R', 'SQL', ['python' , 'CSS']]"
   ]
  },
  {
   "cell_type": "code",
   "execution_count": 53,
   "id": "4fbf907c",
   "metadata": {},
   "outputs": [
    {
     "data": {
      "text/plain": [
       "['R', 'SQL', ['python', 'CSS']]"
      ]
     },
     "execution_count": 53,
     "metadata": {},
     "output_type": "execute_result"
    }
   ],
   "source": [
    "ls"
   ]
  },
  {
   "cell_type": "code",
   "execution_count": 54,
   "id": "636a6ad4",
   "metadata": {},
   "outputs": [],
   "source": [
    "ls_2 = ls.copy()"
   ]
  },
  {
   "cell_type": "code",
   "execution_count": 55,
   "id": "dd9bbf26",
   "metadata": {},
   "outputs": [
    {
     "data": {
      "text/plain": [
       "['R', 'SQL', ['python', 'CSS']]"
      ]
     },
     "execution_count": 55,
     "metadata": {},
     "output_type": "execute_result"
    }
   ],
   "source": [
    "ls_2"
   ]
  },
  {
   "cell_type": "code",
   "execution_count": 56,
   "id": "7cf21e28",
   "metadata": {},
   "outputs": [],
   "source": [
    "ls[2][1] = 'JS'"
   ]
  },
  {
   "cell_type": "code",
   "execution_count": 57,
   "id": "6402222e",
   "metadata": {},
   "outputs": [
    {
     "data": {
      "text/plain": [
       "['R', 'SQL', ['python', 'JS']]"
      ]
     },
     "execution_count": 57,
     "metadata": {},
     "output_type": "execute_result"
    }
   ],
   "source": [
    "ls"
   ]
  },
  {
   "cell_type": "code",
   "execution_count": 58,
   "id": "c1801af7",
   "metadata": {},
   "outputs": [
    {
     "data": {
      "text/plain": [
       "['R', 'SQL', ['python', 'JS']]"
      ]
     },
     "execution_count": 58,
     "metadata": {},
     "output_type": "execute_result"
    }
   ],
   "source": [
    "ls_2"
   ]
  },
  {
   "cell_type": "code",
   "execution_count": null,
   "id": "bd5bd58a",
   "metadata": {},
   "outputs": [],
   "source": []
  },
  {
   "cell_type": "code",
   "execution_count": 59,
   "id": "6de2a829",
   "metadata": {},
   "outputs": [],
   "source": [
    "# 当列表中的元素有可变值时，需要使用deepcopy()函数\n",
    "import copy # 首先需要使用import关键字，引入内置copy模块\n",
    "\n",
    "ls = ['R', 'SQL', ['python' , 'CSS']]"
   ]
  },
  {
   "cell_type": "code",
   "execution_count": 60,
   "id": "e92f0528",
   "metadata": {},
   "outputs": [
    {
     "data": {
      "text/plain": [
       "['R', 'SQL', ['python', 'CSS']]"
      ]
     },
     "execution_count": 60,
     "metadata": {},
     "output_type": "execute_result"
    }
   ],
   "source": [
    "ls"
   ]
  },
  {
   "cell_type": "code",
   "execution_count": 61,
   "id": "6d2ec658",
   "metadata": {},
   "outputs": [],
   "source": [
    "ls_2 = copy.deepcopy(ls)"
   ]
  },
  {
   "cell_type": "code",
   "execution_count": 62,
   "id": "88a22535",
   "metadata": {},
   "outputs": [
    {
     "data": {
      "text/plain": [
       "['R', 'SQL', ['python', 'CSS']]"
      ]
     },
     "execution_count": 62,
     "metadata": {},
     "output_type": "execute_result"
    }
   ],
   "source": [
    "ls_2"
   ]
  },
  {
   "cell_type": "code",
   "execution_count": 63,
   "id": "c7d70459",
   "metadata": {},
   "outputs": [],
   "source": [
    "ls[2][1] = 'JS'"
   ]
  },
  {
   "cell_type": "code",
   "execution_count": 64,
   "id": "55b03dd1",
   "metadata": {},
   "outputs": [
    {
     "data": {
      "text/plain": [
       "['R', 'SQL', ['python', 'JS']]"
      ]
     },
     "execution_count": 64,
     "metadata": {},
     "output_type": "execute_result"
    }
   ],
   "source": [
    "ls"
   ]
  },
  {
   "cell_type": "code",
   "execution_count": 65,
   "id": "6e31afd9",
   "metadata": {},
   "outputs": [
    {
     "data": {
      "text/plain": [
       "['R', 'SQL', ['python', 'CSS']]"
      ]
     },
     "execution_count": 65,
     "metadata": {},
     "output_type": "execute_result"
    }
   ],
   "source": [
    "ls_2"
   ]
  },
  {
   "cell_type": "code",
   "execution_count": null,
   "id": "c310734f",
   "metadata": {},
   "outputs": [],
   "source": []
  },
  {
   "cell_type": "code",
   "execution_count": 66,
   "id": "45d42abc",
   "metadata": {},
   "outputs": [],
   "source": [
    "ls = ['R', 'SQL', 'python']"
   ]
  },
  {
   "cell_type": "code",
   "execution_count": 67,
   "id": "3b8afa93",
   "metadata": {},
   "outputs": [
    {
     "data": {
      "text/plain": [
       "['R', 'SQL', 'python']"
      ]
     },
     "execution_count": 67,
     "metadata": {},
     "output_type": "execute_result"
    }
   ],
   "source": [
    "ls"
   ]
  },
  {
   "cell_type": "code",
   "execution_count": 68,
   "id": "c14a98c1",
   "metadata": {},
   "outputs": [],
   "source": [
    "# ls *= n,更新列表ls，其元素重复n次\n",
    "ls *= 2"
   ]
  },
  {
   "cell_type": "code",
   "execution_count": 69,
   "id": "fc03befc",
   "metadata": {},
   "outputs": [
    {
     "data": {
      "text/plain": [
       "['R', 'SQL', 'python', 'R', 'SQL', 'python']"
      ]
     },
     "execution_count": 69,
     "metadata": {},
     "output_type": "execute_result"
    }
   ],
   "source": [
    "ls"
   ]
  },
  {
   "cell_type": "markdown",
   "id": "08c5761e",
   "metadata": {},
   "source": [
    "### 2.6 查找列表项"
   ]
  },
  {
   "cell_type": "code",
   "execution_count": 70,
   "id": "c7159778",
   "metadata": {},
   "outputs": [],
   "source": [
    "ls = ['R', 'SQL', 'python', 'python']"
   ]
  },
  {
   "cell_type": "code",
   "execution_count": 71,
   "id": "5175887a",
   "metadata": {},
   "outputs": [
    {
     "data": {
      "text/plain": [
       "['R', 'SQL', 'python', 'python']"
      ]
     },
     "execution_count": 71,
     "metadata": {},
     "output_type": "execute_result"
    }
   ],
   "source": [
    "ls"
   ]
  },
  {
   "cell_type": "code",
   "execution_count": 72,
   "id": "862f4554",
   "metadata": {},
   "outputs": [
    {
     "data": {
      "text/plain": [
       "2"
      ]
     },
     "execution_count": 72,
     "metadata": {},
     "output_type": "execute_result"
    }
   ],
   "source": [
    "ls.index('python')"
   ]
  },
  {
   "cell_type": "markdown",
   "id": "76305529",
   "metadata": {},
   "source": [
    "### 2.7 统计列表中某个值出现的次数"
   ]
  },
  {
   "cell_type": "code",
   "execution_count": 73,
   "id": "195f1997",
   "metadata": {},
   "outputs": [],
   "source": [
    "ls = ['R', 'SQL', 'python', 'python']"
   ]
  },
  {
   "cell_type": "code",
   "execution_count": 74,
   "id": "e100e56e",
   "metadata": {},
   "outputs": [
    {
     "data": {
      "text/plain": [
       "['R', 'SQL', 'python', 'python']"
      ]
     },
     "execution_count": 74,
     "metadata": {},
     "output_type": "execute_result"
    }
   ],
   "source": [
    "ls"
   ]
  },
  {
   "cell_type": "code",
   "execution_count": 75,
   "id": "6c5b23ab",
   "metadata": {},
   "outputs": [
    {
     "data": {
      "text/plain": [
       "2"
      ]
     },
     "execution_count": 75,
     "metadata": {},
     "output_type": "execute_result"
    }
   ],
   "source": [
    "ls.count('python')"
   ]
  },
  {
   "cell_type": "code",
   "execution_count": null,
   "id": "0bfc6c7f",
   "metadata": {},
   "outputs": [],
   "source": []
  },
  {
   "cell_type": "code",
   "execution_count": null,
   "id": "9e5c2ed1",
   "metadata": {},
   "outputs": [],
   "source": []
  }
 ],
 "metadata": {
  "kernelspec": {
   "display_name": "Python 3 (ipykernel)",
   "language": "python",
   "name": "python3"
  },
  "language_info": {
   "codemirror_mode": {
    "name": "ipython",
    "version": 3
   },
   "file_extension": ".py",
   "mimetype": "text/x-python",
   "name": "python",
   "nbconvert_exporter": "python",
   "pygments_lexer": "ipython3",
   "version": "3.9.12"
  }
 },
 "nbformat": 4,
 "nbformat_minor": 5
}
